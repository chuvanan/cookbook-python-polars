{
 "cells": [
  {
   "cell_type": "code",
   "execution_count": 1,
   "id": "0622d319-0140-4dda-bfeb-608c2c837880",
   "metadata": {},
   "outputs": [
    {
     "data": {
      "text/plain": [
       "               _                           \n",
       "platform       x86_64-pc-linux-gnu         \n",
       "arch           x86_64                      \n",
       "os             linux-gnu                   \n",
       "system         x86_64, linux-gnu           \n",
       "status                                     \n",
       "major          4                           \n",
       "minor          3.2                         \n",
       "year           2023                        \n",
       "month          10                          \n",
       "day            31                          \n",
       "svn rev        85441                       \n",
       "language       R                           \n",
       "version.string R version 4.3.2 (2023-10-31)\n",
       "nickname       Eye Holes                   "
      ]
     },
     "metadata": {},
     "output_type": "display_data"
    }
   ],
   "source": [
    "R.version"
   ]
  },
  {
   "cell_type": "code",
   "execution_count": 3,
   "id": "2d95fea5-bdcb-4200-8ffe-be6d11cb7a43",
   "metadata": {},
   "outputs": [
    {
     "name": "stderr",
     "output_type": "stream",
     "text": [
      "\u001b[1m\u001b[22mNew names:\n",
      "\u001b[36m•\u001b[39m `` -> `...110`\n",
      "\u001b[1mRows: \u001b[22m\u001b[34m10\u001b[39m \u001b[1mColumns: \u001b[22m\u001b[34m110\u001b[39m\n",
      "\u001b[36m──\u001b[39m \u001b[1mColumn specification\u001b[22m \u001b[36m──────────────────────────────────────────────────────────────────────────────────────────────────────────────────────────────────────────────────────────────────────────────────────────────────────────────────────\u001b[39m\n",
      "\u001b[1mDelimiter:\u001b[22m \",\"\n",
      "\u001b[31mchr\u001b[39m  (19): Tail_Number, Origin, OriginCityName, OriginState, OriginStateFips, OriginStateName, D...\n",
      "\u001b[32mdbl\u001b[39m  (42): Year, Quarter, Month, DayofMonth, DayOfWeek, Reporting_Airline, DOT_ID_Reporting_Airl...\n",
      "\u001b[33mlgl\u001b[39m  (48): FirstDepTime, TotalAddGTime, LongestAddGTime, DivReachedDest, DivActualElapsedTime, D...\n",
      "\u001b[34mdate\u001b[39m  (1): FlightDate\n",
      "\n",
      "\u001b[36mℹ\u001b[39m Use `spec()` to retrieve the full column specification for this data.\n",
      "\u001b[36mℹ\u001b[39m Specify the column types or set `show_col_types = FALSE` to quiet this message.\n"
     ]
    },
    {
     "data": {
      "text/html": [
       "<table class=\"dataframe\">\n",
       "<caption>A tibble: 3 × 10</caption>\n",
       "<thead>\n",
       "\t<tr><th scope=col>Year</th><th scope=col>Quarter</th><th scope=col>Month</th><th scope=col>DayofMonth</th><th scope=col>DayOfWeek</th><th scope=col>FlightDate</th><th scope=col>Reporting_Airline</th><th scope=col>DOT_ID_Reporting_Airline</th><th scope=col>IATA_CODE_Reporting_Airline</th><th scope=col>Tail_Number</th></tr>\n",
       "\t<tr><th scope=col>&lt;dbl&gt;</th><th scope=col>&lt;dbl&gt;</th><th scope=col>&lt;dbl&gt;</th><th scope=col>&lt;dbl&gt;</th><th scope=col>&lt;dbl&gt;</th><th scope=col>&lt;date&gt;</th><th scope=col>&lt;dbl&gt;</th><th scope=col>&lt;dbl&gt;</th><th scope=col>&lt;dbl&gt;</th><th scope=col>&lt;chr&gt;</th></tr>\n",
       "</thead>\n",
       "<tbody>\n",
       "\t<tr><td>2022</td><td>4</td><td>12</td><td>19</td><td>1</td><td>2022-12-19</td><td>9</td><td>20363</td><td>9</td><td>N197PQ</td></tr>\n",
       "\t<tr><td>2022</td><td>4</td><td>12</td><td>20</td><td>2</td><td>2022-12-20</td><td>9</td><td>20363</td><td>9</td><td>N901XJ</td></tr>\n",
       "\t<tr><td>2022</td><td>4</td><td>12</td><td>21</td><td>3</td><td>2022-12-21</td><td>9</td><td>20363</td><td>9</td><td>N306PQ</td></tr>\n",
       "</tbody>\n",
       "</table>\n"
      ],
      "text/latex": [
       "A tibble: 3 × 10\n",
       "\\begin{tabular}{llllllllll}\n",
       " Year & Quarter & Month & DayofMonth & DayOfWeek & FlightDate & Reporting\\_Airline & DOT\\_ID\\_Reporting\\_Airline & IATA\\_CODE\\_Reporting\\_Airline & Tail\\_Number\\\\\n",
       " <dbl> & <dbl> & <dbl> & <dbl> & <dbl> & <date> & <dbl> & <dbl> & <dbl> & <chr>\\\\\n",
       "\\hline\n",
       "\t 2022 & 4 & 12 & 19 & 1 & 2022-12-19 & 9 & 20363 & 9 & N197PQ\\\\\n",
       "\t 2022 & 4 & 12 & 20 & 2 & 2022-12-20 & 9 & 20363 & 9 & N901XJ\\\\\n",
       "\t 2022 & 4 & 12 & 21 & 3 & 2022-12-21 & 9 & 20363 & 9 & N306PQ\\\\\n",
       "\\end{tabular}\n"
      ],
      "text/markdown": [
       "\n",
       "A tibble: 3 × 10\n",
       "\n",
       "| Year &lt;dbl&gt; | Quarter &lt;dbl&gt; | Month &lt;dbl&gt; | DayofMonth &lt;dbl&gt; | DayOfWeek &lt;dbl&gt; | FlightDate &lt;date&gt; | Reporting_Airline &lt;dbl&gt; | DOT_ID_Reporting_Airline &lt;dbl&gt; | IATA_CODE_Reporting_Airline &lt;dbl&gt; | Tail_Number &lt;chr&gt; |\n",
       "|---|---|---|---|---|---|---|---|---|---|\n",
       "| 2022 | 4 | 12 | 19 | 1 | 2022-12-19 | 9 | 20363 | 9 | N197PQ |\n",
       "| 2022 | 4 | 12 | 20 | 2 | 2022-12-20 | 9 | 20363 | 9 | N901XJ |\n",
       "| 2022 | 4 | 12 | 21 | 3 | 2022-12-21 | 9 | 20363 | 9 | N306PQ |\n",
       "\n"
      ],
      "text/plain": [
       "  Year Quarter Month DayofMonth DayOfWeek FlightDate Reporting_Airline DOT_ID_Reporting_Airline\n",
       "1 2022 4       12    19         1         2022-12-19 9                 20363                   \n",
       "2 2022 4       12    20         2         2022-12-20 9                 20363                   \n",
       "3 2022 4       12    21         3         2022-12-21 9                 20363                   \n",
       "  IATA_CODE_Reporting_Airline Tail_Number\n",
       "1 9                           N197PQ     \n",
       "2 9                           N901XJ     \n",
       "3 9                           N306PQ     "
      ]
     },
     "metadata": {},
     "output_type": "display_data"
    }
   ],
   "source": [
    "require(readr)\n",
    "\n",
    "flights_202212 = read_delim(\n",
    "\tfile = \"./data/On_Time_Reporting_Carrier_On_Time_Performance_(1987_present)_2022_12.csv\",\n",
    "\tdelim = \",\",\n",
    "\tcol_names = TRUE,\n",
    "\tguess_max = 1000L,\n",
    "\tn_max = 10\n",
    ")\n",
    "\n",
    "flights_202212[1:3, 1:10]"
   ]
  },
  {
   "cell_type": "code",
   "execution_count": 9,
   "id": "a212a81e-4283-415a-806f-0c3d3fb14d38",
   "metadata": {},
   "outputs": [
    {
     "data": {
      "text/html": [
       "<style>\n",
       ".list-inline {list-style: none; margin:0; padding: 0}\n",
       ".list-inline>li {display: inline-block}\n",
       ".list-inline>li:not(:last-child)::after {content: \"\\00b7\"; padding: 0 .5ex}\n",
       "</style>\n",
       "<ol class=list-inline><li>'/home/anchu/R/x86_64-pc-linux-gnu-library/4.3'</li><li>'/opt/R/4.3.2/lib/R/library'</li></ol>\n"
      ],
      "text/latex": [
       "\\begin{enumerate*}\n",
       "\\item '/home/anchu/R/x86\\_64-pc-linux-gnu-library/4.3'\n",
       "\\item '/opt/R/4.3.2/lib/R/library'\n",
       "\\end{enumerate*}\n"
      ],
      "text/markdown": [
       "1. '/home/anchu/R/x86_64-pc-linux-gnu-library/4.3'\n",
       "2. '/opt/R/4.3.2/lib/R/library'\n",
       "\n",
       "\n"
      ],
      "text/plain": [
       "[1] \"/home/anchu/R/x86_64-pc-linux-gnu-library/4.3\" \"/opt/R/4.3.2/lib/R/library\"                   "
      ]
     },
     "metadata": {},
     "output_type": "display_data"
    }
   ],
   "source": [
    ".libPaths()"
   ]
  }
 ],
 "metadata": {
  "kernelspec": {
   "display_name": "R",
   "language": "R",
   "name": "ir"
  },
  "language_info": {
   "codemirror_mode": "r",
   "file_extension": ".r",
   "mimetype": "text/x-r-source",
   "name": "R",
   "pygments_lexer": "r",
   "version": "4.3.2"
  }
 },
 "nbformat": 4,
 "nbformat_minor": 5
}
