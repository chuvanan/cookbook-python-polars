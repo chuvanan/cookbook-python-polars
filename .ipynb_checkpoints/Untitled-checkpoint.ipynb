{
 "cells": [
  {
   "cell_type": "code",
   "execution_count": 1,
   "id": "d14d1794-6a98-433d-bf51-bc222d3783ac",
   "metadata": {},
   "outputs": [],
   "source": [
    "import polars as pl"
   ]
  },
  {
   "cell_type": "code",
   "execution_count": 2,
   "id": "57ec2e6a-3cdc-43bd-a28c-d756e44121bf",
   "metadata": {},
   "outputs": [],
   "source": [
    "flights = pl.read_csv('./data/flights.csv')"
   ]
  },
  {
   "cell_type": "code",
   "execution_count": 3,
   "id": "ba37e3f6-4936-420d-bdfd-392a147e4754",
   "metadata": {},
   "outputs": [
    {
     "data": {
      "text/html": [
       "<div><style>\n",
       ".dataframe > thead > tr,\n",
       ".dataframe > tbody > tr {\n",
       "  text-align: right;\n",
       "  white-space: pre-wrap;\n",
       "}\n",
       "</style>\n",
       "<small>shape: (5, 110)</small><table border=\"1\" class=\"dataframe\"><thead><tr><th>Year</th><th>Quarter</th><th>Month</th><th>DayofMonth</th><th>DayOfWeek</th><th>FlightDate</th><th>Reporting_Airline</th><th>DOT_ID_Reporting_Airline</th><th>IATA_CODE_Reporting_Airline</th><th>Tail_Number</th><th>Flight_Number_Reporting_Airline</th><th>OriginAirportID</th><th>OriginAirportSeqID</th><th>OriginCityMarketID</th><th>Origin</th><th>OriginCityName</th><th>OriginState</th><th>OriginStateFips</th><th>OriginStateName</th><th>OriginWac</th><th>DestAirportID</th><th>DestAirportSeqID</th><th>DestCityMarketID</th><th>Dest</th><th>DestCityName</th><th>DestState</th><th>DestStateFips</th><th>DestStateName</th><th>DestWac</th><th>CRSDepTime</th><th>DepTime</th><th>DepDelay</th><th>DepDelayMinutes</th><th>DepDel15</th><th>DepartureDelayGroups</th><th>DepTimeBlk</th><th>TaxiOut</th><th>&hellip;</th><th>Div1TotalGTime</th><th>Div1LongestGTime</th><th>Div1WheelsOff</th><th>Div1TailNum</th><th>Div2Airport</th><th>Div2AirportID</th><th>Div2AirportSeqID</th><th>Div2WheelsOn</th><th>Div2TotalGTime</th><th>Div2LongestGTime</th><th>Div2WheelsOff</th><th>Div2TailNum</th><th>Div3Airport</th><th>Div3AirportID</th><th>Div3AirportSeqID</th><th>Div3WheelsOn</th><th>Div3TotalGTime</th><th>Div3LongestGTime</th><th>Div3WheelsOff</th><th>Div3TailNum</th><th>Div4Airport</th><th>Div4AirportID</th><th>Div4AirportSeqID</th><th>Div4WheelsOn</th><th>Div4TotalGTime</th><th>Div4LongestGTime</th><th>Div4WheelsOff</th><th>Div4TailNum</th><th>Div5Airport</th><th>Div5AirportID</th><th>Div5AirportSeqID</th><th>Div5WheelsOn</th><th>Div5TotalGTime</th><th>Div5LongestGTime</th><th>Div5WheelsOff</th><th>Div5TailNum</th><th></th></tr><tr><td>i64</td><td>i64</td><td>i64</td><td>i64</td><td>i64</td><td>str</td><td>str</td><td>i64</td><td>str</td><td>str</td><td>i64</td><td>i64</td><td>i64</td><td>i64</td><td>str</td><td>str</td><td>str</td><td>i64</td><td>str</td><td>i64</td><td>i64</td><td>i64</td><td>i64</td><td>str</td><td>str</td><td>str</td><td>i64</td><td>str</td><td>i64</td><td>i64</td><td>str</td><td>f64</td><td>f64</td><td>f64</td><td>i64</td><td>str</td><td>f64</td><td>&hellip;</td><td>str</td><td>str</td><td>str</td><td>str</td><td>str</td><td>str</td><td>str</td><td>str</td><td>str</td><td>str</td><td>str</td><td>str</td><td>str</td><td>str</td><td>str</td><td>str</td><td>str</td><td>str</td><td>str</td><td>str</td><td>str</td><td>str</td><td>str</td><td>str</td><td>str</td><td>str</td><td>str</td><td>str</td><td>str</td><td>str</td><td>str</td><td>str</td><td>str</td><td>str</td><td>str</td><td>str</td><td>str</td></tr></thead><tbody><tr><td>2022</td><td>1</td><td>1</td><td>14</td><td>5</td><td>&quot;2022-01-14&quot;</td><td>&quot;YX&quot;</td><td>20452</td><td>&quot;YX&quot;</td><td>&quot;N119HQ&quot;</td><td>4879</td><td>11066</td><td>1106606</td><td>31066</td><td>&quot;CMH&quot;</td><td>&quot;Columbus, OH&quot;</td><td>&quot;OH&quot;</td><td>39</td><td>&quot;Ohio&quot;</td><td>44</td><td>11278</td><td>1127805</td><td>30852</td><td>&quot;DCA&quot;</td><td>&quot;Washington, DC…</td><td>&quot;VA&quot;</td><td>51</td><td>&quot;Virginia&quot;</td><td>38</td><td>1224</td><td>&quot;1221&quot;</td><td>-3.0</td><td>0.0</td><td>0.0</td><td>-1</td><td>&quot;1200-1259&quot;</td><td>28.0</td><td>&hellip;</td><td>null</td><td>null</td><td>&quot;&quot;</td><td>&quot;&quot;</td><td>&quot;&quot;</td><td>null</td><td>null</td><td>&quot;&quot;</td><td>null</td><td>null</td><td>&quot;&quot;</td><td>&quot;&quot;</td><td>&quot;&quot;</td><td>null</td><td>null</td><td>&quot;&quot;</td><td>null</td><td>null</td><td>&quot;&quot;</td><td>&quot;&quot;</td><td>&quot;&quot;</td><td>null</td><td>null</td><td>&quot;&quot;</td><td>null</td><td>null</td><td>&quot;&quot;</td><td>&quot;&quot;</td><td>&quot;&quot;</td><td>null</td><td>null</td><td>&quot;&quot;</td><td>null</td><td>null</td><td>&quot;&quot;</td><td>&quot;&quot;</td><td>null</td></tr><tr><td>2022</td><td>1</td><td>1</td><td>15</td><td>6</td><td>&quot;2022-01-15&quot;</td><td>&quot;YX&quot;</td><td>20452</td><td>&quot;YX&quot;</td><td>&quot;N122HQ&quot;</td><td>4879</td><td>11066</td><td>1106606</td><td>31066</td><td>&quot;CMH&quot;</td><td>&quot;Columbus, OH&quot;</td><td>&quot;OH&quot;</td><td>39</td><td>&quot;Ohio&quot;</td><td>44</td><td>11278</td><td>1127805</td><td>30852</td><td>&quot;DCA&quot;</td><td>&quot;Washington, DC…</td><td>&quot;VA&quot;</td><td>51</td><td>&quot;Virginia&quot;</td><td>38</td><td>1224</td><td>&quot;1214&quot;</td><td>-10.0</td><td>0.0</td><td>0.0</td><td>-1</td><td>&quot;1200-1259&quot;</td><td>19.0</td><td>&hellip;</td><td>null</td><td>null</td><td>&quot;&quot;</td><td>&quot;&quot;</td><td>&quot;&quot;</td><td>null</td><td>null</td><td>&quot;&quot;</td><td>null</td><td>null</td><td>&quot;&quot;</td><td>&quot;&quot;</td><td>&quot;&quot;</td><td>null</td><td>null</td><td>&quot;&quot;</td><td>null</td><td>null</td><td>&quot;&quot;</td><td>&quot;&quot;</td><td>&quot;&quot;</td><td>null</td><td>null</td><td>&quot;&quot;</td><td>null</td><td>null</td><td>&quot;&quot;</td><td>&quot;&quot;</td><td>&quot;&quot;</td><td>null</td><td>null</td><td>&quot;&quot;</td><td>null</td><td>null</td><td>&quot;&quot;</td><td>&quot;&quot;</td><td>null</td></tr><tr><td>2022</td><td>1</td><td>1</td><td>16</td><td>7</td><td>&quot;2022-01-16&quot;</td><td>&quot;YX&quot;</td><td>20452</td><td>&quot;YX&quot;</td><td>&quot;N412YX&quot;</td><td>4879</td><td>11066</td><td>1106606</td><td>31066</td><td>&quot;CMH&quot;</td><td>&quot;Columbus, OH&quot;</td><td>&quot;OH&quot;</td><td>39</td><td>&quot;Ohio&quot;</td><td>44</td><td>11278</td><td>1127805</td><td>30852</td><td>&quot;DCA&quot;</td><td>&quot;Washington, DC…</td><td>&quot;VA&quot;</td><td>51</td><td>&quot;Virginia&quot;</td><td>38</td><td>1224</td><td>&quot;1218&quot;</td><td>-6.0</td><td>0.0</td><td>0.0</td><td>-1</td><td>&quot;1200-1259&quot;</td><td>16.0</td><td>&hellip;</td><td>null</td><td>null</td><td>&quot;&quot;</td><td>&quot;&quot;</td><td>&quot;&quot;</td><td>null</td><td>null</td><td>&quot;&quot;</td><td>null</td><td>null</td><td>&quot;&quot;</td><td>&quot;&quot;</td><td>&quot;&quot;</td><td>null</td><td>null</td><td>&quot;&quot;</td><td>null</td><td>null</td><td>&quot;&quot;</td><td>&quot;&quot;</td><td>&quot;&quot;</td><td>null</td><td>null</td><td>&quot;&quot;</td><td>null</td><td>null</td><td>&quot;&quot;</td><td>&quot;&quot;</td><td>&quot;&quot;</td><td>null</td><td>null</td><td>&quot;&quot;</td><td>null</td><td>null</td><td>&quot;&quot;</td><td>&quot;&quot;</td><td>null</td></tr><tr><td>2022</td><td>1</td><td>1</td><td>17</td><td>1</td><td>&quot;2022-01-17&quot;</td><td>&quot;YX&quot;</td><td>20452</td><td>&quot;YX&quot;</td><td>&quot;N405YX&quot;</td><td>4879</td><td>11066</td><td>1106606</td><td>31066</td><td>&quot;CMH&quot;</td><td>&quot;Columbus, OH&quot;</td><td>&quot;OH&quot;</td><td>39</td><td>&quot;Ohio&quot;</td><td>44</td><td>11278</td><td>1127805</td><td>30852</td><td>&quot;DCA&quot;</td><td>&quot;Washington, DC…</td><td>&quot;VA&quot;</td><td>51</td><td>&quot;Virginia&quot;</td><td>38</td><td>1224</td><td>&quot;1217&quot;</td><td>-7.0</td><td>0.0</td><td>0.0</td><td>-1</td><td>&quot;1200-1259&quot;</td><td>32.0</td><td>&hellip;</td><td>null</td><td>null</td><td>&quot;&quot;</td><td>&quot;&quot;</td><td>&quot;&quot;</td><td>null</td><td>null</td><td>&quot;&quot;</td><td>null</td><td>null</td><td>&quot;&quot;</td><td>&quot;&quot;</td><td>&quot;&quot;</td><td>null</td><td>null</td><td>&quot;&quot;</td><td>null</td><td>null</td><td>&quot;&quot;</td><td>&quot;&quot;</td><td>&quot;&quot;</td><td>null</td><td>null</td><td>&quot;&quot;</td><td>null</td><td>null</td><td>&quot;&quot;</td><td>&quot;&quot;</td><td>&quot;&quot;</td><td>null</td><td>null</td><td>&quot;&quot;</td><td>null</td><td>null</td><td>&quot;&quot;</td><td>&quot;&quot;</td><td>null</td></tr><tr><td>2022</td><td>1</td><td>1</td><td>18</td><td>2</td><td>&quot;2022-01-18&quot;</td><td>&quot;YX&quot;</td><td>20452</td><td>&quot;YX&quot;</td><td>&quot;N420YX&quot;</td><td>4879</td><td>11066</td><td>1106606</td><td>31066</td><td>&quot;CMH&quot;</td><td>&quot;Columbus, OH&quot;</td><td>&quot;OH&quot;</td><td>39</td><td>&quot;Ohio&quot;</td><td>44</td><td>11278</td><td>1127805</td><td>30852</td><td>&quot;DCA&quot;</td><td>&quot;Washington, DC…</td><td>&quot;VA&quot;</td><td>51</td><td>&quot;Virginia&quot;</td><td>38</td><td>1224</td><td>&quot;1218&quot;</td><td>-6.0</td><td>0.0</td><td>0.0</td><td>-1</td><td>&quot;1200-1259&quot;</td><td>11.0</td><td>&hellip;</td><td>null</td><td>null</td><td>&quot;&quot;</td><td>&quot;&quot;</td><td>&quot;&quot;</td><td>null</td><td>null</td><td>&quot;&quot;</td><td>null</td><td>null</td><td>&quot;&quot;</td><td>&quot;&quot;</td><td>&quot;&quot;</td><td>null</td><td>null</td><td>&quot;&quot;</td><td>null</td><td>null</td><td>&quot;&quot;</td><td>&quot;&quot;</td><td>&quot;&quot;</td><td>null</td><td>null</td><td>&quot;&quot;</td><td>null</td><td>null</td><td>&quot;&quot;</td><td>&quot;&quot;</td><td>&quot;&quot;</td><td>null</td><td>null</td><td>&quot;&quot;</td><td>null</td><td>null</td><td>&quot;&quot;</td><td>&quot;&quot;</td><td>null</td></tr></tbody></table></div>"
      ],
      "text/plain": [
       "shape: (5, 110)\n",
       "┌──────┬─────────┬───────┬────────────┬───┬──────────────────┬───────────────┬─────────────┬──────┐\n",
       "│ Year ┆ Quarter ┆ Month ┆ DayofMonth ┆ … ┆ Div5LongestGTime ┆ Div5WheelsOff ┆ Div5TailNum ┆      │\n",
       "│ ---  ┆ ---     ┆ ---   ┆ ---        ┆   ┆ ---              ┆ ---           ┆ ---         ┆ ---  │\n",
       "│ i64  ┆ i64     ┆ i64   ┆ i64        ┆   ┆ str              ┆ str           ┆ str         ┆ str  │\n",
       "╞══════╪═════════╪═══════╪════════════╪═══╪══════════════════╪═══════════════╪═════════════╪══════╡\n",
       "│ 2022 ┆ 1       ┆ 1     ┆ 14         ┆ … ┆ null             ┆               ┆             ┆ null │\n",
       "│ 2022 ┆ 1       ┆ 1     ┆ 15         ┆ … ┆ null             ┆               ┆             ┆ null │\n",
       "│ 2022 ┆ 1       ┆ 1     ┆ 16         ┆ … ┆ null             ┆               ┆             ┆ null │\n",
       "│ 2022 ┆ 1       ┆ 1     ┆ 17         ┆ … ┆ null             ┆               ┆             ┆ null │\n",
       "│ 2022 ┆ 1       ┆ 1     ┆ 18         ┆ … ┆ null             ┆               ┆             ┆ null │\n",
       "└──────┴─────────┴───────┴────────────┴───┴──────────────────┴───────────────┴─────────────┴──────┘"
      ]
     },
     "execution_count": 3,
     "metadata": {},
     "output_type": "execute_result"
    }
   ],
   "source": [
    "flights.head()"
   ]
  },
  {
   "cell_type": "code",
   "execution_count": 5,
   "id": "618ae36d-7781-4270-9017-f9416f410f42",
   "metadata": {},
   "outputs": [
    {
     "data": {
      "text/plain": [
       "(999, 110)"
      ]
     },
     "execution_count": 5,
     "metadata": {},
     "output_type": "execute_result"
    }
   ],
   "source": [
    "flights.shape"
   ]
  },
  {
   "cell_type": "code",
   "execution_count": 8,
   "id": "e897d864-fc63-46b0-b190-ff192ab94510",
   "metadata": {},
   "outputs": [
    {
     "data": {
      "text/plain": [
       "polars.series.series.Series"
      ]
     },
     "execution_count": 8,
     "metadata": {},
     "output_type": "execute_result"
    }
   ],
   "source": [
    "type(flights[:, 'Month'])"
   ]
  },
  {
   "cell_type": "code",
   "execution_count": null,
   "id": "37e3f84c-7517-4464-8119-d9d2a3d0d030",
   "metadata": {},
   "outputs": [],
   "source": []
  }
 ],
 "metadata": {
  "kernelspec": {
   "display_name": "Python 3 (ipykernel)",
   "language": "python",
   "name": "python3"
  },
  "language_info": {
   "codemirror_mode": {
    "name": "ipython",
    "version": 3
   },
   "file_extension": ".py",
   "mimetype": "text/x-python",
   "name": "python",
   "nbconvert_exporter": "python",
   "pygments_lexer": "ipython3",
   "version": "3.10.12"
  }
 },
 "nbformat": 4,
 "nbformat_minor": 5
}
