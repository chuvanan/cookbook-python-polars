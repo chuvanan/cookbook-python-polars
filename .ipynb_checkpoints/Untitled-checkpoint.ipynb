{
 "cells": [
  {
   "cell_type": "code",
   "execution_count": 1,
   "id": "d14d1794-6a98-433d-bf51-bc222d3783ac",
   "metadata": {},
   "outputs": [],
   "source": [
    "import polars as pl"
   ]
  },
  {
   "cell_type": "code",
   "execution_count": 2,
   "id": "57ec2e6a-3cdc-43bd-a28c-d756e44121bf",
   "metadata": {},
   "outputs": [],
   "source": [
    "flights = pl.read_csv('./data/flights.csv')"
   ]
  },
  {
   "cell_type": "code",
   "execution_count": 3,
   "id": "ba37e3f6-4936-420d-bdfd-392a147e4754",
   "metadata": {},
   "outputs": [
    {
     "data": {
      "text/html": [
       "<div><style>\n",
       ".dataframe > thead > tr,\n",
       ".dataframe > tbody > tr {\n",
       "  text-align: right;\n",
       "  white-space: pre-wrap;\n",
       "}\n",
       "</style>\n",
       "<small>shape: (5, 110)</small><table border=\"1\" class=\"dataframe\"><thead><tr><th>Year</th><th>Quarter</th><th>Month</th><th>DayofMonth</th><th>DayOfWeek</th><th>FlightDate</th><th>Reporting_Airline</th><th>DOT_ID_Reporting_Airline</th><th>IATA_CODE_Reporting_Airline</th><th>Tail_Number</th><th>Flight_Number_Reporting_Airline</th><th>OriginAirportID</th><th>OriginAirportSeqID</th><th>OriginCityMarketID</th><th>Origin</th><th>OriginCityName</th><th>OriginState</th><th>OriginStateFips</th><th>OriginStateName</th><th>OriginWac</th><th>DestAirportID</th><th>DestAirportSeqID</th><th>DestCityMarketID</th><th>Dest</th><th>DestCityName</th><th>DestState</th><th>DestStateFips</th><th>DestStateName</th><th>DestWac</th><th>CRSDepTime</th><th>DepTime</th><th>DepDelay</th><th>DepDelayMinutes</th><th>DepDel15</th><th>DepartureDelayGroups</th><th>DepTimeBlk</th><th>TaxiOut</th><th>&hellip;</th><th>Div1TotalGTime</th><th>Div1LongestGTime</th><th>Div1WheelsOff</th><th>Div1TailNum</th><th>Div2Airport</th><th>Div2AirportID</th><th>Div2AirportSeqID</th><th>Div2WheelsOn</th><th>Div2TotalGTime</th><th>Div2LongestGTime</th><th>Div2WheelsOff</th><th>Div2TailNum</th><th>Div3Airport</th><th>Div3AirportID</th><th>Div3AirportSeqID</th><th>Div3WheelsOn</th><th>Div3TotalGTime</th><th>Div3LongestGTime</th><th>Div3WheelsOff</th><th>Div3TailNum</th><th>Div4Airport</th><th>Div4AirportID</th><th>Div4AirportSeqID</th><th>Div4WheelsOn</th><th>Div4TotalGTime</th><th>Div4LongestGTime</th><th>Div4WheelsOff</th><th>Div4TailNum</th><th>Div5Airport</th><th>Div5AirportID</th><th>Div5AirportSeqID</th><th>Div5WheelsOn</th><th>Div5TotalGTime</th><th>Div5LongestGTime</th><th>Div5WheelsOff</th><th>Div5TailNum</th><th></th></tr><tr><td>i64</td><td>i64</td><td>i64</td><td>i64</td><td>i64</td><td>str</td><td>str</td><td>i64</td><td>str</td><td>str</td><td>i64</td><td>i64</td><td>i64</td><td>i64</td><td>str</td><td>str</td><td>str</td><td>i64</td><td>str</td><td>i64</td><td>i64</td><td>i64</td><td>i64</td><td>str</td><td>str</td><td>str</td><td>i64</td><td>str</td><td>i64</td><td>i64</td><td>str</td><td>f64</td><td>f64</td><td>f64</td><td>i64</td><td>str</td><td>f64</td><td>&hellip;</td><td>str</td><td>str</td><td>str</td><td>str</td><td>str</td><td>str</td><td>str</td><td>str</td><td>str</td><td>str</td><td>str</td><td>str</td><td>str</td><td>str</td><td>str</td><td>str</td><td>str</td><td>str</td><td>str</td><td>str</td><td>str</td><td>str</td><td>str</td><td>str</td><td>str</td><td>str</td><td>str</td><td>str</td><td>str</td><td>str</td><td>str</td><td>str</td><td>str</td><td>str</td><td>str</td><td>str</td><td>str</td></tr></thead><tbody><tr><td>2022</td><td>1</td><td>1</td><td>14</td><td>5</td><td>&quot;2022-01-14&quot;</td><td>&quot;YX&quot;</td><td>20452</td><td>&quot;YX&quot;</td><td>&quot;N119HQ&quot;</td><td>4879</td><td>11066</td><td>1106606</td><td>31066</td><td>&quot;CMH&quot;</td><td>&quot;Columbus, OH&quot;</td><td>&quot;OH&quot;</td><td>39</td><td>&quot;Ohio&quot;</td><td>44</td><td>11278</td><td>1127805</td><td>30852</td><td>&quot;DCA&quot;</td><td>&quot;Washington, DC…</td><td>&quot;VA&quot;</td><td>51</td><td>&quot;Virginia&quot;</td><td>38</td><td>1224</td><td>&quot;1221&quot;</td><td>-3.0</td><td>0.0</td><td>0.0</td><td>-1</td><td>&quot;1200-1259&quot;</td><td>28.0</td><td>&hellip;</td><td>null</td><td>null</td><td>&quot;&quot;</td><td>&quot;&quot;</td><td>&quot;&quot;</td><td>null</td><td>null</td><td>&quot;&quot;</td><td>null</td><td>null</td><td>&quot;&quot;</td><td>&quot;&quot;</td><td>&quot;&quot;</td><td>null</td><td>null</td><td>&quot;&quot;</td><td>null</td><td>null</td><td>&quot;&quot;</td><td>&quot;&quot;</td><td>&quot;&quot;</td><td>null</td><td>null</td><td>&quot;&quot;</td><td>null</td><td>null</td><td>&quot;&quot;</td><td>&quot;&quot;</td><td>&quot;&quot;</td><td>null</td><td>null</td><td>&quot;&quot;</td><td>null</td><td>null</td><td>&quot;&quot;</td><td>&quot;&quot;</td><td>null</td></tr><tr><td>2022</td><td>1</td><td>1</td><td>15</td><td>6</td><td>&quot;2022-01-15&quot;</td><td>&quot;YX&quot;</td><td>20452</td><td>&quot;YX&quot;</td><td>&quot;N122HQ&quot;</td><td>4879</td><td>11066</td><td>1106606</td><td>31066</td><td>&quot;CMH&quot;</td><td>&quot;Columbus, OH&quot;</td><td>&quot;OH&quot;</td><td>39</td><td>&quot;Ohio&quot;</td><td>44</td><td>11278</td><td>1127805</td><td>30852</td><td>&quot;DCA&quot;</td><td>&quot;Washington, DC…</td><td>&quot;VA&quot;</td><td>51</td><td>&quot;Virginia&quot;</td><td>38</td><td>1224</td><td>&quot;1214&quot;</td><td>-10.0</td><td>0.0</td><td>0.0</td><td>-1</td><td>&quot;1200-1259&quot;</td><td>19.0</td><td>&hellip;</td><td>null</td><td>null</td><td>&quot;&quot;</td><td>&quot;&quot;</td><td>&quot;&quot;</td><td>null</td><td>null</td><td>&quot;&quot;</td><td>null</td><td>null</td><td>&quot;&quot;</td><td>&quot;&quot;</td><td>&quot;&quot;</td><td>null</td><td>null</td><td>&quot;&quot;</td><td>null</td><td>null</td><td>&quot;&quot;</td><td>&quot;&quot;</td><td>&quot;&quot;</td><td>null</td><td>null</td><td>&quot;&quot;</td><td>null</td><td>null</td><td>&quot;&quot;</td><td>&quot;&quot;</td><td>&quot;&quot;</td><td>null</td><td>null</td><td>&quot;&quot;</td><td>null</td><td>null</td><td>&quot;&quot;</td><td>&quot;&quot;</td><td>null</td></tr><tr><td>2022</td><td>1</td><td>1</td><td>16</td><td>7</td><td>&quot;2022-01-16&quot;</td><td>&quot;YX&quot;</td><td>20452</td><td>&quot;YX&quot;</td><td>&quot;N412YX&quot;</td><td>4879</td><td>11066</td><td>1106606</td><td>31066</td><td>&quot;CMH&quot;</td><td>&quot;Columbus, OH&quot;</td><td>&quot;OH&quot;</td><td>39</td><td>&quot;Ohio&quot;</td><td>44</td><td>11278</td><td>1127805</td><td>30852</td><td>&quot;DCA&quot;</td><td>&quot;Washington, DC…</td><td>&quot;VA&quot;</td><td>51</td><td>&quot;Virginia&quot;</td><td>38</td><td>1224</td><td>&quot;1218&quot;</td><td>-6.0</td><td>0.0</td><td>0.0</td><td>-1</td><td>&quot;1200-1259&quot;</td><td>16.0</td><td>&hellip;</td><td>null</td><td>null</td><td>&quot;&quot;</td><td>&quot;&quot;</td><td>&quot;&quot;</td><td>null</td><td>null</td><td>&quot;&quot;</td><td>null</td><td>null</td><td>&quot;&quot;</td><td>&quot;&quot;</td><td>&quot;&quot;</td><td>null</td><td>null</td><td>&quot;&quot;</td><td>null</td><td>null</td><td>&quot;&quot;</td><td>&quot;&quot;</td><td>&quot;&quot;</td><td>null</td><td>null</td><td>&quot;&quot;</td><td>null</td><td>null</td><td>&quot;&quot;</td><td>&quot;&quot;</td><td>&quot;&quot;</td><td>null</td><td>null</td><td>&quot;&quot;</td><td>null</td><td>null</td><td>&quot;&quot;</td><td>&quot;&quot;</td><td>null</td></tr><tr><td>2022</td><td>1</td><td>1</td><td>17</td><td>1</td><td>&quot;2022-01-17&quot;</td><td>&quot;YX&quot;</td><td>20452</td><td>&quot;YX&quot;</td><td>&quot;N405YX&quot;</td><td>4879</td><td>11066</td><td>1106606</td><td>31066</td><td>&quot;CMH&quot;</td><td>&quot;Columbus, OH&quot;</td><td>&quot;OH&quot;</td><td>39</td><td>&quot;Ohio&quot;</td><td>44</td><td>11278</td><td>1127805</td><td>30852</td><td>&quot;DCA&quot;</td><td>&quot;Washington, DC…</td><td>&quot;VA&quot;</td><td>51</td><td>&quot;Virginia&quot;</td><td>38</td><td>1224</td><td>&quot;1217&quot;</td><td>-7.0</td><td>0.0</td><td>0.0</td><td>-1</td><td>&quot;1200-1259&quot;</td><td>32.0</td><td>&hellip;</td><td>null</td><td>null</td><td>&quot;&quot;</td><td>&quot;&quot;</td><td>&quot;&quot;</td><td>null</td><td>null</td><td>&quot;&quot;</td><td>null</td><td>null</td><td>&quot;&quot;</td><td>&quot;&quot;</td><td>&quot;&quot;</td><td>null</td><td>null</td><td>&quot;&quot;</td><td>null</td><td>null</td><td>&quot;&quot;</td><td>&quot;&quot;</td><td>&quot;&quot;</td><td>null</td><td>null</td><td>&quot;&quot;</td><td>null</td><td>null</td><td>&quot;&quot;</td><td>&quot;&quot;</td><td>&quot;&quot;</td><td>null</td><td>null</td><td>&quot;&quot;</td><td>null</td><td>null</td><td>&quot;&quot;</td><td>&quot;&quot;</td><td>null</td></tr><tr><td>2022</td><td>1</td><td>1</td><td>18</td><td>2</td><td>&quot;2022-01-18&quot;</td><td>&quot;YX&quot;</td><td>20452</td><td>&quot;YX&quot;</td><td>&quot;N420YX&quot;</td><td>4879</td><td>11066</td><td>1106606</td><td>31066</td><td>&quot;CMH&quot;</td><td>&quot;Columbus, OH&quot;</td><td>&quot;OH&quot;</td><td>39</td><td>&quot;Ohio&quot;</td><td>44</td><td>11278</td><td>1127805</td><td>30852</td><td>&quot;DCA&quot;</td><td>&quot;Washington, DC…</td><td>&quot;VA&quot;</td><td>51</td><td>&quot;Virginia&quot;</td><td>38</td><td>1224</td><td>&quot;1218&quot;</td><td>-6.0</td><td>0.0</td><td>0.0</td><td>-1</td><td>&quot;1200-1259&quot;</td><td>11.0</td><td>&hellip;</td><td>null</td><td>null</td><td>&quot;&quot;</td><td>&quot;&quot;</td><td>&quot;&quot;</td><td>null</td><td>null</td><td>&quot;&quot;</td><td>null</td><td>null</td><td>&quot;&quot;</td><td>&quot;&quot;</td><td>&quot;&quot;</td><td>null</td><td>null</td><td>&quot;&quot;</td><td>null</td><td>null</td><td>&quot;&quot;</td><td>&quot;&quot;</td><td>&quot;&quot;</td><td>null</td><td>null</td><td>&quot;&quot;</td><td>null</td><td>null</td><td>&quot;&quot;</td><td>&quot;&quot;</td><td>&quot;&quot;</td><td>null</td><td>null</td><td>&quot;&quot;</td><td>null</td><td>null</td><td>&quot;&quot;</td><td>&quot;&quot;</td><td>null</td></tr></tbody></table></div>"
      ],
      "text/plain": [
       "shape: (5, 110)\n",
       "┌──────┬─────────┬───────┬────────────┬───┬──────────────────┬───────────────┬─────────────┬──────┐\n",
       "│ Year ┆ Quarter ┆ Month ┆ DayofMonth ┆ … ┆ Div5LongestGTime ┆ Div5WheelsOff ┆ Div5TailNum ┆      │\n",
       "│ ---  ┆ ---     ┆ ---   ┆ ---        ┆   ┆ ---              ┆ ---           ┆ ---         ┆ ---  │\n",
       "│ i64  ┆ i64     ┆ i64   ┆ i64        ┆   ┆ str              ┆ str           ┆ str         ┆ str  │\n",
       "╞══════╪═════════╪═══════╪════════════╪═══╪══════════════════╪═══════════════╪═════════════╪══════╡\n",
       "│ 2022 ┆ 1       ┆ 1     ┆ 14         ┆ … ┆ null             ┆               ┆             ┆ null │\n",
       "│ 2022 ┆ 1       ┆ 1     ┆ 15         ┆ … ┆ null             ┆               ┆             ┆ null │\n",
       "│ 2022 ┆ 1       ┆ 1     ┆ 16         ┆ … ┆ null             ┆               ┆             ┆ null │\n",
       "│ 2022 ┆ 1       ┆ 1     ┆ 17         ┆ … ┆ null             ┆               ┆             ┆ null │\n",
       "│ 2022 ┆ 1       ┆ 1     ┆ 18         ┆ … ┆ null             ┆               ┆             ┆ null │\n",
       "└──────┴─────────┴───────┴────────────┴───┴──────────────────┴───────────────┴─────────────┴──────┘"
      ]
     },
     "execution_count": 3,
     "metadata": {},
     "output_type": "execute_result"
    }
   ],
   "source": [
    "flights.head()"
   ]
  },
  {
   "cell_type": "code",
   "execution_count": 4,
   "id": "618ae36d-7781-4270-9017-f9416f410f42",
   "metadata": {},
   "outputs": [
    {
     "data": {
      "text/plain": [
       "(999, 110)"
      ]
     },
     "execution_count": 4,
     "metadata": {},
     "output_type": "execute_result"
    }
   ],
   "source": [
    "flights.shape"
   ]
  },
  {
   "cell_type": "code",
   "execution_count": 5,
   "id": "e897d864-fc63-46b0-b190-ff192ab94510",
   "metadata": {},
   "outputs": [
    {
     "data": {
      "text/plain": [
       "polars.series.series.Series"
      ]
     },
     "execution_count": 5,
     "metadata": {},
     "output_type": "execute_result"
    }
   ],
   "source": [
    "type(flights[:, 'Month'])"
   ]
  },
  {
   "cell_type": "code",
   "execution_count": 6,
   "id": "37e3f84c-7517-4464-8119-d9d2a3d0d030",
   "metadata": {},
   "outputs": [],
   "source": [
    "full_flights = pl.read_csv('./data/On_Time_Reporting_Carrier_On_Time_Performance_(1987_present)_2022_1.csv')"
   ]
  },
  {
   "cell_type": "code",
   "execution_count": 7,
   "id": "4430a83a-ae23-448c-bc7c-f807fadb86e1",
   "metadata": {},
   "outputs": [
    {
     "data": {
      "text/plain": [
       "(537902, 110)"
      ]
     },
     "execution_count": 7,
     "metadata": {},
     "output_type": "execute_result"
    }
   ],
   "source": [
    "full_flights.shape"
   ]
  },
  {
   "cell_type": "code",
   "execution_count": 8,
   "id": "6cb430ba-88bd-48a5-8e97-5853a38a5097",
   "metadata": {},
   "outputs": [
    {
     "data": {
      "text/plain": [
       "729.5505456924438"
      ]
     },
     "execution_count": 8,
     "metadata": {},
     "output_type": "execute_result"
    }
   ],
   "source": [
    "full_flights.estimated_size('mb')"
   ]
  },
  {
   "cell_type": "code",
   "execution_count": 9,
   "id": "9619736e-9162-4e3b-ac34-d75e11cd81d9",
   "metadata": {},
   "outputs": [
    {
     "data": {
      "text/html": [
       "<div><style>\n",
       ".dataframe > thead > tr,\n",
       ".dataframe > tbody > tr {\n",
       "  text-align: right;\n",
       "  white-space: pre-wrap;\n",
       "}\n",
       "</style>\n",
       "<small>shape: (9, 111)</small><table border=\"1\" class=\"dataframe\"><thead><tr><th>statistic</th><th>Year</th><th>Quarter</th><th>Month</th><th>DayofMonth</th><th>DayOfWeek</th><th>FlightDate</th><th>Reporting_Airline</th><th>DOT_ID_Reporting_Airline</th><th>IATA_CODE_Reporting_Airline</th><th>Tail_Number</th><th>Flight_Number_Reporting_Airline</th><th>OriginAirportID</th><th>OriginAirportSeqID</th><th>OriginCityMarketID</th><th>Origin</th><th>OriginCityName</th><th>OriginState</th><th>OriginStateFips</th><th>OriginStateName</th><th>OriginWac</th><th>DestAirportID</th><th>DestAirportSeqID</th><th>DestCityMarketID</th><th>Dest</th><th>DestCityName</th><th>DestState</th><th>DestStateFips</th><th>DestStateName</th><th>DestWac</th><th>CRSDepTime</th><th>DepTime</th><th>DepDelay</th><th>DepDelayMinutes</th><th>DepDel15</th><th>DepartureDelayGroups</th><th>DepTimeBlk</th><th>&hellip;</th><th>Div1TotalGTime</th><th>Div1LongestGTime</th><th>Div1WheelsOff</th><th>Div1TailNum</th><th>Div2Airport</th><th>Div2AirportID</th><th>Div2AirportSeqID</th><th>Div2WheelsOn</th><th>Div2TotalGTime</th><th>Div2LongestGTime</th><th>Div2WheelsOff</th><th>Div2TailNum</th><th>Div3Airport</th><th>Div3AirportID</th><th>Div3AirportSeqID</th><th>Div3WheelsOn</th><th>Div3TotalGTime</th><th>Div3LongestGTime</th><th>Div3WheelsOff</th><th>Div3TailNum</th><th>Div4Airport</th><th>Div4AirportID</th><th>Div4AirportSeqID</th><th>Div4WheelsOn</th><th>Div4TotalGTime</th><th>Div4LongestGTime</th><th>Div4WheelsOff</th><th>Div4TailNum</th><th>Div5Airport</th><th>Div5AirportID</th><th>Div5AirportSeqID</th><th>Div5WheelsOn</th><th>Div5TotalGTime</th><th>Div5LongestGTime</th><th>Div5WheelsOff</th><th>Div5TailNum</th><th></th></tr><tr><td>str</td><td>f64</td><td>f64</td><td>f64</td><td>f64</td><td>f64</td><td>str</td><td>str</td><td>f64</td><td>str</td><td>str</td><td>f64</td><td>f64</td><td>f64</td><td>f64</td><td>str</td><td>str</td><td>str</td><td>f64</td><td>str</td><td>f64</td><td>f64</td><td>f64</td><td>f64</td><td>str</td><td>str</td><td>str</td><td>f64</td><td>str</td><td>f64</td><td>f64</td><td>str</td><td>f64</td><td>f64</td><td>f64</td><td>f64</td><td>str</td><td>&hellip;</td><td>str</td><td>str</td><td>str</td><td>str</td><td>str</td><td>str</td><td>str</td><td>str</td><td>str</td><td>str</td><td>str</td><td>str</td><td>str</td><td>str</td><td>str</td><td>str</td><td>str</td><td>str</td><td>str</td><td>str</td><td>str</td><td>str</td><td>str</td><td>str</td><td>str</td><td>str</td><td>str</td><td>str</td><td>str</td><td>str</td><td>str</td><td>str</td><td>str</td><td>str</td><td>str</td><td>str</td><td>str</td></tr></thead><tbody><tr><td>&quot;count&quot;</td><td>537902.0</td><td>537902.0</td><td>537902.0</td><td>537902.0</td><td>537902.0</td><td>&quot;537902&quot;</td><td>&quot;537902&quot;</td><td>537902.0</td><td>&quot;537902&quot;</td><td>&quot;537902&quot;</td><td>537902.0</td><td>537902.0</td><td>537902.0</td><td>537902.0</td><td>&quot;537902&quot;</td><td>&quot;537902&quot;</td><td>&quot;537902&quot;</td><td>537902.0</td><td>&quot;537902&quot;</td><td>537902.0</td><td>537902.0</td><td>537902.0</td><td>537902.0</td><td>&quot;537902&quot;</td><td>&quot;537902&quot;</td><td>&quot;537902&quot;</td><td>537902.0</td><td>&quot;537902&quot;</td><td>537902.0</td><td>537902.0</td><td>&quot;537902&quot;</td><td>504988.0</td><td>504988.0</td><td>504988.0</td><td>504988.0</td><td>&quot;537902&quot;</td><td>&hellip;</td><td>&quot;1240&quot;</td><td>&quot;1240&quot;</td><td>&quot;537902&quot;</td><td>&quot;537902&quot;</td><td>&quot;537902&quot;</td><td>&quot;24&quot;</td><td>&quot;24&quot;</td><td>&quot;537902&quot;</td><td>&quot;24&quot;</td><td>&quot;24&quot;</td><td>&quot;537902&quot;</td><td>&quot;537902&quot;</td><td>&quot;537902&quot;</td><td>&quot;0&quot;</td><td>&quot;0&quot;</td><td>&quot;537902&quot;</td><td>&quot;0&quot;</td><td>&quot;0&quot;</td><td>&quot;537902&quot;</td><td>&quot;537902&quot;</td><td>&quot;537902&quot;</td><td>&quot;0&quot;</td><td>&quot;0&quot;</td><td>&quot;537902&quot;</td><td>&quot;0&quot;</td><td>&quot;0&quot;</td><td>&quot;537902&quot;</td><td>&quot;537902&quot;</td><td>&quot;537902&quot;</td><td>&quot;0&quot;</td><td>&quot;0&quot;</td><td>&quot;537902&quot;</td><td>&quot;0&quot;</td><td>&quot;0&quot;</td><td>&quot;537902&quot;</td><td>&quot;537902&quot;</td><td>&quot;0&quot;</td></tr><tr><td>&quot;null_count&quot;</td><td>0.0</td><td>0.0</td><td>0.0</td><td>0.0</td><td>0.0</td><td>&quot;0&quot;</td><td>&quot;0&quot;</td><td>0.0</td><td>&quot;0&quot;</td><td>&quot;0&quot;</td><td>0.0</td><td>0.0</td><td>0.0</td><td>0.0</td><td>&quot;0&quot;</td><td>&quot;0&quot;</td><td>&quot;0&quot;</td><td>0.0</td><td>&quot;0&quot;</td><td>0.0</td><td>0.0</td><td>0.0</td><td>0.0</td><td>&quot;0&quot;</td><td>&quot;0&quot;</td><td>&quot;0&quot;</td><td>0.0</td><td>&quot;0&quot;</td><td>0.0</td><td>0.0</td><td>&quot;0&quot;</td><td>32914.0</td><td>32914.0</td><td>32914.0</td><td>32914.0</td><td>&quot;0&quot;</td><td>&hellip;</td><td>&quot;536662&quot;</td><td>&quot;536662&quot;</td><td>&quot;0&quot;</td><td>&quot;0&quot;</td><td>&quot;0&quot;</td><td>&quot;537878&quot;</td><td>&quot;537878&quot;</td><td>&quot;0&quot;</td><td>&quot;537878&quot;</td><td>&quot;537878&quot;</td><td>&quot;0&quot;</td><td>&quot;0&quot;</td><td>&quot;0&quot;</td><td>&quot;537902&quot;</td><td>&quot;537902&quot;</td><td>&quot;0&quot;</td><td>&quot;537902&quot;</td><td>&quot;537902&quot;</td><td>&quot;0&quot;</td><td>&quot;0&quot;</td><td>&quot;0&quot;</td><td>&quot;537902&quot;</td><td>&quot;537902&quot;</td><td>&quot;0&quot;</td><td>&quot;537902&quot;</td><td>&quot;537902&quot;</td><td>&quot;0&quot;</td><td>&quot;0&quot;</td><td>&quot;0&quot;</td><td>&quot;537902&quot;</td><td>&quot;537902&quot;</td><td>&quot;0&quot;</td><td>&quot;537902&quot;</td><td>&quot;537902&quot;</td><td>&quot;0&quot;</td><td>&quot;0&quot;</td><td>&quot;537902&quot;</td></tr><tr><td>&quot;mean&quot;</td><td>2022.0</td><td>1.0</td><td>1.0</td><td>15.973075</td><td>4.04321</td><td>null</td><td>null</td><td>19984.078726</td><td>null</td><td>null</td><td>2575.817787</td><td>12654.034047</td><td>1.2654e6</td><td>31752.775615</td><td>null</td><td>null</td><td>null</td><td>27.10319</td><td>null</td><td>54.393135</td><td>12654.072801</td><td>1.2654e6</td><td>31752.61688</td><td>null</td><td>null</td><td>null</td><td>27.103006</td><td>null</td><td>54.393287</td><td>1325.209302</td><td>null</td><td>10.932093</td><td>14.404443</td><td>0.195755</td><td>0.091081</td><td>null</td><td>&hellip;</td><td>null</td><td>null</td><td>null</td><td>null</td><td>null</td><td>null</td><td>null</td><td>null</td><td>null</td><td>null</td><td>null</td><td>null</td><td>null</td><td>null</td><td>null</td><td>null</td><td>null</td><td>null</td><td>null</td><td>null</td><td>null</td><td>null</td><td>null</td><td>null</td><td>null</td><td>null</td><td>null</td><td>null</td><td>null</td><td>null</td><td>null</td><td>null</td><td>null</td><td>null</td><td>null</td><td>null</td><td>null</td></tr><tr><td>&quot;std&quot;</td><td>0.0</td><td>0.0</td><td>0.0</td><td>8.98126</td><td>2.086759</td><td>null</td><td>null</td><td>374.953823</td><td>null</td><td>null</td><td>1769.082616</td><td>1520.65136</td><td>152064.883683</td><td>1315.756656</td><td>null</td><td>null</td><td>null</td><td>16.747404</td><td>null</td><td>26.654833</td><td>1520.652221</td><td>152064.969908</td><td>1315.722602</td><td>null</td><td>null</td><td>null</td><td>16.749207</td><td>null</td><td>26.654237</td><td>484.061932</td><td>null</td><td>50.084461</td><td>48.922464</td><td>0.396781</td><td>2.272564</td><td>null</td><td>&hellip;</td><td>null</td><td>null</td><td>null</td><td>null</td><td>null</td><td>null</td><td>null</td><td>null</td><td>null</td><td>null</td><td>null</td><td>null</td><td>null</td><td>null</td><td>null</td><td>null</td><td>null</td><td>null</td><td>null</td><td>null</td><td>null</td><td>null</td><td>null</td><td>null</td><td>null</td><td>null</td><td>null</td><td>null</td><td>null</td><td>null</td><td>null</td><td>null</td><td>null</td><td>null</td><td>null</td><td>null</td><td>null</td></tr><tr><td>&quot;min&quot;</td><td>2022.0</td><td>1.0</td><td>1.0</td><td>1.0</td><td>1.0</td><td>&quot;2022-01-01&quot;</td><td>&quot;9E&quot;</td><td>19393.0</td><td>&quot;9E&quot;</td><td>&quot;&quot;</td><td>1.0</td><td>10135.0</td><td>1.013506e6</td><td>30070.0</td><td>&quot;ABE&quot;</td><td>&quot;Aberdeen, SD&quot;</td><td>&quot;AK&quot;</td><td>1.0</td><td>&quot;Alabama&quot;</td><td>1.0</td><td>10135.0</td><td>1.013506e6</td><td>30070.0</td><td>&quot;ABE&quot;</td><td>&quot;Aberdeen, SD&quot;</td><td>&quot;AK&quot;</td><td>1.0</td><td>&quot;Alabama&quot;</td><td>1.0</td><td>1.0</td><td>&quot;&quot;</td><td>-52.0</td><td>0.0</td><td>0.0</td><td>-2.0</td><td>&quot;0001-0559&quot;</td><td>&hellip;</td><td>&quot;10.00&quot;</td><td>&quot;10.00&quot;</td><td>&quot;&quot;</td><td>&quot;&quot;</td><td>&quot;&quot;</td><td>&quot;10397&quot;</td><td>&quot;1039707&quot;</td><td>&quot;&quot;</td><td>&quot;105.00&quot;</td><td>&quot;105.00&quot;</td><td>&quot;&quot;</td><td>&quot;&quot;</td><td>&quot;&quot;</td><td>null</td><td>null</td><td>&quot;&quot;</td><td>null</td><td>null</td><td>&quot;&quot;</td><td>&quot;&quot;</td><td>&quot;&quot;</td><td>null</td><td>null</td><td>&quot;&quot;</td><td>null</td><td>null</td><td>&quot;&quot;</td><td>&quot;&quot;</td><td>&quot;&quot;</td><td>null</td><td>null</td><td>&quot;&quot;</td><td>null</td><td>null</td><td>&quot;&quot;</td><td>&quot;&quot;</td><td>null</td></tr><tr><td>&quot;25%&quot;</td><td>2022.0</td><td>1.0</td><td>1.0</td><td>8.0</td><td>2.0</td><td>null</td><td>null</td><td>19790.0</td><td>null</td><td>null</td><td>1100.0</td><td>11292.0</td><td>1.129202e6</td><td>30693.0</td><td>null</td><td>null</td><td>null</td><td>12.0</td><td>null</td><td>33.0</td><td>11292.0</td><td>1.129202e6</td><td>30693.0</td><td>null</td><td>null</td><td>null</td><td>12.0</td><td>null</td><td>33.0</td><td>915.0</td><td>null</td><td>-6.0</td><td>0.0</td><td>0.0</td><td>-1.0</td><td>null</td><td>&hellip;</td><td>null</td><td>null</td><td>null</td><td>null</td><td>null</td><td>null</td><td>null</td><td>null</td><td>null</td><td>null</td><td>null</td><td>null</td><td>null</td><td>null</td><td>null</td><td>null</td><td>null</td><td>null</td><td>null</td><td>null</td><td>null</td><td>null</td><td>null</td><td>null</td><td>null</td><td>null</td><td>null</td><td>null</td><td>null</td><td>null</td><td>null</td><td>null</td><td>null</td><td>null</td><td>null</td><td>null</td><td>null</td></tr><tr><td>&quot;50%&quot;</td><td>2022.0</td><td>1.0</td><td>1.0</td><td>16.0</td><td>4.0</td><td>null</td><td>null</td><td>19977.0</td><td>null</td><td>null</td><td>2209.0</td><td>12889.0</td><td>1.288903e6</td><td>31454.0</td><td>null</td><td>null</td><td>null</td><td>26.0</td><td>null</td><td>44.0</td><td>12889.0</td><td>1.288903e6</td><td>31454.0</td><td>null</td><td>null</td><td>null</td><td>26.0</td><td>null</td><td>44.0</td><td>1316.0</td><td>null</td><td>-2.0</td><td>0.0</td><td>0.0</td><td>-1.0</td><td>null</td><td>&hellip;</td><td>null</td><td>null</td><td>null</td><td>null</td><td>null</td><td>null</td><td>null</td><td>null</td><td>null</td><td>null</td><td>null</td><td>null</td><td>null</td><td>null</td><td>null</td><td>null</td><td>null</td><td>null</td><td>null</td><td>null</td><td>null</td><td>null</td><td>null</td><td>null</td><td>null</td><td>null</td><td>null</td><td>null</td><td>null</td><td>null</td><td>null</td><td>null</td><td>null</td><td>null</td><td>null</td><td>null</td><td>null</td></tr><tr><td>&quot;75%&quot;</td><td>2022.0</td><td>1.0</td><td>1.0</td><td>24.0</td><td>6.0</td><td>null</td><td>null</td><td>20368.0</td><td>null</td><td>null</td><td>3975.0</td><td>14027.0</td><td>1.402702e6</td><td>32467.0</td><td>null</td><td>null</td><td>null</td><td>42.0</td><td>null</td><td>82.0</td><td>14027.0</td><td>1.402702e6</td><td>32467.0</td><td>null</td><td>null</td><td>null</td><td>42.0</td><td>null</td><td>82.0</td><td>1729.0</td><td>null</td><td>8.0</td><td>8.0</td><td>0.0</td><td>0.0</td><td>null</td><td>&hellip;</td><td>null</td><td>null</td><td>null</td><td>null</td><td>null</td><td>null</td><td>null</td><td>null</td><td>null</td><td>null</td><td>null</td><td>null</td><td>null</td><td>null</td><td>null</td><td>null</td><td>null</td><td>null</td><td>null</td><td>null</td><td>null</td><td>null</td><td>null</td><td>null</td><td>null</td><td>null</td><td>null</td><td>null</td><td>null</td><td>null</td><td>null</td><td>null</td><td>null</td><td>null</td><td>null</td><td>null</td><td>null</td></tr><tr><td>&quot;max&quot;</td><td>2022.0</td><td>1.0</td><td>1.0</td><td>31.0</td><td>7.0</td><td>&quot;2022-01-31&quot;</td><td>&quot;YX&quot;</td><td>20452.0</td><td>&quot;YX&quot;</td><td>&quot;NT200&quot;</td><td>8816.0</td><td>16869.0</td><td>1.686901e6</td><td>36101.0</td><td>&quot;YUM&quot;</td><td>&quot;Yuma, AZ&quot;</td><td>&quot;WY&quot;</td><td>78.0</td><td>&quot;Wyoming&quot;</td><td>93.0</td><td>16869.0</td><td>1.686901e6</td><td>36101.0</td><td>&quot;YUM&quot;</td><td>&quot;Yuma, AZ&quot;</td><td>&quot;WY&quot;</td><td>78.0</td><td>&quot;Wyoming&quot;</td><td>93.0</td><td>2359.0</td><td>&quot;2400&quot;</td><td>2512.0</td><td>2512.0</td><td>1.0</td><td>12.0</td><td>&quot;2300-2359&quot;</td><td>&hellip;</td><td>&quot;99.00&quot;</td><td>&quot;99.00&quot;</td><td>&quot;2400&quot;</td><td>&quot;N998AT&quot;</td><td>&quot;SNA&quot;</td><td>&quot;14908&quot;</td><td>&quot;1490803&quot;</td><td>&quot;2346&quot;</td><td>&quot;9.00&quot;</td><td>&quot;9.00&quot;</td><td>&quot;1616&quot;</td><td>&quot;N808AW&quot;</td><td>&quot;&quot;</td><td>null</td><td>null</td><td>&quot;&quot;</td><td>null</td><td>null</td><td>&quot;&quot;</td><td>&quot;&quot;</td><td>&quot;&quot;</td><td>null</td><td>null</td><td>&quot;&quot;</td><td>null</td><td>null</td><td>&quot;&quot;</td><td>&quot;&quot;</td><td>&quot;&quot;</td><td>null</td><td>null</td><td>&quot;&quot;</td><td>null</td><td>null</td><td>&quot;&quot;</td><td>&quot;&quot;</td><td>null</td></tr></tbody></table></div>"
      ],
      "text/plain": [
       "shape: (9, 111)\n",
       "┌────────────┬──────────┬──────────┬──────────┬───┬─────────────┬────────────┬────────────┬────────┐\n",
       "│ statistic  ┆ Year     ┆ Quarter  ┆ Month    ┆ … ┆ Div5Longest ┆ Div5Wheels ┆ Div5TailNu ┆        │\n",
       "│ ---        ┆ ---      ┆ ---      ┆ ---      ┆   ┆ GTime       ┆ Off        ┆ m          ┆ ---    │\n",
       "│ str        ┆ f64      ┆ f64      ┆ f64      ┆   ┆ ---         ┆ ---        ┆ ---        ┆ str    │\n",
       "│            ┆          ┆          ┆          ┆   ┆ str         ┆ str        ┆ str        ┆        │\n",
       "╞════════════╪══════════╪══════════╪══════════╪═══╪═════════════╪════════════╪════════════╪════════╡\n",
       "│ count      ┆ 537902.0 ┆ 537902.0 ┆ 537902.0 ┆ … ┆ 0           ┆ 537902     ┆ 537902     ┆ 0      │\n",
       "│ null_count ┆ 0.0      ┆ 0.0      ┆ 0.0      ┆ … ┆ 537902      ┆ 0          ┆ 0          ┆ 537902 │\n",
       "│ mean       ┆ 2022.0   ┆ 1.0      ┆ 1.0      ┆ … ┆ null        ┆ null       ┆ null       ┆ null   │\n",
       "│ std        ┆ 0.0      ┆ 0.0      ┆ 0.0      ┆ … ┆ null        ┆ null       ┆ null       ┆ null   │\n",
       "│ min        ┆ 2022.0   ┆ 1.0      ┆ 1.0      ┆ … ┆ null        ┆            ┆            ┆ null   │\n",
       "│ 25%        ┆ 2022.0   ┆ 1.0      ┆ 1.0      ┆ … ┆ null        ┆ null       ┆ null       ┆ null   │\n",
       "│ 50%        ┆ 2022.0   ┆ 1.0      ┆ 1.0      ┆ … ┆ null        ┆ null       ┆ null       ┆ null   │\n",
       "│ 75%        ┆ 2022.0   ┆ 1.0      ┆ 1.0      ┆ … ┆ null        ┆ null       ┆ null       ┆ null   │\n",
       "│ max        ┆ 2022.0   ┆ 1.0      ┆ 1.0      ┆ … ┆ null        ┆            ┆            ┆ null   │\n",
       "└────────────┴──────────┴──────────┴──────────┴───┴─────────────┴────────────┴────────────┴────────┘"
      ]
     },
     "execution_count": 9,
     "metadata": {},
     "output_type": "execute_result"
    }
   ],
   "source": [
    "full_flights.describe()"
   ]
  },
  {
   "cell_type": "code",
   "execution_count": 10,
   "id": "56841c42-9e1d-4f15-85a9-8079d9a53b34",
   "metadata": {},
   "outputs": [
    {
     "data": {
      "text/html": [
       "<div><style>\n",
       ".dataframe > thead > tr,\n",
       ".dataframe > tbody > tr {\n",
       "  text-align: right;\n",
       "  white-space: pre-wrap;\n",
       "}\n",
       "</style>\n",
       "<small>shape: (1, 2)</small><table border=\"1\" class=\"dataframe\"><thead><tr><th>Year</th><th>count</th></tr><tr><td>i64</td><td>u32</td></tr></thead><tbody><tr><td>2022</td><td>537902</td></tr></tbody></table></div>"
      ],
      "text/plain": [
       "shape: (1, 2)\n",
       "┌──────┬────────┐\n",
       "│ Year ┆ count  │\n",
       "│ ---  ┆ ---    │\n",
       "│ i64  ┆ u32    │\n",
       "╞══════╪════════╡\n",
       "│ 2022 ┆ 537902 │\n",
       "└──────┴────────┘"
      ]
     },
     "execution_count": 10,
     "metadata": {},
     "output_type": "execute_result"
    }
   ],
   "source": [
    "full_flights['Year'].value_counts()"
   ]
  },
  {
   "cell_type": "code",
   "execution_count": 11,
   "id": "e4e72a15-f34e-4ce8-a0ff-8c43887a1367",
   "metadata": {},
   "outputs": [
    {
     "data": {
      "text/html": [
       "<div><style>\n",
       ".dataframe > thead > tr,\n",
       ".dataframe > tbody > tr {\n",
       "  text-align: right;\n",
       "  white-space: pre-wrap;\n",
       "}\n",
       "</style>\n",
       "<small>shape: (1, 2)</small><table border=\"1\" class=\"dataframe\"><thead><tr><th>Quarter</th><th>count</th></tr><tr><td>i64</td><td>u32</td></tr></thead><tbody><tr><td>1</td><td>537902</td></tr></tbody></table></div>"
      ],
      "text/plain": [
       "shape: (1, 2)\n",
       "┌─────────┬────────┐\n",
       "│ Quarter ┆ count  │\n",
       "│ ---     ┆ ---    │\n",
       "│ i64     ┆ u32    │\n",
       "╞═════════╪════════╡\n",
       "│ 1       ┆ 537902 │\n",
       "└─────────┴────────┘"
      ]
     },
     "execution_count": 11,
     "metadata": {},
     "output_type": "execute_result"
    }
   ],
   "source": [
    "full_flights['Quarter'].value_counts()"
   ]
  },
  {
   "cell_type": "code",
   "execution_count": 12,
   "id": "689ec4d3-e1e7-4eb3-8ecf-abc33aeb3ead",
   "metadata": {},
   "outputs": [
    {
     "data": {
      "text/html": [
       "<div><style>\n",
       ".dataframe > thead > tr,\n",
       ".dataframe > tbody > tr {\n",
       "  text-align: right;\n",
       "  white-space: pre-wrap;\n",
       "}\n",
       "</style>\n",
       "<small>shape: (1, 2)</small><table border=\"1\" class=\"dataframe\"><thead><tr><th>Month</th><th>count</th></tr><tr><td>i64</td><td>u32</td></tr></thead><tbody><tr><td>1</td><td>537902</td></tr></tbody></table></div>"
      ],
      "text/plain": [
       "shape: (1, 2)\n",
       "┌───────┬────────┐\n",
       "│ Month ┆ count  │\n",
       "│ ---   ┆ ---    │\n",
       "│ i64   ┆ u32    │\n",
       "╞═══════╪════════╡\n",
       "│ 1     ┆ 537902 │\n",
       "└───────┴────────┘"
      ]
     },
     "execution_count": 12,
     "metadata": {},
     "output_type": "execute_result"
    }
   ],
   "source": [
    "full_flights['Month'].value_counts()"
   ]
  },
  {
   "cell_type": "code",
   "execution_count": 13,
   "id": "85d3f4ac-ef7b-4482-bc1b-07ace7824449",
   "metadata": {},
   "outputs": [
    {
     "data": {
      "text/html": [
       "<div><style>\n",
       ".dataframe > thead > tr,\n",
       ".dataframe > tbody > tr {\n",
       "  text-align: right;\n",
       "  white-space: pre-wrap;\n",
       "}\n",
       "</style>\n",
       "<small>shape: (10, 2)</small><table border=\"1\" class=\"dataframe\"><thead><tr><th>DayofMonth</th><th>count</th></tr><tr><td>i64</td><td>u32</td></tr></thead><tbody><tr><td>1</td><td>15852</td></tr><tr><td>2</td><td>19058</td></tr><tr><td>3</td><td>19216</td></tr><tr><td>4</td><td>16965</td></tr><tr><td>5</td><td>16863</td></tr><tr><td>6</td><td>18235</td></tr><tr><td>7</td><td>18241</td></tr><tr><td>8</td><td>15303</td></tr><tr><td>9</td><td>18157</td></tr><tr><td>10</td><td>17897</td></tr></tbody></table></div>"
      ],
      "text/plain": [
       "shape: (10, 2)\n",
       "┌────────────┬───────┐\n",
       "│ DayofMonth ┆ count │\n",
       "│ ---        ┆ ---   │\n",
       "│ i64        ┆ u32   │\n",
       "╞════════════╪═══════╡\n",
       "│ 1          ┆ 15852 │\n",
       "│ 2          ┆ 19058 │\n",
       "│ 3          ┆ 19216 │\n",
       "│ 4          ┆ 16965 │\n",
       "│ 5          ┆ 16863 │\n",
       "│ 6          ┆ 18235 │\n",
       "│ 7          ┆ 18241 │\n",
       "│ 8          ┆ 15303 │\n",
       "│ 9          ┆ 18157 │\n",
       "│ 10         ┆ 17897 │\n",
       "└────────────┴───────┘"
      ]
     },
     "execution_count": 13,
     "metadata": {},
     "output_type": "execute_result"
    }
   ],
   "source": [
    "full_flights['DayofMonth'].value_counts().sort('DayofMonth').head(10)"
   ]
  },
  {
   "cell_type": "code",
   "execution_count": 14,
   "id": "488c02f8-4103-4ba6-9106-aedfa7435f48",
   "metadata": {},
   "outputs": [
    {
     "data": {
      "text/html": [
       "<div><style>\n",
       ".dataframe > thead > tr,\n",
       ".dataframe > tbody > tr {\n",
       "  text-align: right;\n",
       "  white-space: pre-wrap;\n",
       "}\n",
       "</style>\n",
       "<small>shape: (5, 110)</small><table border=\"1\" class=\"dataframe\"><thead><tr><th>Year</th><th>Quarter</th><th>Month</th><th>DayofMonth</th><th>DayOfWeek</th><th>FlightDate</th><th>Reporting_Airline</th><th>DOT_ID_Reporting_Airline</th><th>IATA_CODE_Reporting_Airline</th><th>Tail_Number</th><th>Flight_Number_Reporting_Airline</th><th>OriginAirportID</th><th>OriginAirportSeqID</th><th>OriginCityMarketID</th><th>Origin</th><th>OriginCityName</th><th>OriginState</th><th>OriginStateFips</th><th>OriginStateName</th><th>OriginWac</th><th>DestAirportID</th><th>DestAirportSeqID</th><th>DestCityMarketID</th><th>Dest</th><th>DestCityName</th><th>DestState</th><th>DestStateFips</th><th>DestStateName</th><th>DestWac</th><th>CRSDepTime</th><th>DepTime</th><th>DepDelay</th><th>DepDelayMinutes</th><th>DepDel15</th><th>DepartureDelayGroups</th><th>DepTimeBlk</th><th>TaxiOut</th><th>&hellip;</th><th>Div1TotalGTime</th><th>Div1LongestGTime</th><th>Div1WheelsOff</th><th>Div1TailNum</th><th>Div2Airport</th><th>Div2AirportID</th><th>Div2AirportSeqID</th><th>Div2WheelsOn</th><th>Div2TotalGTime</th><th>Div2LongestGTime</th><th>Div2WheelsOff</th><th>Div2TailNum</th><th>Div3Airport</th><th>Div3AirportID</th><th>Div3AirportSeqID</th><th>Div3WheelsOn</th><th>Div3TotalGTime</th><th>Div3LongestGTime</th><th>Div3WheelsOff</th><th>Div3TailNum</th><th>Div4Airport</th><th>Div4AirportID</th><th>Div4AirportSeqID</th><th>Div4WheelsOn</th><th>Div4TotalGTime</th><th>Div4LongestGTime</th><th>Div4WheelsOff</th><th>Div4TailNum</th><th>Div5Airport</th><th>Div5AirportID</th><th>Div5AirportSeqID</th><th>Div5WheelsOn</th><th>Div5TotalGTime</th><th>Div5LongestGTime</th><th>Div5WheelsOff</th><th>Div5TailNum</th><th></th></tr><tr><td>i64</td><td>i64</td><td>i64</td><td>i64</td><td>i64</td><td>str</td><td>str</td><td>i64</td><td>str</td><td>str</td><td>i64</td><td>i64</td><td>i64</td><td>i64</td><td>str</td><td>str</td><td>str</td><td>i64</td><td>str</td><td>i64</td><td>i64</td><td>i64</td><td>i64</td><td>str</td><td>str</td><td>str</td><td>i64</td><td>str</td><td>i64</td><td>i64</td><td>str</td><td>f64</td><td>f64</td><td>f64</td><td>i64</td><td>str</td><td>f64</td><td>&hellip;</td><td>str</td><td>str</td><td>str</td><td>str</td><td>str</td><td>str</td><td>str</td><td>str</td><td>str</td><td>str</td><td>str</td><td>str</td><td>str</td><td>str</td><td>str</td><td>str</td><td>str</td><td>str</td><td>str</td><td>str</td><td>str</td><td>str</td><td>str</td><td>str</td><td>str</td><td>str</td><td>str</td><td>str</td><td>str</td><td>str</td><td>str</td><td>str</td><td>str</td><td>str</td><td>str</td><td>str</td><td>str</td></tr></thead><tbody><tr><td>2022</td><td>1</td><td>1</td><td>14</td><td>5</td><td>&quot;2022-01-14&quot;</td><td>&quot;YX&quot;</td><td>20452</td><td>&quot;YX&quot;</td><td>&quot;N119HQ&quot;</td><td>4879</td><td>11066</td><td>1106606</td><td>31066</td><td>&quot;CMH&quot;</td><td>&quot;Columbus, OH&quot;</td><td>&quot;OH&quot;</td><td>39</td><td>&quot;Ohio&quot;</td><td>44</td><td>11278</td><td>1127805</td><td>30852</td><td>&quot;DCA&quot;</td><td>&quot;Washington, DC…</td><td>&quot;VA&quot;</td><td>51</td><td>&quot;Virginia&quot;</td><td>38</td><td>1224</td><td>&quot;1221&quot;</td><td>-3.0</td><td>0.0</td><td>0.0</td><td>-1</td><td>&quot;1200-1259&quot;</td><td>28.0</td><td>&hellip;</td><td>null</td><td>null</td><td>&quot;&quot;</td><td>&quot;&quot;</td><td>&quot;&quot;</td><td>null</td><td>null</td><td>&quot;&quot;</td><td>null</td><td>null</td><td>&quot;&quot;</td><td>&quot;&quot;</td><td>&quot;&quot;</td><td>null</td><td>null</td><td>&quot;&quot;</td><td>null</td><td>null</td><td>&quot;&quot;</td><td>&quot;&quot;</td><td>&quot;&quot;</td><td>null</td><td>null</td><td>&quot;&quot;</td><td>null</td><td>null</td><td>&quot;&quot;</td><td>&quot;&quot;</td><td>&quot;&quot;</td><td>null</td><td>null</td><td>&quot;&quot;</td><td>null</td><td>null</td><td>&quot;&quot;</td><td>&quot;&quot;</td><td>null</td></tr><tr><td>2022</td><td>1</td><td>1</td><td>15</td><td>6</td><td>&quot;2022-01-15&quot;</td><td>&quot;YX&quot;</td><td>20452</td><td>&quot;YX&quot;</td><td>&quot;N122HQ&quot;</td><td>4879</td><td>11066</td><td>1106606</td><td>31066</td><td>&quot;CMH&quot;</td><td>&quot;Columbus, OH&quot;</td><td>&quot;OH&quot;</td><td>39</td><td>&quot;Ohio&quot;</td><td>44</td><td>11278</td><td>1127805</td><td>30852</td><td>&quot;DCA&quot;</td><td>&quot;Washington, DC…</td><td>&quot;VA&quot;</td><td>51</td><td>&quot;Virginia&quot;</td><td>38</td><td>1224</td><td>&quot;1214&quot;</td><td>-10.0</td><td>0.0</td><td>0.0</td><td>-1</td><td>&quot;1200-1259&quot;</td><td>19.0</td><td>&hellip;</td><td>null</td><td>null</td><td>&quot;&quot;</td><td>&quot;&quot;</td><td>&quot;&quot;</td><td>null</td><td>null</td><td>&quot;&quot;</td><td>null</td><td>null</td><td>&quot;&quot;</td><td>&quot;&quot;</td><td>&quot;&quot;</td><td>null</td><td>null</td><td>&quot;&quot;</td><td>null</td><td>null</td><td>&quot;&quot;</td><td>&quot;&quot;</td><td>&quot;&quot;</td><td>null</td><td>null</td><td>&quot;&quot;</td><td>null</td><td>null</td><td>&quot;&quot;</td><td>&quot;&quot;</td><td>&quot;&quot;</td><td>null</td><td>null</td><td>&quot;&quot;</td><td>null</td><td>null</td><td>&quot;&quot;</td><td>&quot;&quot;</td><td>null</td></tr><tr><td>2022</td><td>1</td><td>1</td><td>16</td><td>7</td><td>&quot;2022-01-16&quot;</td><td>&quot;YX&quot;</td><td>20452</td><td>&quot;YX&quot;</td><td>&quot;N412YX&quot;</td><td>4879</td><td>11066</td><td>1106606</td><td>31066</td><td>&quot;CMH&quot;</td><td>&quot;Columbus, OH&quot;</td><td>&quot;OH&quot;</td><td>39</td><td>&quot;Ohio&quot;</td><td>44</td><td>11278</td><td>1127805</td><td>30852</td><td>&quot;DCA&quot;</td><td>&quot;Washington, DC…</td><td>&quot;VA&quot;</td><td>51</td><td>&quot;Virginia&quot;</td><td>38</td><td>1224</td><td>&quot;1218&quot;</td><td>-6.0</td><td>0.0</td><td>0.0</td><td>-1</td><td>&quot;1200-1259&quot;</td><td>16.0</td><td>&hellip;</td><td>null</td><td>null</td><td>&quot;&quot;</td><td>&quot;&quot;</td><td>&quot;&quot;</td><td>null</td><td>null</td><td>&quot;&quot;</td><td>null</td><td>null</td><td>&quot;&quot;</td><td>&quot;&quot;</td><td>&quot;&quot;</td><td>null</td><td>null</td><td>&quot;&quot;</td><td>null</td><td>null</td><td>&quot;&quot;</td><td>&quot;&quot;</td><td>&quot;&quot;</td><td>null</td><td>null</td><td>&quot;&quot;</td><td>null</td><td>null</td><td>&quot;&quot;</td><td>&quot;&quot;</td><td>&quot;&quot;</td><td>null</td><td>null</td><td>&quot;&quot;</td><td>null</td><td>null</td><td>&quot;&quot;</td><td>&quot;&quot;</td><td>null</td></tr><tr><td>2022</td><td>1</td><td>1</td><td>17</td><td>1</td><td>&quot;2022-01-17&quot;</td><td>&quot;YX&quot;</td><td>20452</td><td>&quot;YX&quot;</td><td>&quot;N405YX&quot;</td><td>4879</td><td>11066</td><td>1106606</td><td>31066</td><td>&quot;CMH&quot;</td><td>&quot;Columbus, OH&quot;</td><td>&quot;OH&quot;</td><td>39</td><td>&quot;Ohio&quot;</td><td>44</td><td>11278</td><td>1127805</td><td>30852</td><td>&quot;DCA&quot;</td><td>&quot;Washington, DC…</td><td>&quot;VA&quot;</td><td>51</td><td>&quot;Virginia&quot;</td><td>38</td><td>1224</td><td>&quot;1217&quot;</td><td>-7.0</td><td>0.0</td><td>0.0</td><td>-1</td><td>&quot;1200-1259&quot;</td><td>32.0</td><td>&hellip;</td><td>null</td><td>null</td><td>&quot;&quot;</td><td>&quot;&quot;</td><td>&quot;&quot;</td><td>null</td><td>null</td><td>&quot;&quot;</td><td>null</td><td>null</td><td>&quot;&quot;</td><td>&quot;&quot;</td><td>&quot;&quot;</td><td>null</td><td>null</td><td>&quot;&quot;</td><td>null</td><td>null</td><td>&quot;&quot;</td><td>&quot;&quot;</td><td>&quot;&quot;</td><td>null</td><td>null</td><td>&quot;&quot;</td><td>null</td><td>null</td><td>&quot;&quot;</td><td>&quot;&quot;</td><td>&quot;&quot;</td><td>null</td><td>null</td><td>&quot;&quot;</td><td>null</td><td>null</td><td>&quot;&quot;</td><td>&quot;&quot;</td><td>null</td></tr><tr><td>2022</td><td>1</td><td>1</td><td>18</td><td>2</td><td>&quot;2022-01-18&quot;</td><td>&quot;YX&quot;</td><td>20452</td><td>&quot;YX&quot;</td><td>&quot;N420YX&quot;</td><td>4879</td><td>11066</td><td>1106606</td><td>31066</td><td>&quot;CMH&quot;</td><td>&quot;Columbus, OH&quot;</td><td>&quot;OH&quot;</td><td>39</td><td>&quot;Ohio&quot;</td><td>44</td><td>11278</td><td>1127805</td><td>30852</td><td>&quot;DCA&quot;</td><td>&quot;Washington, DC…</td><td>&quot;VA&quot;</td><td>51</td><td>&quot;Virginia&quot;</td><td>38</td><td>1224</td><td>&quot;1218&quot;</td><td>-6.0</td><td>0.0</td><td>0.0</td><td>-1</td><td>&quot;1200-1259&quot;</td><td>11.0</td><td>&hellip;</td><td>null</td><td>null</td><td>&quot;&quot;</td><td>&quot;&quot;</td><td>&quot;&quot;</td><td>null</td><td>null</td><td>&quot;&quot;</td><td>null</td><td>null</td><td>&quot;&quot;</td><td>&quot;&quot;</td><td>&quot;&quot;</td><td>null</td><td>null</td><td>&quot;&quot;</td><td>null</td><td>null</td><td>&quot;&quot;</td><td>&quot;&quot;</td><td>&quot;&quot;</td><td>null</td><td>null</td><td>&quot;&quot;</td><td>null</td><td>null</td><td>&quot;&quot;</td><td>&quot;&quot;</td><td>&quot;&quot;</td><td>null</td><td>null</td><td>&quot;&quot;</td><td>null</td><td>null</td><td>&quot;&quot;</td><td>&quot;&quot;</td><td>null</td></tr></tbody></table></div>"
      ],
      "text/plain": [
       "shape: (5, 110)\n",
       "┌──────┬─────────┬───────┬────────────┬───┬──────────────────┬───────────────┬─────────────┬──────┐\n",
       "│ Year ┆ Quarter ┆ Month ┆ DayofMonth ┆ … ┆ Div5LongestGTime ┆ Div5WheelsOff ┆ Div5TailNum ┆      │\n",
       "│ ---  ┆ ---     ┆ ---   ┆ ---        ┆   ┆ ---              ┆ ---           ┆ ---         ┆ ---  │\n",
       "│ i64  ┆ i64     ┆ i64   ┆ i64        ┆   ┆ str              ┆ str           ┆ str         ┆ str  │\n",
       "╞══════╪═════════╪═══════╪════════════╪═══╪══════════════════╪═══════════════╪═════════════╪══════╡\n",
       "│ 2022 ┆ 1       ┆ 1     ┆ 14         ┆ … ┆ null             ┆               ┆             ┆ null │\n",
       "│ 2022 ┆ 1       ┆ 1     ┆ 15         ┆ … ┆ null             ┆               ┆             ┆ null │\n",
       "│ 2022 ┆ 1       ┆ 1     ┆ 16         ┆ … ┆ null             ┆               ┆             ┆ null │\n",
       "│ 2022 ┆ 1       ┆ 1     ┆ 17         ┆ … ┆ null             ┆               ┆             ┆ null │\n",
       "│ 2022 ┆ 1       ┆ 1     ┆ 18         ┆ … ┆ null             ┆               ┆             ┆ null │\n",
       "└──────┴─────────┴───────┴────────────┴───┴──────────────────┴───────────────┴─────────────┴──────┘"
      ]
     },
     "execution_count": 14,
     "metadata": {},
     "output_type": "execute_result"
    }
   ],
   "source": [
    "full_flights.filter(pl.col('OriginStateName') == 'Ohio')"
   ]
  },
  {
   "cell_type": "code",
   "execution_count": 15,
   "id": "b2928c47-3e58-42e8-a175-706d36eabe2a",
   "metadata": {},
   "outputs": [
    {
     "data": {
      "text/html": [
       "<div><style>\n",
       ".dataframe > thead > tr,\n",
       ".dataframe > tbody > tr {\n",
       "  text-align: right;\n",
       "  white-space: pre-wrap;\n",
       "}\n",
       "</style>\n",
       "<small>shape: (5, 110)</small><table border=\"1\" class=\"dataframe\"><thead><tr><th>Year</th><th>Quarter</th><th>Month</th><th>DayofMonth</th><th>DayOfWeek</th><th>FlightDate</th><th>Reporting_Airline</th><th>DOT_ID_Reporting_Airline</th><th>IATA_CODE_Reporting_Airline</th><th>Tail_Number</th><th>Flight_Number_Reporting_Airline</th><th>OriginAirportID</th><th>OriginAirportSeqID</th><th>OriginCityMarketID</th><th>Origin</th><th>OriginCityName</th><th>OriginState</th><th>OriginStateFips</th><th>OriginStateName</th><th>OriginWac</th><th>DestAirportID</th><th>DestAirportSeqID</th><th>DestCityMarketID</th><th>Dest</th><th>DestCityName</th><th>DestState</th><th>DestStateFips</th><th>DestStateName</th><th>DestWac</th><th>CRSDepTime</th><th>DepTime</th><th>DepDelay</th><th>DepDelayMinutes</th><th>DepDel15</th><th>DepartureDelayGroups</th><th>DepTimeBlk</th><th>TaxiOut</th><th>&hellip;</th><th>Div1TotalGTime</th><th>Div1LongestGTime</th><th>Div1WheelsOff</th><th>Div1TailNum</th><th>Div2Airport</th><th>Div2AirportID</th><th>Div2AirportSeqID</th><th>Div2WheelsOn</th><th>Div2TotalGTime</th><th>Div2LongestGTime</th><th>Div2WheelsOff</th><th>Div2TailNum</th><th>Div3Airport</th><th>Div3AirportID</th><th>Div3AirportSeqID</th><th>Div3WheelsOn</th><th>Div3TotalGTime</th><th>Div3LongestGTime</th><th>Div3WheelsOff</th><th>Div3TailNum</th><th>Div4Airport</th><th>Div4AirportID</th><th>Div4AirportSeqID</th><th>Div4WheelsOn</th><th>Div4TotalGTime</th><th>Div4LongestGTime</th><th>Div4WheelsOff</th><th>Div4TailNum</th><th>Div5Airport</th><th>Div5AirportID</th><th>Div5AirportSeqID</th><th>Div5WheelsOn</th><th>Div5TotalGTime</th><th>Div5LongestGTime</th><th>Div5WheelsOff</th><th>Div5TailNum</th><th></th></tr><tr><td>i64</td><td>i64</td><td>i64</td><td>i64</td><td>i64</td><td>str</td><td>str</td><td>i64</td><td>str</td><td>str</td><td>i64</td><td>i64</td><td>i64</td><td>i64</td><td>str</td><td>str</td><td>str</td><td>i64</td><td>str</td><td>i64</td><td>i64</td><td>i64</td><td>i64</td><td>str</td><td>str</td><td>str</td><td>i64</td><td>str</td><td>i64</td><td>i64</td><td>str</td><td>f64</td><td>f64</td><td>f64</td><td>i64</td><td>str</td><td>f64</td><td>&hellip;</td><td>str</td><td>str</td><td>str</td><td>str</td><td>str</td><td>str</td><td>str</td><td>str</td><td>str</td><td>str</td><td>str</td><td>str</td><td>str</td><td>str</td><td>str</td><td>str</td><td>str</td><td>str</td><td>str</td><td>str</td><td>str</td><td>str</td><td>str</td><td>str</td><td>str</td><td>str</td><td>str</td><td>str</td><td>str</td><td>str</td><td>str</td><td>str</td><td>str</td><td>str</td><td>str</td><td>str</td><td>str</td></tr></thead><tbody><tr><td>2022</td><td>1</td><td>1</td><td>14</td><td>5</td><td>&quot;2022-01-14&quot;</td><td>&quot;YX&quot;</td><td>20452</td><td>&quot;YX&quot;</td><td>&quot;N119HQ&quot;</td><td>4879</td><td>11066</td><td>1106606</td><td>31066</td><td>&quot;CMH&quot;</td><td>&quot;Columbus, OH&quot;</td><td>&quot;OH&quot;</td><td>39</td><td>&quot;Ohio&quot;</td><td>44</td><td>11278</td><td>1127805</td><td>30852</td><td>&quot;DCA&quot;</td><td>&quot;Washington, DC…</td><td>&quot;VA&quot;</td><td>51</td><td>&quot;Virginia&quot;</td><td>38</td><td>1224</td><td>&quot;1221&quot;</td><td>-3.0</td><td>0.0</td><td>0.0</td><td>-1</td><td>&quot;1200-1259&quot;</td><td>28.0</td><td>&hellip;</td><td>null</td><td>null</td><td>&quot;&quot;</td><td>&quot;&quot;</td><td>&quot;&quot;</td><td>null</td><td>null</td><td>&quot;&quot;</td><td>null</td><td>null</td><td>&quot;&quot;</td><td>&quot;&quot;</td><td>&quot;&quot;</td><td>null</td><td>null</td><td>&quot;&quot;</td><td>null</td><td>null</td><td>&quot;&quot;</td><td>&quot;&quot;</td><td>&quot;&quot;</td><td>null</td><td>null</td><td>&quot;&quot;</td><td>null</td><td>null</td><td>&quot;&quot;</td><td>&quot;&quot;</td><td>&quot;&quot;</td><td>null</td><td>null</td><td>&quot;&quot;</td><td>null</td><td>null</td><td>&quot;&quot;</td><td>&quot;&quot;</td><td>null</td></tr><tr><td>2022</td><td>1</td><td>1</td><td>15</td><td>6</td><td>&quot;2022-01-15&quot;</td><td>&quot;YX&quot;</td><td>20452</td><td>&quot;YX&quot;</td><td>&quot;N122HQ&quot;</td><td>4879</td><td>11066</td><td>1106606</td><td>31066</td><td>&quot;CMH&quot;</td><td>&quot;Columbus, OH&quot;</td><td>&quot;OH&quot;</td><td>39</td><td>&quot;Ohio&quot;</td><td>44</td><td>11278</td><td>1127805</td><td>30852</td><td>&quot;DCA&quot;</td><td>&quot;Washington, DC…</td><td>&quot;VA&quot;</td><td>51</td><td>&quot;Virginia&quot;</td><td>38</td><td>1224</td><td>&quot;1214&quot;</td><td>-10.0</td><td>0.0</td><td>0.0</td><td>-1</td><td>&quot;1200-1259&quot;</td><td>19.0</td><td>&hellip;</td><td>null</td><td>null</td><td>&quot;&quot;</td><td>&quot;&quot;</td><td>&quot;&quot;</td><td>null</td><td>null</td><td>&quot;&quot;</td><td>null</td><td>null</td><td>&quot;&quot;</td><td>&quot;&quot;</td><td>&quot;&quot;</td><td>null</td><td>null</td><td>&quot;&quot;</td><td>null</td><td>null</td><td>&quot;&quot;</td><td>&quot;&quot;</td><td>&quot;&quot;</td><td>null</td><td>null</td><td>&quot;&quot;</td><td>null</td><td>null</td><td>&quot;&quot;</td><td>&quot;&quot;</td><td>&quot;&quot;</td><td>null</td><td>null</td><td>&quot;&quot;</td><td>null</td><td>null</td><td>&quot;&quot;</td><td>&quot;&quot;</td><td>null</td></tr><tr><td>2022</td><td>1</td><td>1</td><td>16</td><td>7</td><td>&quot;2022-01-16&quot;</td><td>&quot;YX&quot;</td><td>20452</td><td>&quot;YX&quot;</td><td>&quot;N412YX&quot;</td><td>4879</td><td>11066</td><td>1106606</td><td>31066</td><td>&quot;CMH&quot;</td><td>&quot;Columbus, OH&quot;</td><td>&quot;OH&quot;</td><td>39</td><td>&quot;Ohio&quot;</td><td>44</td><td>11278</td><td>1127805</td><td>30852</td><td>&quot;DCA&quot;</td><td>&quot;Washington, DC…</td><td>&quot;VA&quot;</td><td>51</td><td>&quot;Virginia&quot;</td><td>38</td><td>1224</td><td>&quot;1218&quot;</td><td>-6.0</td><td>0.0</td><td>0.0</td><td>-1</td><td>&quot;1200-1259&quot;</td><td>16.0</td><td>&hellip;</td><td>null</td><td>null</td><td>&quot;&quot;</td><td>&quot;&quot;</td><td>&quot;&quot;</td><td>null</td><td>null</td><td>&quot;&quot;</td><td>null</td><td>null</td><td>&quot;&quot;</td><td>&quot;&quot;</td><td>&quot;&quot;</td><td>null</td><td>null</td><td>&quot;&quot;</td><td>null</td><td>null</td><td>&quot;&quot;</td><td>&quot;&quot;</td><td>&quot;&quot;</td><td>null</td><td>null</td><td>&quot;&quot;</td><td>null</td><td>null</td><td>&quot;&quot;</td><td>&quot;&quot;</td><td>&quot;&quot;</td><td>null</td><td>null</td><td>&quot;&quot;</td><td>null</td><td>null</td><td>&quot;&quot;</td><td>&quot;&quot;</td><td>null</td></tr><tr><td>2022</td><td>1</td><td>1</td><td>17</td><td>1</td><td>&quot;2022-01-17&quot;</td><td>&quot;YX&quot;</td><td>20452</td><td>&quot;YX&quot;</td><td>&quot;N405YX&quot;</td><td>4879</td><td>11066</td><td>1106606</td><td>31066</td><td>&quot;CMH&quot;</td><td>&quot;Columbus, OH&quot;</td><td>&quot;OH&quot;</td><td>39</td><td>&quot;Ohio&quot;</td><td>44</td><td>11278</td><td>1127805</td><td>30852</td><td>&quot;DCA&quot;</td><td>&quot;Washington, DC…</td><td>&quot;VA&quot;</td><td>51</td><td>&quot;Virginia&quot;</td><td>38</td><td>1224</td><td>&quot;1217&quot;</td><td>-7.0</td><td>0.0</td><td>0.0</td><td>-1</td><td>&quot;1200-1259&quot;</td><td>32.0</td><td>&hellip;</td><td>null</td><td>null</td><td>&quot;&quot;</td><td>&quot;&quot;</td><td>&quot;&quot;</td><td>null</td><td>null</td><td>&quot;&quot;</td><td>null</td><td>null</td><td>&quot;&quot;</td><td>&quot;&quot;</td><td>&quot;&quot;</td><td>null</td><td>null</td><td>&quot;&quot;</td><td>null</td><td>null</td><td>&quot;&quot;</td><td>&quot;&quot;</td><td>&quot;&quot;</td><td>null</td><td>null</td><td>&quot;&quot;</td><td>null</td><td>null</td><td>&quot;&quot;</td><td>&quot;&quot;</td><td>&quot;&quot;</td><td>null</td><td>null</td><td>&quot;&quot;</td><td>null</td><td>null</td><td>&quot;&quot;</td><td>&quot;&quot;</td><td>null</td></tr><tr><td>2022</td><td>1</td><td>1</td><td>18</td><td>2</td><td>&quot;2022-01-18&quot;</td><td>&quot;YX&quot;</td><td>20452</td><td>&quot;YX&quot;</td><td>&quot;N420YX&quot;</td><td>4879</td><td>11066</td><td>1106606</td><td>31066</td><td>&quot;CMH&quot;</td><td>&quot;Columbus, OH&quot;</td><td>&quot;OH&quot;</td><td>39</td><td>&quot;Ohio&quot;</td><td>44</td><td>11278</td><td>1127805</td><td>30852</td><td>&quot;DCA&quot;</td><td>&quot;Washington, DC…</td><td>&quot;VA&quot;</td><td>51</td><td>&quot;Virginia&quot;</td><td>38</td><td>1224</td><td>&quot;1218&quot;</td><td>-6.0</td><td>0.0</td><td>0.0</td><td>-1</td><td>&quot;1200-1259&quot;</td><td>11.0</td><td>&hellip;</td><td>null</td><td>null</td><td>&quot;&quot;</td><td>&quot;&quot;</td><td>&quot;&quot;</td><td>null</td><td>null</td><td>&quot;&quot;</td><td>null</td><td>null</td><td>&quot;&quot;</td><td>&quot;&quot;</td><td>&quot;&quot;</td><td>null</td><td>null</td><td>&quot;&quot;</td><td>null</td><td>null</td><td>&quot;&quot;</td><td>&quot;&quot;</td><td>&quot;&quot;</td><td>null</td><td>null</td><td>&quot;&quot;</td><td>null</td><td>null</td><td>&quot;&quot;</td><td>&quot;&quot;</td><td>&quot;&quot;</td><td>null</td><td>null</td><td>&quot;&quot;</td><td>null</td><td>null</td><td>&quot;&quot;</td><td>&quot;&quot;</td><td>null</td></tr></tbody></table></div>"
      ],
      "text/plain": [
       "shape: (5, 110)\n",
       "┌──────┬─────────┬───────┬────────────┬───┬──────────────────┬───────────────┬─────────────┬──────┐\n",
       "│ Year ┆ Quarter ┆ Month ┆ DayofMonth ┆ … ┆ Div5LongestGTime ┆ Div5WheelsOff ┆ Div5TailNum ┆      │\n",
       "│ ---  ┆ ---     ┆ ---   ┆ ---        ┆   ┆ ---              ┆ ---           ┆ ---         ┆ ---  │\n",
       "│ i64  ┆ i64     ┆ i64   ┆ i64        ┆   ┆ str              ┆ str           ┆ str         ┆ str  │\n",
       "╞══════╪═════════╪═══════╪════════════╪═══╪══════════════════╪═══════════════╪═════════════╪══════╡\n",
       "│ 2022 ┆ 1       ┆ 1     ┆ 14         ┆ … ┆ null             ┆               ┆             ┆ null │\n",
       "│ 2022 ┆ 1       ┆ 1     ┆ 15         ┆ … ┆ null             ┆               ┆             ┆ null │\n",
       "│ 2022 ┆ 1       ┆ 1     ┆ 16         ┆ … ┆ null             ┆               ┆             ┆ null │\n",
       "│ 2022 ┆ 1       ┆ 1     ┆ 17         ┆ … ┆ null             ┆               ┆             ┆ null │\n",
       "│ 2022 ┆ 1       ┆ 1     ┆ 18         ┆ … ┆ null             ┆               ┆             ┆ null │\n",
       "└──────┴─────────┴───────┴────────────┴───┴──────────────────┴───────────────┴─────────────┴──────┘"
      ]
     },
     "execution_count": 15,
     "metadata": {},
     "output_type": "execute_result"
    }
   ],
   "source": [
    "full_flights.filter(pl.col('DestStateName') == 'Virginia').head()"
   ]
  },
  {
   "cell_type": "code",
   "execution_count": 20,
   "id": "895b1d9b-5129-472f-bdb2-89bb425d619e",
   "metadata": {},
   "outputs": [
    {
     "data": {
      "text/plain": [
       "(6870, 110)"
      ]
     },
     "execution_count": 20,
     "metadata": {},
     "output_type": "execute_result"
    }
   ],
   "source": [
    "full_flights.filter(\n",
    "    pl.col('OriginStateName') == 'Ohio', \n",
    "    ~(pl.col('DestStateName') == 'Virginia')\n",
    ").shape"
   ]
  },
  {
   "cell_type": "code",
   "execution_count": null,
   "id": "0b444ddc-18f9-4991-8467-3562bf2ce8fa",
   "metadata": {},
   "outputs": [],
   "source": []
  }
 ],
 "metadata": {
  "kernelspec": {
   "display_name": "Python 3 (ipykernel)",
   "language": "python",
   "name": "python3"
  },
  "language_info": {
   "codemirror_mode": {
    "name": "ipython",
    "version": 3
   },
   "file_extension": ".py",
   "mimetype": "text/x-python",
   "name": "python",
   "nbconvert_exporter": "python",
   "pygments_lexer": "ipython3",
   "version": "3.10.12"
  }
 },
 "nbformat": 4,
 "nbformat_minor": 5
}
