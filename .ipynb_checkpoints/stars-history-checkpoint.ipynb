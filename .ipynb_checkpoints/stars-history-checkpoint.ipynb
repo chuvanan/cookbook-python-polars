{
 "cells": [
  {
   "cell_type": "code",
   "execution_count": 29,
   "id": "628965a1-9c55-43a1-b878-d1924e136f4a",
   "metadata": {},
   "outputs": [
    {
     "data": {
      "text/html": [
       "\n",
       "            <div id=\"cWAHBH\"></div>\n",
       "            <script type=\"text/javascript\" data-lets-plot-script=\"library\">\n",
       "                if(!window.letsPlotCallQueue) {\n",
       "                    window.letsPlotCallQueue = [];\n",
       "                }; \n",
       "                window.letsPlotCall = function(f) {\n",
       "                    window.letsPlotCallQueue.push(f);\n",
       "                };\n",
       "                (function() {\n",
       "                    var script = document.createElement(\"script\");\n",
       "                    script.type = \"text/javascript\";\n",
       "                    script.src = \"https://cdn.jsdelivr.net/gh/JetBrains/lets-plot@v4.2.0/js-package/distr/lets-plot.min.js\";\n",
       "                    script.onload = function() {\n",
       "                        window.letsPlotCall = function(f) {f();};\n",
       "                        window.letsPlotCallQueue.forEach(function(f) {f();});\n",
       "                        window.letsPlotCallQueue = [];\n",
       "                        \n",
       "                    };\n",
       "                    script.onerror = function(event) {\n",
       "                        window.letsPlotCall = function(f) {};    // noop\n",
       "                        window.letsPlotCallQueue = [];\n",
       "                        var div = document.createElement(\"div\");\n",
       "                        div.style.color = 'darkred';\n",
       "                        div.textContent = 'Error loading Lets-Plot JS';\n",
       "                        document.getElementById(\"cWAHBH\").appendChild(div);\n",
       "                    };\n",
       "                    var e = document.getElementById(\"cWAHBH\");\n",
       "                    e.appendChild(script);\n",
       "                })()\n",
       "            </script>\n",
       "            "
      ]
     },
     "metadata": {},
     "output_type": "display_data"
    }
   ],
   "source": [
    "from lets_plot import *\n",
    "import polars as pl\n",
    "LetsPlot.setup_html()"
   ]
  },
  {
   "cell_type": "code",
   "execution_count": 4,
   "id": "4b4e1e68-b66a-4cd8-a587-5b759e6bbd24",
   "metadata": {},
   "outputs": [],
   "source": [
    "stars = pl.read_csv('./data/star-history-2024215.csv', has_header=False)"
   ]
  },
  {
   "cell_type": "code",
   "execution_count": 5,
   "id": "1967120d-f53c-4ce0-aa04-653c888738e9",
   "metadata": {},
   "outputs": [
    {
     "data": {
      "text/html": [
       "<div><style>\n",
       ".dataframe > thead > tr,\n",
       ".dataframe > tbody > tr {\n",
       "  text-align: right;\n",
       "  white-space: pre-wrap;\n",
       "}\n",
       "</style>\n",
       "<small>shape: (5, 3)</small><table border=\"1\" class=\"dataframe\"><thead><tr><th>column_1</th><th>column_2</th><th>column_3</th></tr><tr><td>str</td><td>str</td><td>i64</td></tr></thead><tbody><tr><td>&quot;pola-rs/polars…</td><td>&quot;Tue Jun 23 202…</td><td>0</td></tr><tr><td>&quot;pola-rs/polars…</td><td>&quot;Mon May 10 202…</td><td>1560</td></tr><tr><td>&quot;pola-rs/polars…</td><td>&quot;Thu Dec 09 202…</td><td>3180</td></tr><tr><td>&quot;pola-rs/polars…</td><td>&quot;Tue Mar 22 202…</td><td>4800</td></tr><tr><td>&quot;pola-rs/polars…</td><td>&quot;Tue Jul 05 202…</td><td>6420</td></tr></tbody></table></div>"
      ],
      "text/plain": [
       "shape: (5, 3)\n",
       "┌────────────────┬───────────────────────────────────┬──────────┐\n",
       "│ column_1       ┆ column_2                          ┆ column_3 │\n",
       "│ ---            ┆ ---                               ┆ ---      │\n",
       "│ str            ┆ str                               ┆ i64      │\n",
       "╞════════════════╪═══════════════════════════════════╪══════════╡\n",
       "│ pola-rs/polars ┆ Tue Jun 23 2020 23:35:30 GMT+070… ┆ 0        │\n",
       "│ pola-rs/polars ┆ Mon May 10 2021 21:31:47 GMT+070… ┆ 1560     │\n",
       "│ pola-rs/polars ┆ Thu Dec 09 2021 22:29:32 GMT+070… ┆ 3180     │\n",
       "│ pola-rs/polars ┆ Tue Mar 22 2022 10:06:25 GMT+070… ┆ 4800     │\n",
       "│ pola-rs/polars ┆ Tue Jul 05 2022 18:18:50 GMT+070… ┆ 6420     │\n",
       "└────────────────┴───────────────────────────────────┴──────────┘"
      ]
     },
     "execution_count": 5,
     "metadata": {},
     "output_type": "execute_result"
    }
   ],
   "source": [
    "stars.head()"
   ]
  },
  {
   "cell_type": "code",
   "execution_count": 6,
   "id": "8ccdc419-558e-482f-952a-77a2fdc2a11d",
   "metadata": {},
   "outputs": [],
   "source": [
    "stars = stars.rename({'column_1': 'project', 'column_2': 'date', 'column_3': 'stars'})"
   ]
  },
  {
   "cell_type": "code",
   "execution_count": 7,
   "id": "179e1847-1b1f-4055-a8b6-535f0e3a8a7d",
   "metadata": {},
   "outputs": [
    {
     "data": {
      "text/html": [
       "<div><style>\n",
       ".dataframe > thead > tr,\n",
       ".dataframe > tbody > tr {\n",
       "  text-align: right;\n",
       "  white-space: pre-wrap;\n",
       "}\n",
       "</style>\n",
       "<small>shape: (5, 3)</small><table border=\"1\" class=\"dataframe\"><thead><tr><th>project</th><th>date</th><th>stars</th></tr><tr><td>str</td><td>str</td><td>i64</td></tr></thead><tbody><tr><td>&quot;pola-rs/polars…</td><td>&quot;Tue Jun 23 202…</td><td>0</td></tr><tr><td>&quot;pola-rs/polars…</td><td>&quot;Mon May 10 202…</td><td>1560</td></tr><tr><td>&quot;pola-rs/polars…</td><td>&quot;Thu Dec 09 202…</td><td>3180</td></tr><tr><td>&quot;pola-rs/polars…</td><td>&quot;Tue Mar 22 202…</td><td>4800</td></tr><tr><td>&quot;pola-rs/polars…</td><td>&quot;Tue Jul 05 202…</td><td>6420</td></tr></tbody></table></div>"
      ],
      "text/plain": [
       "shape: (5, 3)\n",
       "┌────────────────┬───────────────────────────────────┬───────┐\n",
       "│ project        ┆ date                              ┆ stars │\n",
       "│ ---            ┆ ---                               ┆ ---   │\n",
       "│ str            ┆ str                               ┆ i64   │\n",
       "╞════════════════╪═══════════════════════════════════╪═══════╡\n",
       "│ pola-rs/polars ┆ Tue Jun 23 2020 23:35:30 GMT+070… ┆ 0     │\n",
       "│ pola-rs/polars ┆ Mon May 10 2021 21:31:47 GMT+070… ┆ 1560  │\n",
       "│ pola-rs/polars ┆ Thu Dec 09 2021 22:29:32 GMT+070… ┆ 3180  │\n",
       "│ pola-rs/polars ┆ Tue Mar 22 2022 10:06:25 GMT+070… ┆ 4800  │\n",
       "│ pola-rs/polars ┆ Tue Jul 05 2022 18:18:50 GMT+070… ┆ 6420  │\n",
       "└────────────────┴───────────────────────────────────┴───────┘"
      ]
     },
     "execution_count": 7,
     "metadata": {},
     "output_type": "execute_result"
    }
   ],
   "source": [
    "stars.head()"
   ]
  },
  {
   "cell_type": "code",
   "execution_count": 26,
   "id": "95859d28-d49a-4f42-a1ad-0c2824496742",
   "metadata": {},
   "outputs": [],
   "source": [
    "stars = (\n",
    "    stars.with_columns(\n",
    "        pl.col('date').str.slice(0, 15).alias('short_date')\n",
    "    )\n",
    "    .with_columns(\n",
    "        pl.col('short_date').str.to_date('%a %b %d %Y').alias('short_date')\n",
    "    )\n",
    ")"
   ]
  },
  {
   "cell_type": "code",
   "execution_count": 32,
   "id": "a8a82c45-a6a5-445e-8d62-a06033fb0e76",
   "metadata": {},
   "outputs": [],
   "source": [
    "stars = stars.sort('short_date')"
   ]
  },
  {
   "cell_type": "code",
   "execution_count": 44,
   "id": "f5c3eadb-b56b-4988-8034-ee620fe7d7e2",
   "metadata": {},
   "outputs": [
    {
     "data": {
      "text/html": [
       "   <div id=\"EYCKLY\"></div>\n",
       "   <script type=\"text/javascript\" data-lets-plot-script=\"plot\">\n",
       "       (function() {\n",
       "           var plotSpec={\n",
       "\"data\":{\n",
       "\"project\":[\"pandas-dev/pandas\",\"pandas-dev/pandas\",\"dask/dask\",\"vaexio/vaex\",\"pandas-dev/pandas\",\"dask/dask\",\"pandas-dev/pandas\",\"dask/dask\",\"pandas-dev/pandas\",\"dask/dask\",\"pandas-dev/pandas\",\"modin-project/modin\",\"dask/dask\",\"modin-project/modin\",\"pandas-dev/pandas\",\"vaexio/vaex\",\"dask/dask\",\"modin-project/modin\",\"vaexio/vaex\",\"modin-project/modin\",\"dask/dask\",\"pandas-dev/pandas\",\"modin-project/modin\",\"vaexio/vaex\",\"dask/dask\",\"modin-project/modin\",\"pandas-dev/pandas\",\"vaexio/vaex\",\"modin-project/modin\",\"vaexio/vaex\",\"modin-project/modin\",\"dask/dask\",\"vaexio/vaex\",\"pandas-dev/pandas\",\"vaexio/vaex\",\"pola-rs/polars\",\"vaexio/vaex\",\"modin-project/modin\",\"vaexio/vaex\",\"dask/dask\",\"pandas-dev/pandas\",\"vaexio/vaex\",\"modin-project/modin\",\"dask/dask\",\"vaexio/vaex\",\"pola-rs/polars\",\"pandas-dev/pandas\",\"modin-project/modin\",\"dask/dask\",\"vaexio/vaex\",\"pola-rs/polars\",\"dask/dask\",\"pandas-dev/pandas\",\"modin-project/modin\",\"pola-rs/polars\",\"pola-rs/polars\",\"vaexio/vaex\",\"modin-project/modin\",\"dask/dask\",\"pandas-dev/pandas\",\"pola-rs/polars\",\"pola-rs/polars\",\"vaexio/vaex\",\"pola-rs/polars\",\"modin-project/modin\",\"pola-rs/polars\",\"pola-rs/polars\",\"pandas-dev/pandas\",\"pola-rs/polars\",\"dask/dask\",\"pola-rs/polars\",\"modin-project/modin\",\"pola-rs/polars\",\"pola-rs/polars\",\"pandas-dev/pandas\",\"pola-rs/polars\",\"vaexio/vaex\",\"modin-project/modin\",\"dask/dask\",\"pola-rs/polars\",\"pola-rs/polars\",\"pandas-dev/pandas\",\"dask/dask\",\"modin-project/modin\",\"vaexio/vaex\"],\n",
       "\"stars\":[0.0,2610.0,0.0,0.0,5280.0,720.0,7950.0,1500.0,10620.0,2310.0,13290.0,0.0,3090.0,570.0,15960.0,480.0,3870.0,1170.0,1020.0,1800.0,4650.0,18630.0,2430.0,1560.0,5430.0,3060.0,21270.0,2130.0,3660.0,2670.0,4290.0,6240.0,3210.0,23940.0,3750.0,0.0,4290.0,4920.0,4830.0,7020.0,26610.0,5370.0,5550.0,7800.0,5910.0,1560.0,29280.0,6150.0,8580.0,6480.0,3180.0,9360.0,31950.0,6780.0,4800.0,6420.0,7020.0,7410.0,10170.0,34620.0,8040.0,9660.0,7560.0,11280.0,8040.0,12870.0,14490.0,37290.0,16110.0,10950.0,17730.0,8640.0,19350.0,20970.0,39960.0,22590.0,8100.0,9270.0,11730.0,24210.0,24248.0,41209.0,11781.0,9323.0,8132.0],\n",
       "\"short_date\":[\"datetime.date(2010, 8, 24)\",\"datetime.date(2014, 5, 22)\",\"datetime.date(2015, 1, 7)\",\"datetime.date(2016, 2, 11)\",\"datetime.date(2016, 3, 18)\",\"datetime.date(2016, 7, 8)\",\"datetime.date(2017, 3, 6)\",\"datetime.date(2017, 6, 10)\",\"datetime.date(2017, 11, 5)\",\"datetime.date(2018, 2, 25)\",\"datetime.date(2018, 5, 23)\",\"datetime.date(2018, 6, 22)\",\"datetime.date(2018, 8, 23)\",\"datetime.date(2018, 10, 29)\",\"datetime.date(2018, 11, 29)\",\"datetime.date(2018, 12, 14)\",\"datetime.date(2019, 1, 26)\",\"datetime.date(2019, 2, 22)\",\"datetime.date(2019, 4, 15)\",\"datetime.date(2019, 4, 16)\",\"datetime.date(2019, 5, 31)\",\"datetime.date(2019, 6, 9)\",\"datetime.date(2019, 8, 23)\",\"datetime.date(2019, 9, 19)\",\"datetime.date(2019, 10, 15)\",\"datetime.date(2019, 11, 18)\",\"datetime.date(2019, 12, 3)\",\"datetime.date(2019, 12, 9)\",\"datetime.date(2019, 12, 22)\",\"datetime.date(2020, 2, 3)\",\"datetime.date(2020, 3, 23)\",\"datetime.date(2020, 4, 14)\",\"datetime.date(2020, 4, 23)\",\"datetime.date(2020, 5, 30)\",\"datetime.date(2020, 5, 30)\",\"datetime.date(2020, 6, 23)\",\"datetime.date(2020, 6, 30)\",\"datetime.date(2020, 8, 21)\",\"datetime.date(2020, 9, 18)\",\"datetime.date(2020, 10, 6)\",\"datetime.date(2020, 12, 23)\",\"datetime.date(2021, 1, 7)\",\"datetime.date(2021, 3, 10)\",\"datetime.date(2021, 3, 15)\",\"datetime.date(2021, 5, 7)\",\"datetime.date(2021, 5, 10)\",\"datetime.date(2021, 7, 14)\",\"datetime.date(2021, 8, 27)\",\"datetime.date(2021, 9, 28)\",\"datetime.date(2021, 10, 16)\",\"datetime.date(2021, 12, 9)\",\"datetime.date(2022, 2, 22)\",\"datetime.date(2022, 2, 26)\",\"datetime.date(2022, 3, 19)\",\"datetime.date(2022, 3, 22)\",\"datetime.date(2022, 7, 5)\",\"datetime.date(2022, 7, 9)\",\"datetime.date(2022, 7, 14)\",\"datetime.date(2022, 9, 23)\",\"datetime.date(2022, 9, 26)\",\"datetime.date(2022, 10, 7)\",\"datetime.date(2022, 12, 14)\",\"datetime.date(2023, 1, 4)\",\"datetime.date(2023, 1, 5)\",\"datetime.date(2023, 1, 5)\",\"datetime.date(2023, 1, 30)\",\"datetime.date(2023, 3, 5)\",\"datetime.date(2023, 4, 6)\",\"datetime.date(2023, 4, 16)\",\"datetime.date(2023, 5, 23)\",\"datetime.date(2023, 6, 20)\",\"datetime.date(2023, 6, 22)\",\"datetime.date(2023, 8, 18)\",\"datetime.date(2023, 10, 27)\",\"datetime.date(2023, 10, 30)\",\"datetime.date(2024, 1, 3)\",\"datetime.date(2024, 1, 19)\",\"datetime.date(2024, 1, 25)\",\"datetime.date(2024, 2, 1)\",\"datetime.date(2024, 2, 14)\",\"datetime.date(2024, 2, 15)\",\"datetime.date(2024, 2, 15)\",\"datetime.date(2024, 2, 15)\",\"datetime.date(2024, 2, 15)\",\"datetime.date(2024, 2, 15)\"]\n",
       "},\n",
       "\"mapping\":{\n",
       "\"x\":\"short_date\",\n",
       "\"y\":\"stars\",\n",
       "\"color\":\"project\"\n",
       "},\n",
       "\"data_meta\":{\n",
       "},\n",
       "\"kind\":\"plot\",\n",
       "\"scales\":[],\n",
       "\"layers\":[{\n",
       "\"geom\":\"line\",\n",
       "\"mapping\":{\n",
       "},\n",
       "\"data_meta\":{\n",
       "},\n",
       "\"data\":{\n",
       "}\n",
       "}],\n",
       "\"metainfo_list\":[]\n",
       "};\n",
       "           var plotContainer = document.getElementById(\"EYCKLY\");\n",
       "           window.letsPlotCall(function() {{\n",
       "               LetsPlot.buildPlotFromProcessedSpecs(plotSpec, -1, -1, plotContainer);\n",
       "           }});\n",
       "       })();    \n",
       "   </script>"
      ],
      "text/plain": [
       "<lets_plot.plot.core.PlotSpec at 0x7f483edb4c70>"
      ]
     },
     "execution_count": 44,
     "metadata": {},
     "output_type": "execute_result"
    }
   ],
   "source": [
    "(\n",
    "    ggplot(stars, aes(x='short_date', y='stars', color='project')) +\n",
    "    geom_line()\n",
    ")"
   ]
  }
 ],
 "metadata": {
  "kernelspec": {
   "display_name": "Python 3 (ipykernel)",
   "language": "python",
   "name": "python3"
  },
  "language_info": {
   "codemirror_mode": {
    "name": "ipython",
    "version": 3
   },
   "file_extension": ".py",
   "mimetype": "text/x-python",
   "name": "python",
   "nbconvert_exporter": "python",
   "pygments_lexer": "ipython3",
   "version": "3.10.12"
  }
 },
 "nbformat": 4,
 "nbformat_minor": 5
}
