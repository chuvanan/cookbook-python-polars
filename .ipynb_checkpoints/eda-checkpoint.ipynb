{
 "cells": [
  {
   "cell_type": "code",
   "execution_count": 1,
   "id": "d14d1794-6a98-433d-bf51-bc222d3783ac",
   "metadata": {},
   "outputs": [],
   "source": [
    "import polars as pl"
   ]
  },
  {
   "cell_type": "code",
   "execution_count": 17,
   "id": "0994af1d-fdf4-4b1e-aca7-789d8edc412c",
   "metadata": {},
   "outputs": [
    {
     "data": {
      "text/plain": [
       "{'build': {'rustc': '/root/.rustup/toolchains/nightly-2024-01-24-x86_64-unknown-linux-gnu/bin/rustc',\n",
       "  'rustc-version': 'rustc 1.77.0-nightly (5d3d3479d 2024-01-23)',\n",
       "  'opt-level': '3',\n",
       "  'debug': False,\n",
       "  'jobs': 4},\n",
       " 'info-time': datetime.datetime(2024, 2, 4, 21, 30, 8, tzinfo=datetime.timezone.utc),\n",
       " 'dependencies': {'addr2line': '0.21.0',\n",
       "  'adler': '1.0.2',\n",
       "  'adler32': '1.2.0',\n",
       "  'ahash': '0.8.7',\n",
       "  'aho-corasick': '1.1.2',\n",
       "  'alloc-no-stdlib': '2.0.4',\n",
       "  'alloc-stdlib': '0.2.2',\n",
       "  'allocator-api2': '0.2.16',\n",
       "  'android-tzdata': '0.1.1',\n",
       "  'android_system_properties': '0.1.5',\n",
       "  'anes': '0.1.6',\n",
       "  'anstyle': '1.0.5',\n",
       "  'anyhow': '1.0.79',\n",
       "  'apache-avro': '0.16.0',\n",
       "  'argminmax': '0.6.1',\n",
       "  'array-init-cursor': '0.2.0',\n",
       "  'arrow-array': '50.0.0',\n",
       "  'arrow-buffer': '50.0.0',\n",
       "  'arrow-data': '50.0.0',\n",
       "  'arrow-schema': '50.0.0',\n",
       "  'arrow2': '0.17.4',\n",
       "  'async-stream': '0.3.5',\n",
       "  'async-stream-impl': '0.3.5',\n",
       "  'async-trait': '0.1.77',\n",
       "  'atoi': '2.0.0',\n",
       "  'atoi_simd': '0.15.6',\n",
       "  'autocfg': '1.1.0',\n",
       "  'avro-schema': '0.3.0',\n",
       "  'aws-config': '1.1.4',\n",
       "  'aws-credential-types': '1.1.4',\n",
       "  'aws-runtime': '1.1.4',\n",
       "  'aws-sdk-s3': '1.14.0',\n",
       "  'aws-sdk-sso': '1.12.0',\n",
       "  'aws-sdk-ssooidc': '1.12.0',\n",
       "  'aws-sdk-sts': '1.12.0',\n",
       "  'aws-sigv4': '1.1.4',\n",
       "  'aws-smithy-async': '1.1.4',\n",
       "  'aws-smithy-checksums': '0.60.4',\n",
       "  'aws-smithy-eventstream': '0.60.4',\n",
       "  'aws-smithy-http': '0.60.4',\n",
       "  'aws-smithy-json': '0.60.4',\n",
       "  'aws-smithy-query': '0.60.4',\n",
       "  'aws-smithy-runtime': '1.1.4',\n",
       "  'aws-smithy-runtime-api': '1.1.4',\n",
       "  'aws-smithy-types': '1.1.4',\n",
       "  'aws-smithy-xml': '0.60.4',\n",
       "  'aws-types': '1.1.4',\n",
       "  'backtrace': '0.3.69',\n",
       "  'base16ct': '0.1.1',\n",
       "  'base64': '0.21.7',\n",
       "  'base64-simd': '0.8.0',\n",
       "  'base64ct': '1.6.0',\n",
       "  'bincode': '1.3.3',\n",
       "  'bitflags': '2.4.2',\n",
       "  'block-buffer': '0.10.4',\n",
       "  'brotli': '3.4.0',\n",
       "  'brotli-decompressor': '2.5.1',\n",
       "  'built': '0.7.1',\n",
       "  'bumpalo': '3.14.0',\n",
       "  'bytemuck': '1.14.1',\n",
       "  'bytemuck_derive': '1.5.0',\n",
       "  'bytes': '1.5.0',\n",
       "  'bytes-utils': '0.1.4',\n",
       "  'cargo-lock': '9.0.0',\n",
       "  'casey': '0.4.0',\n",
       "  'cast': '0.3.0',\n",
       "  'cc': '1.0.83',\n",
       "  'cfg-if': '1.0.0',\n",
       "  'chrono': '0.4.33',\n",
       "  'chrono-tz': '0.8.5',\n",
       "  'chrono-tz-build': '0.2.1',\n",
       "  'ciborium': '0.2.2',\n",
       "  'ciborium-io': '0.2.2',\n",
       "  'ciborium-ll': '0.2.2',\n",
       "  'clap': '4.4.18',\n",
       "  'clap_builder': '4.4.18',\n",
       "  'clap_lex': '0.6.0',\n",
       "  'cmake': '0.1.50',\n",
       "  'comfy-table': '7.1.0',\n",
       "  'const-oid': '0.9.6',\n",
       "  'const-random': '0.1.17',\n",
       "  'const-random-macro': '0.1.16',\n",
       "  'core-foundation': '0.9.4',\n",
       "  'core-foundation-sys': '0.8.6',\n",
       "  'core2': '0.4.0',\n",
       "  'cpufeatures': '0.2.12',\n",
       "  'crc': '2.1.0',\n",
       "  'crc-catalog': '1.1.1',\n",
       "  'crc32c': '0.6.4',\n",
       "  'crc32fast': '1.3.2',\n",
       "  'criterion': '0.5.1',\n",
       "  'criterion-plot': '0.5.0',\n",
       "  'crossbeam-channel': '0.5.11',\n",
       "  'crossbeam-deque': '0.8.5',\n",
       "  'crossbeam-epoch': '0.9.18',\n",
       "  'crossbeam-queue': '0.3.11',\n",
       "  'crossbeam-utils': '0.8.19',\n",
       "  'crossterm': '0.27.0',\n",
       "  'crossterm_winapi': '0.9.1',\n",
       "  'crunchy': '0.2.2',\n",
       "  'crypto-bigint': '0.5.5',\n",
       "  'crypto-common': '0.1.6',\n",
       "  'dary_heap': '0.3.6',\n",
       "  'der': '0.6.1',\n",
       "  'deranged': '0.3.11',\n",
       "  'digest': '0.10.7',\n",
       "  'doc-comment': '0.3.3',\n",
       "  'dyn-clone': '1.0.16',\n",
       "  'ecdsa': '0.14.8',\n",
       "  'either': '1.9.0',\n",
       "  'elliptic-curve': '0.12.3',\n",
       "  'encoding_rs': '0.8.33',\n",
       "  'enum_dispatch': '0.3.12',\n",
       "  'env_logger': '0.8.4',\n",
       "  'equivalent': '1.0.1',\n",
       "  'errno': '0.3.8',\n",
       "  'ethnum': '1.5.0',\n",
       "  'fallible-streaming-iterator': '0.1.9',\n",
       "  'fast-float': '0.2.0',\n",
       "  'fastrand': '2.0.1',\n",
       "  'ff': '0.12.1',\n",
       "  'flate2': '1.0.28',\n",
       "  'float-cmp': '0.9.0',\n",
       "  'fnv': '1.0.7',\n",
       "  'foreign_vec': '0.1.0',\n",
       "  'form_urlencoded': '1.2.1',\n",
       "  'futures': '0.3.30',\n",
       "  'futures-channel': '0.3.30',\n",
       "  'futures-core': '0.3.30',\n",
       "  'futures-executor': '0.3.30',\n",
       "  'futures-io': '0.3.30',\n",
       "  'futures-macro': '0.3.30',\n",
       "  'futures-sink': '0.3.30',\n",
       "  'futures-task': '0.3.30',\n",
       "  'futures-util': '0.3.30',\n",
       "  'generic-array': '0.14.7',\n",
       "  'getrandom': '0.2.12',\n",
       "  'gimli': '0.28.1',\n",
       "  'git2': '0.18.1',\n",
       "  'glob': '0.3.1',\n",
       "  'group': '0.12.1',\n",
       "  'h2': '0.3.24',\n",
       "  'half': '2.3.1',\n",
       "  'halfbrown': '0.2.4',\n",
       "  'hash_hasher': '2.0.3',\n",
       "  'hashbrown': '0.14.3',\n",
       "  'heck': '0.4.1',\n",
       "  'hermit-abi': '0.3.4',\n",
       "  'hex': '0.4.3',\n",
       "  'hmac': '0.12.1',\n",
       "  'home': '0.5.9',\n",
       "  'http': '1.0.0',\n",
       "  'http-body': '0.4.6',\n",
       "  'httparse': '1.8.0',\n",
       "  'httpdate': '1.0.3',\n",
       "  'humantime': '2.1.0',\n",
       "  'hyper': '0.14.28',\n",
       "  'hyper-rustls': '0.24.2',\n",
       "  'iana-time-zone': '0.1.59',\n",
       "  'iana-time-zone-haiku': '0.1.2',\n",
       "  'idna': '0.5.0',\n",
       "  'indexmap': '2.2.2',\n",
       "  'indoc': '2.0.4',\n",
       "  'inventory': '0.3.15',\n",
       "  'ipnet': '2.9.0',\n",
       "  'is-terminal': '0.4.10',\n",
       "  'itertools': '0.12.1',\n",
       "  'itoa': '1.0.10',\n",
       "  'itoap': '1.0.1',\n",
       "  'jemalloc-sys': '0.5.4+5.3.0-patched',\n",
       "  'jemallocator': '0.5.4',\n",
       "  'jobserver': '0.1.27',\n",
       "  'js-sys': '0.3.67',\n",
       "  'jsonpath_lib': '0.3.0',\n",
       "  'lazy_static': '1.4.0',\n",
       "  'lexical-core': '0.8.5',\n",
       "  'lexical-parse-float': '0.8.5',\n",
       "  'lexical-parse-integer': '0.8.6',\n",
       "  'lexical-util': '0.8.5',\n",
       "  'lexical-write-float': '0.8.5',\n",
       "  'lexical-write-integer': '0.8.5',\n",
       "  'libc': '0.2.153',\n",
       "  'libflate': '2.0.0',\n",
       "  'libflate_lz77': '2.0.0',\n",
       "  'libgit2-sys': '0.16.1+1.7.1',\n",
       "  'libloading': '0.8.1',\n",
       "  'libm': '0.2.8',\n",
       "  'libmimalloc-sys': '0.1.35',\n",
       "  'libz-ng-sys': '1.1.15',\n",
       "  'libz-sys': '1.1.15',\n",
       "  'linux-raw-sys': '0.4.13',\n",
       "  'lock_api': '0.4.11',\n",
       "  'log': '0.4.20',\n",
       "  'lz4': '1.24.0',\n",
       "  'lz4-sys': '1.9.4',\n",
       "  'matrixmultiply': '0.3.8',\n",
       "  'md-5': '0.10.6',\n",
       "  'memchr': '2.7.1',\n",
       "  'memmap2': '0.7.1',\n",
       "  'memoffset': '0.9.0',\n",
       "  'mimalloc': '0.1.39',\n",
       "  'mime': '0.3.17',\n",
       "  'miniz_oxide': '0.7.1',\n",
       "  'mio': '0.8.10',\n",
       "  'multiversion': '0.7.3',\n",
       "  'multiversion-macros': '0.7.3',\n",
       "  'ndarray': '0.15.6',\n",
       "  'now': '0.1.3',\n",
       "  'ntapi': '0.4.1',\n",
       "  'num': '0.4.1',\n",
       "  'num-bigint': '0.4.4',\n",
       "  'num-complex': '0.4.4',\n",
       "  'num-conv': '0.1.0',\n",
       "  'num-integer': '0.1.45',\n",
       "  'num-iter': '0.1.43',\n",
       "  'num-rational': '0.4.1',\n",
       "  'num-traits': '0.2.17',\n",
       "  'num_cpus': '1.16.0',\n",
       "  'numpy': '0.20.0',\n",
       "  'object': '0.32.2',\n",
       "  'object_store': '0.9.0',\n",
       "  'once_cell': '1.19.0',\n",
       "  'oorandom': '11.1.3',\n",
       "  'openssl-probe': '0.1.5',\n",
       "  'outref': '0.5.1',\n",
       "  'p256': '0.11.1',\n",
       "  'parking_lot': '0.12.1',\n",
       "  'parking_lot_core': '0.9.9',\n",
       "  'parquet-format-safe': '0.2.4',\n",
       "  'parse-zoneinfo': '0.3.0',\n",
       "  'percent-encoding': '2.3.1',\n",
       "  'phf': '0.11.2',\n",
       "  'phf_codegen': '0.11.2',\n",
       "  'phf_generator': '0.11.2',\n",
       "  'phf_shared': '0.11.2',\n",
       "  'pin-project-lite': '0.2.13',\n",
       "  'pin-utils': '0.1.0',\n",
       "  'pkcs8': '0.9.0',\n",
       "  'pkg-config': '0.3.29',\n",
       "  'planus': '0.3.1',\n",
       "  'plotters': '0.3.5',\n",
       "  'plotters-backend': '0.3.5',\n",
       "  'plotters-svg': '0.3.5',\n",
       "  'polars': '0.37.0',\n",
       "  'polars-arrow': '0.37.0',\n",
       "  'polars-arrow-format': '0.1.0',\n",
       "  'polars-compute': '0.37.0',\n",
       "  'polars-core': '0.37.0',\n",
       "  'polars-doc-examples': '0.37.0',\n",
       "  'polars-error': '0.37.0',\n",
       "  'polars-ffi': '0.37.0',\n",
       "  'polars-io': '0.37.0',\n",
       "  'polars-json': '0.37.0',\n",
       "  'polars-lazy': '0.37.0',\n",
       "  'polars-ops': '0.37.0',\n",
       "  'polars-parquet': '0.37.0',\n",
       "  'polars-pipe': '0.37.0',\n",
       "  'polars-plan': '0.37.0',\n",
       "  'polars-row': '0.37.0',\n",
       "  'polars-sql': '0.37.0',\n",
       "  'polars-time': '0.37.0',\n",
       "  'polars-utils': '0.37.0',\n",
       "  'powerfmt': '0.2.0',\n",
       "  'ppv-lite86': '0.2.17',\n",
       "  'proc-macro2': '1.0.78',\n",
       "  'proptest': '1.4.0',\n",
       "  'prost': '0.11.9',\n",
       "  'prost-derive': '0.11.9',\n",
       "  'py-polars': '0.20.7',\n",
       "  'pyo3': '0.20.2',\n",
       "  'pyo3-build-config': '0.20.2',\n",
       "  'pyo3-built': '0.4.7',\n",
       "  'pyo3-ffi': '0.20.2',\n",
       "  'pyo3-macros': '0.20.2',\n",
       "  'pyo3-macros-backend': '0.20.2',\n",
       "  'quad-rand': '0.2.1',\n",
       "  'quick-xml': '0.31.0',\n",
       "  'quickcheck': '1.0.3',\n",
       "  'quote': '1.0.35',\n",
       "  'rand': '0.8.5',\n",
       "  'rand_chacha': '0.3.1',\n",
       "  'rand_core': '0.6.4',\n",
       "  'rand_distr': '0.4.3',\n",
       "  'rand_regex': '0.15.1',\n",
       "  'rand_xorshift': '0.3.0',\n",
       "  'rawpointer': '0.2.1',\n",
       "  'rayon': '1.8.1',\n",
       "  'rayon-core': '1.12.1',\n",
       "  'redox_syscall': '0.4.1',\n",
       "  'ref-cast': '1.0.22',\n",
       "  'ref-cast-impl': '1.0.22',\n",
       "  'regex': '1.10.3',\n",
       "  'regex-automata': '0.4.5',\n",
       "  'regex-lite': '0.1.5',\n",
       "  'regex-syntax': '0.8.2',\n",
       "  'reqwest': '0.11.24',\n",
       "  'rfc6979': '0.3.1',\n",
       "  'ring': '0.17.7',\n",
       "  'rle-decode-fast': '1.0.3',\n",
       "  'rustc-demangle': '0.1.23',\n",
       "  'rustc-hash': '1.1.0',\n",
       "  'rustc_version': '0.4.0',\n",
       "  'rustix': '0.38.30',\n",
       "  'rustls': '0.21.10',\n",
       "  'rustls-native-certs': '0.6.3',\n",
       "  'rustls-pemfile': '2.0.0',\n",
       "  'rustls-pki-types': '1.1.0',\n",
       "  'rustls-webpki': '0.101.7',\n",
       "  'rustversion': '1.0.14',\n",
       "  'ryu': '1.0.16',\n",
       "  'same-file': '1.0.6',\n",
       "  'sample-arrow2': '0.17.1',\n",
       "  'sample-std': '0.1.1',\n",
       "  'sample-test': '0.1.1',\n",
       "  'sample-test-macros': '0.1.1',\n",
       "  'schannel': '0.1.23',\n",
       "  'scopeguard': '1.2.0',\n",
       "  'sct': '0.7.1',\n",
       "  'sec1': '0.3.0',\n",
       "  'security-framework': '2.9.2',\n",
       "  'security-framework-sys': '2.9.1',\n",
       "  'semver': '1.0.21',\n",
       "  'seq-macro': '0.3.5',\n",
       "  'serde': '1.0.196',\n",
       "  'serde_derive': '1.0.196',\n",
       "  'serde_json': '1.0.113',\n",
       "  'serde_spanned': '0.6.5',\n",
       "  'serde_urlencoded': '0.7.1',\n",
       "  'sha1': '0.10.6',\n",
       "  'sha2': '0.10.8',\n",
       "  'signal-hook-registry': '1.4.1',\n",
       "  'signature': '1.6.4',\n",
       "  'simd-json': '0.13.8',\n",
       "  'simdutf8': '0.1.4',\n",
       "  'siphasher': '0.3.11',\n",
       "  'slab': '0.4.9',\n",
       "  'smallvec': '1.13.1',\n",
       "  'smartstring': '1.0.1',\n",
       "  'snafu': '0.7.5',\n",
       "  'snafu-derive': '0.7.5',\n",
       "  'snap': '1.1.1',\n",
       "  'socket2': '0.5.5',\n",
       "  'spin': '0.9.8',\n",
       "  'spki': '0.6.0',\n",
       "  'sqlparser': '0.39.0',\n",
       "  'static_assertions': '1.1.0',\n",
       "  'streaming-decompression': '0.1.2',\n",
       "  'streaming-iterator': '0.1.9',\n",
       "  'strength_reduce': '0.2.4',\n",
       "  'strum': '0.25.0',\n",
       "  'strum_macros': '0.25.3',\n",
       "  'subtle': '2.5.0',\n",
       "  'syn': '2.0.48',\n",
       "  'sync_wrapper': '0.1.2',\n",
       "  'sysinfo': '0.30.5',\n",
       "  'system-configuration': '0.5.1',\n",
       "  'system-configuration-sys': '0.5.0',\n",
       "  'target-features': '0.1.5',\n",
       "  'target-lexicon': '0.12.13',\n",
       "  'tempfile': '3.9.0',\n",
       "  'thiserror': '1.0.56',\n",
       "  'thiserror-impl': '1.0.56',\n",
       "  'time': '0.3.32',\n",
       "  'time-core': '0.1.2',\n",
       "  'time-macros': '0.2.17',\n",
       "  'tiny-keccak': '2.0.2',\n",
       "  'tinytemplate': '1.2.1',\n",
       "  'tinyvec': '1.6.0',\n",
       "  'tinyvec_macros': '0.1.1',\n",
       "  'tokio': '1.35.1',\n",
       "  'tokio-macros': '2.2.0',\n",
       "  'tokio-rustls': '0.24.1',\n",
       "  'tokio-util': '0.7.10',\n",
       "  'toml': '0.7.8',\n",
       "  'toml_datetime': '0.6.5',\n",
       "  'toml_edit': '0.19.15',\n",
       "  'tower-service': '0.3.2',\n",
       "  'tracing': '0.1.40',\n",
       "  'tracing-attributes': '0.1.27',\n",
       "  'tracing-core': '0.1.32',\n",
       "  'try-lock': '0.2.5',\n",
       "  'typed-builder': '0.16.2',\n",
       "  'typed-builder-macro': '0.16.2',\n",
       "  'typenum': '1.17.0',\n",
       "  'unarray': '0.1.4',\n",
       "  'unicode-bidi': '0.3.15',\n",
       "  'unicode-ident': '1.0.12',\n",
       "  'unicode-normalization': '0.1.22',\n",
       "  'unicode-reverse': '1.0.8',\n",
       "  'unicode-segmentation': '1.10.1',\n",
       "  'unicode-width': '0.1.11',\n",
       "  'unindent': '0.2.3',\n",
       "  'untrusted': '0.9.0',\n",
       "  'url': '2.5.0',\n",
       "  'urlencoding': '2.1.3',\n",
       "  'uuid': '1.7.0',\n",
       "  'value-trait': '0.8.1',\n",
       "  'vcpkg': '0.2.15',\n",
       "  'version_check': '0.9.4',\n",
       "  'vsimd': '0.8.0',\n",
       "  'walkdir': '2.4.0',\n",
       "  'want': '0.3.1',\n",
       "  'wasi': '0.11.0+wasi-snapshot-preview1',\n",
       "  'wasm-bindgen': '0.2.90',\n",
       "  'wasm-bindgen-backend': '0.2.90',\n",
       "  'wasm-bindgen-futures': '0.4.40',\n",
       "  'wasm-bindgen-macro': '0.2.90',\n",
       "  'wasm-bindgen-macro-support': '0.2.90',\n",
       "  'wasm-bindgen-shared': '0.2.90',\n",
       "  'wasm-streams': '0.4.0',\n",
       "  'web-sys': '0.3.67',\n",
       "  'winapi': '0.3.9',\n",
       "  'winapi-i686-pc-windows-gnu': '0.4.0',\n",
       "  'winapi-util': '0.1.6',\n",
       "  'winapi-x86_64-pc-windows-gnu': '0.4.0',\n",
       "  'windows': '0.52.0',\n",
       "  'windows-core': '0.52.0',\n",
       "  'windows-sys': '0.52.0',\n",
       "  'windows-targets': '0.52.0',\n",
       "  'windows_aarch64_gnullvm': '0.52.0',\n",
       "  'windows_aarch64_msvc': '0.52.0',\n",
       "  'windows_i686_gnu': '0.52.0',\n",
       "  'windows_i686_msvc': '0.52.0',\n",
       "  'windows_x86_64_gnu': '0.52.0',\n",
       "  'windows_x86_64_gnullvm': '0.52.0',\n",
       "  'windows_x86_64_msvc': '0.52.0',\n",
       "  'winnow': '0.5.36',\n",
       "  'winreg': '0.50.0',\n",
       "  'xmlparser': '0.13.6',\n",
       "  'xxhash-rust': '0.8.8',\n",
       "  'zerocopy': '0.7.32',\n",
       "  'zerocopy-derive': '0.7.32',\n",
       "  'zeroize': '1.7.0',\n",
       "  'zstd': '0.13.0',\n",
       "  'zstd-safe': '7.0.0',\n",
       "  'zstd-sys': '2.0.9+zstd.1.5.5'},\n",
       " 'features': ['ALL',\n",
       "  'ARRAY_ANY_ALL',\n",
       "  'ARRAY_COUNT',\n",
       "  'ASOF_JOIN',\n",
       "  'AVRO',\n",
       "  'BINARY_ENCODING',\n",
       "  'BUILD_INFO',\n",
       "  'CLOUD',\n",
       "  'CROSS_JOIN',\n",
       "  'CSE',\n",
       "  'CSV',\n",
       "  'CUTQCUT',\n",
       "  'DECOMPRESS',\n",
       "  'DEFAULT',\n",
       "  'DTYPES',\n",
       "  'DTYPE_I16',\n",
       "  'DTYPE_I8',\n",
       "  'DTYPE_U16',\n",
       "  'DTYPE_U8',\n",
       "  'EXTRACT_GROUPS',\n",
       "  'EXTRACT_JSONPATH',\n",
       "  'FFI_PLUGIN',\n",
       "  'FIND_MANY',\n",
       "  'HIST',\n",
       "  'IO',\n",
       "  'IPC',\n",
       "  'IPC_STREAMING',\n",
       "  'IS_IN',\n",
       "  'JSON',\n",
       "  'LIST_ANY_ALL',\n",
       "  'LIST_COUNT',\n",
       "  'LIST_DROP_NULLS',\n",
       "  'LIST_GATHER',\n",
       "  'LIST_SAMPLE',\n",
       "  'LIST_SETS',\n",
       "  'MERGE_SORTED',\n",
       "  'META',\n",
       "  'NIGHTLY',\n",
       "  'OBJECT',\n",
       "  'OPERATIONS',\n",
       "  'OPTIMIZATIONS',\n",
       "  'PARQUET',\n",
       "  'PCT_CHANGE',\n",
       "  'PEAKS',\n",
       "  'PERFORMANT',\n",
       "  'PIVOT',\n",
       "  'POLARS_PARQUET',\n",
       "  'PROPAGATE_NANS',\n",
       "  'REGEX',\n",
       "  'REPEAT_BY',\n",
       "  'RLE',\n",
       "  'SEARCH_SORTED',\n",
       "  'SERDE_JSON',\n",
       "  'SIGN',\n",
       "  'SQL',\n",
       "  'STREAMING',\n",
       "  'TIMEZONES',\n",
       "  'TOP_K',\n",
       "  'TRIGONOMETRY'],\n",
       " 'host': {'triple': 'x86_64-unknown-linux-gnu'},\n",
       " 'target': {'arch': 'x86_64',\n",
       "  'os': 'linux',\n",
       "  'family': 'unix',\n",
       "  'env': 'gnu',\n",
       "  'triple': 'x86_64-unknown-linux-gnu',\n",
       "  'endianness': 'little',\n",
       "  'pointer-width': '64',\n",
       "  'profile': 'release'},\n",
       " 'git': {'version': None, 'dirty': None, 'hash': None, 'head': None},\n",
       " 'version': '0.20.7'}"
      ]
     },
     "execution_count": 17,
     "metadata": {},
     "output_type": "execute_result"
    }
   ],
   "source": [
    "pl.build_info()"
   ]
  },
  {
   "cell_type": "code",
   "execution_count": 16,
   "id": "b77d8263-39af-4c7b-bbca-c2c6111e595d",
   "metadata": {},
   "outputs": [
    {
     "name": "stdout",
     "output_type": "stream",
     "text": [
      "--------Version info---------\n",
      "Polars:               0.20.7\n",
      "Index type:           UInt32\n",
      "Platform:             Linux-5.15.0-94-generic-x86_64-with-glibc2.35\n",
      "Python:               3.10.12 (main, Nov 20 2023, 15:14:05) [GCC 11.4.0]\n",
      "\n",
      "----Optional dependencies----\n",
      "adbc_driver_manager:  <not installed>\n",
      "cloudpickle:          <not installed>\n",
      "connectorx:           <not installed>\n",
      "deltalake:            <not installed>\n",
      "fsspec:               <not installed>\n",
      "gevent:               <not installed>\n",
      "hvplot:               <not installed>\n",
      "matplotlib:           <not installed>\n",
      "numpy:                1.26.3\n",
      "openpyxl:             <not installed>\n",
      "pandas:               2.2.0\n",
      "pyarrow:              15.0.0\n",
      "pydantic:             <not installed>\n",
      "pyiceberg:            <not installed>\n",
      "pyxlsb:               <not installed>\n",
      "sqlalchemy:           <not installed>\n",
      "xlsx2csv:             <not installed>\n",
      "xlsxwriter:           <not installed>\n"
     ]
    }
   ],
   "source": [
    "pl.show_versions()"
   ]
  },
  {
   "cell_type": "code",
   "execution_count": 19,
   "id": "57ec2e6a-3cdc-43bd-a28c-d756e44121bf",
   "metadata": {},
   "outputs": [],
   "source": [
    "flights = pl.read_csv('./data/flights.csv')"
   ]
  },
  {
   "cell_type": "code",
   "execution_count": 20,
   "id": "ba37e3f6-4936-420d-bdfd-392a147e4754",
   "metadata": {},
   "outputs": [
    {
     "data": {
      "text/html": [
       "<div><style>\n",
       ".dataframe > thead > tr,\n",
       ".dataframe > tbody > tr {\n",
       "  text-align: right;\n",
       "  white-space: pre-wrap;\n",
       "}\n",
       "</style>\n",
       "<small>shape: (5, 110)</small><table border=\"1\" class=\"dataframe\"><thead><tr><th>Year</th><th>Quarter</th><th>Month</th><th>DayofMonth</th><th>DayOfWeek</th><th>FlightDate</th><th>Reporting_Airline</th><th>DOT_ID_Reporting_Airline</th><th>IATA_CODE_Reporting_Airline</th><th>Tail_Number</th><th>Flight_Number_Reporting_Airline</th><th>OriginAirportID</th><th>OriginAirportSeqID</th><th>OriginCityMarketID</th><th>Origin</th><th>OriginCityName</th><th>OriginState</th><th>OriginStateFips</th><th>OriginStateName</th><th>OriginWac</th><th>DestAirportID</th><th>DestAirportSeqID</th><th>DestCityMarketID</th><th>Dest</th><th>DestCityName</th><th>DestState</th><th>DestStateFips</th><th>DestStateName</th><th>DestWac</th><th>CRSDepTime</th><th>DepTime</th><th>DepDelay</th><th>DepDelayMinutes</th><th>DepDel15</th><th>DepartureDelayGroups</th><th>DepTimeBlk</th><th>TaxiOut</th><th>&hellip;</th><th>Div1TotalGTime</th><th>Div1LongestGTime</th><th>Div1WheelsOff</th><th>Div1TailNum</th><th>Div2Airport</th><th>Div2AirportID</th><th>Div2AirportSeqID</th><th>Div2WheelsOn</th><th>Div2TotalGTime</th><th>Div2LongestGTime</th><th>Div2WheelsOff</th><th>Div2TailNum</th><th>Div3Airport</th><th>Div3AirportID</th><th>Div3AirportSeqID</th><th>Div3WheelsOn</th><th>Div3TotalGTime</th><th>Div3LongestGTime</th><th>Div3WheelsOff</th><th>Div3TailNum</th><th>Div4Airport</th><th>Div4AirportID</th><th>Div4AirportSeqID</th><th>Div4WheelsOn</th><th>Div4TotalGTime</th><th>Div4LongestGTime</th><th>Div4WheelsOff</th><th>Div4TailNum</th><th>Div5Airport</th><th>Div5AirportID</th><th>Div5AirportSeqID</th><th>Div5WheelsOn</th><th>Div5TotalGTime</th><th>Div5LongestGTime</th><th>Div5WheelsOff</th><th>Div5TailNum</th><th></th></tr><tr><td>i64</td><td>i64</td><td>i64</td><td>i64</td><td>i64</td><td>str</td><td>str</td><td>i64</td><td>str</td><td>str</td><td>i64</td><td>i64</td><td>i64</td><td>i64</td><td>str</td><td>str</td><td>str</td><td>i64</td><td>str</td><td>i64</td><td>i64</td><td>i64</td><td>i64</td><td>str</td><td>str</td><td>str</td><td>i64</td><td>str</td><td>i64</td><td>i64</td><td>str</td><td>f64</td><td>f64</td><td>f64</td><td>i64</td><td>str</td><td>f64</td><td>&hellip;</td><td>str</td><td>str</td><td>str</td><td>str</td><td>str</td><td>str</td><td>str</td><td>str</td><td>str</td><td>str</td><td>str</td><td>str</td><td>str</td><td>str</td><td>str</td><td>str</td><td>str</td><td>str</td><td>str</td><td>str</td><td>str</td><td>str</td><td>str</td><td>str</td><td>str</td><td>str</td><td>str</td><td>str</td><td>str</td><td>str</td><td>str</td><td>str</td><td>str</td><td>str</td><td>str</td><td>str</td><td>str</td></tr></thead><tbody><tr><td>2022</td><td>1</td><td>1</td><td>14</td><td>5</td><td>&quot;2022-01-14&quot;</td><td>&quot;YX&quot;</td><td>20452</td><td>&quot;YX&quot;</td><td>&quot;N119HQ&quot;</td><td>4879</td><td>11066</td><td>1106606</td><td>31066</td><td>&quot;CMH&quot;</td><td>&quot;Columbus, OH&quot;</td><td>&quot;OH&quot;</td><td>39</td><td>&quot;Ohio&quot;</td><td>44</td><td>11278</td><td>1127805</td><td>30852</td><td>&quot;DCA&quot;</td><td>&quot;Washington, DC…</td><td>&quot;VA&quot;</td><td>51</td><td>&quot;Virginia&quot;</td><td>38</td><td>1224</td><td>&quot;1221&quot;</td><td>-3.0</td><td>0.0</td><td>0.0</td><td>-1</td><td>&quot;1200-1259&quot;</td><td>28.0</td><td>&hellip;</td><td>null</td><td>null</td><td>&quot;&quot;</td><td>&quot;&quot;</td><td>&quot;&quot;</td><td>null</td><td>null</td><td>&quot;&quot;</td><td>null</td><td>null</td><td>&quot;&quot;</td><td>&quot;&quot;</td><td>&quot;&quot;</td><td>null</td><td>null</td><td>&quot;&quot;</td><td>null</td><td>null</td><td>&quot;&quot;</td><td>&quot;&quot;</td><td>&quot;&quot;</td><td>null</td><td>null</td><td>&quot;&quot;</td><td>null</td><td>null</td><td>&quot;&quot;</td><td>&quot;&quot;</td><td>&quot;&quot;</td><td>null</td><td>null</td><td>&quot;&quot;</td><td>null</td><td>null</td><td>&quot;&quot;</td><td>&quot;&quot;</td><td>null</td></tr><tr><td>2022</td><td>1</td><td>1</td><td>15</td><td>6</td><td>&quot;2022-01-15&quot;</td><td>&quot;YX&quot;</td><td>20452</td><td>&quot;YX&quot;</td><td>&quot;N122HQ&quot;</td><td>4879</td><td>11066</td><td>1106606</td><td>31066</td><td>&quot;CMH&quot;</td><td>&quot;Columbus, OH&quot;</td><td>&quot;OH&quot;</td><td>39</td><td>&quot;Ohio&quot;</td><td>44</td><td>11278</td><td>1127805</td><td>30852</td><td>&quot;DCA&quot;</td><td>&quot;Washington, DC…</td><td>&quot;VA&quot;</td><td>51</td><td>&quot;Virginia&quot;</td><td>38</td><td>1224</td><td>&quot;1214&quot;</td><td>-10.0</td><td>0.0</td><td>0.0</td><td>-1</td><td>&quot;1200-1259&quot;</td><td>19.0</td><td>&hellip;</td><td>null</td><td>null</td><td>&quot;&quot;</td><td>&quot;&quot;</td><td>&quot;&quot;</td><td>null</td><td>null</td><td>&quot;&quot;</td><td>null</td><td>null</td><td>&quot;&quot;</td><td>&quot;&quot;</td><td>&quot;&quot;</td><td>null</td><td>null</td><td>&quot;&quot;</td><td>null</td><td>null</td><td>&quot;&quot;</td><td>&quot;&quot;</td><td>&quot;&quot;</td><td>null</td><td>null</td><td>&quot;&quot;</td><td>null</td><td>null</td><td>&quot;&quot;</td><td>&quot;&quot;</td><td>&quot;&quot;</td><td>null</td><td>null</td><td>&quot;&quot;</td><td>null</td><td>null</td><td>&quot;&quot;</td><td>&quot;&quot;</td><td>null</td></tr><tr><td>2022</td><td>1</td><td>1</td><td>16</td><td>7</td><td>&quot;2022-01-16&quot;</td><td>&quot;YX&quot;</td><td>20452</td><td>&quot;YX&quot;</td><td>&quot;N412YX&quot;</td><td>4879</td><td>11066</td><td>1106606</td><td>31066</td><td>&quot;CMH&quot;</td><td>&quot;Columbus, OH&quot;</td><td>&quot;OH&quot;</td><td>39</td><td>&quot;Ohio&quot;</td><td>44</td><td>11278</td><td>1127805</td><td>30852</td><td>&quot;DCA&quot;</td><td>&quot;Washington, DC…</td><td>&quot;VA&quot;</td><td>51</td><td>&quot;Virginia&quot;</td><td>38</td><td>1224</td><td>&quot;1218&quot;</td><td>-6.0</td><td>0.0</td><td>0.0</td><td>-1</td><td>&quot;1200-1259&quot;</td><td>16.0</td><td>&hellip;</td><td>null</td><td>null</td><td>&quot;&quot;</td><td>&quot;&quot;</td><td>&quot;&quot;</td><td>null</td><td>null</td><td>&quot;&quot;</td><td>null</td><td>null</td><td>&quot;&quot;</td><td>&quot;&quot;</td><td>&quot;&quot;</td><td>null</td><td>null</td><td>&quot;&quot;</td><td>null</td><td>null</td><td>&quot;&quot;</td><td>&quot;&quot;</td><td>&quot;&quot;</td><td>null</td><td>null</td><td>&quot;&quot;</td><td>null</td><td>null</td><td>&quot;&quot;</td><td>&quot;&quot;</td><td>&quot;&quot;</td><td>null</td><td>null</td><td>&quot;&quot;</td><td>null</td><td>null</td><td>&quot;&quot;</td><td>&quot;&quot;</td><td>null</td></tr><tr><td>2022</td><td>1</td><td>1</td><td>17</td><td>1</td><td>&quot;2022-01-17&quot;</td><td>&quot;YX&quot;</td><td>20452</td><td>&quot;YX&quot;</td><td>&quot;N405YX&quot;</td><td>4879</td><td>11066</td><td>1106606</td><td>31066</td><td>&quot;CMH&quot;</td><td>&quot;Columbus, OH&quot;</td><td>&quot;OH&quot;</td><td>39</td><td>&quot;Ohio&quot;</td><td>44</td><td>11278</td><td>1127805</td><td>30852</td><td>&quot;DCA&quot;</td><td>&quot;Washington, DC…</td><td>&quot;VA&quot;</td><td>51</td><td>&quot;Virginia&quot;</td><td>38</td><td>1224</td><td>&quot;1217&quot;</td><td>-7.0</td><td>0.0</td><td>0.0</td><td>-1</td><td>&quot;1200-1259&quot;</td><td>32.0</td><td>&hellip;</td><td>null</td><td>null</td><td>&quot;&quot;</td><td>&quot;&quot;</td><td>&quot;&quot;</td><td>null</td><td>null</td><td>&quot;&quot;</td><td>null</td><td>null</td><td>&quot;&quot;</td><td>&quot;&quot;</td><td>&quot;&quot;</td><td>null</td><td>null</td><td>&quot;&quot;</td><td>null</td><td>null</td><td>&quot;&quot;</td><td>&quot;&quot;</td><td>&quot;&quot;</td><td>null</td><td>null</td><td>&quot;&quot;</td><td>null</td><td>null</td><td>&quot;&quot;</td><td>&quot;&quot;</td><td>&quot;&quot;</td><td>null</td><td>null</td><td>&quot;&quot;</td><td>null</td><td>null</td><td>&quot;&quot;</td><td>&quot;&quot;</td><td>null</td></tr><tr><td>2022</td><td>1</td><td>1</td><td>18</td><td>2</td><td>&quot;2022-01-18&quot;</td><td>&quot;YX&quot;</td><td>20452</td><td>&quot;YX&quot;</td><td>&quot;N420YX&quot;</td><td>4879</td><td>11066</td><td>1106606</td><td>31066</td><td>&quot;CMH&quot;</td><td>&quot;Columbus, OH&quot;</td><td>&quot;OH&quot;</td><td>39</td><td>&quot;Ohio&quot;</td><td>44</td><td>11278</td><td>1127805</td><td>30852</td><td>&quot;DCA&quot;</td><td>&quot;Washington, DC…</td><td>&quot;VA&quot;</td><td>51</td><td>&quot;Virginia&quot;</td><td>38</td><td>1224</td><td>&quot;1218&quot;</td><td>-6.0</td><td>0.0</td><td>0.0</td><td>-1</td><td>&quot;1200-1259&quot;</td><td>11.0</td><td>&hellip;</td><td>null</td><td>null</td><td>&quot;&quot;</td><td>&quot;&quot;</td><td>&quot;&quot;</td><td>null</td><td>null</td><td>&quot;&quot;</td><td>null</td><td>null</td><td>&quot;&quot;</td><td>&quot;&quot;</td><td>&quot;&quot;</td><td>null</td><td>null</td><td>&quot;&quot;</td><td>null</td><td>null</td><td>&quot;&quot;</td><td>&quot;&quot;</td><td>&quot;&quot;</td><td>null</td><td>null</td><td>&quot;&quot;</td><td>null</td><td>null</td><td>&quot;&quot;</td><td>&quot;&quot;</td><td>&quot;&quot;</td><td>null</td><td>null</td><td>&quot;&quot;</td><td>null</td><td>null</td><td>&quot;&quot;</td><td>&quot;&quot;</td><td>null</td></tr></tbody></table></div>"
      ],
      "text/plain": [
       "shape: (5, 110)\n",
       "┌──────┬─────────┬───────┬────────────┬───┬──────────────────┬───────────────┬─────────────┬──────┐\n",
       "│ Year ┆ Quarter ┆ Month ┆ DayofMonth ┆ … ┆ Div5LongestGTime ┆ Div5WheelsOff ┆ Div5TailNum ┆      │\n",
       "│ ---  ┆ ---     ┆ ---   ┆ ---        ┆   ┆ ---              ┆ ---           ┆ ---         ┆ ---  │\n",
       "│ i64  ┆ i64     ┆ i64   ┆ i64        ┆   ┆ str              ┆ str           ┆ str         ┆ str  │\n",
       "╞══════╪═════════╪═══════╪════════════╪═══╪══════════════════╪═══════════════╪═════════════╪══════╡\n",
       "│ 2022 ┆ 1       ┆ 1     ┆ 14         ┆ … ┆ null             ┆               ┆             ┆ null │\n",
       "│ 2022 ┆ 1       ┆ 1     ┆ 15         ┆ … ┆ null             ┆               ┆             ┆ null │\n",
       "│ 2022 ┆ 1       ┆ 1     ┆ 16         ┆ … ┆ null             ┆               ┆             ┆ null │\n",
       "│ 2022 ┆ 1       ┆ 1     ┆ 17         ┆ … ┆ null             ┆               ┆             ┆ null │\n",
       "│ 2022 ┆ 1       ┆ 1     ┆ 18         ┆ … ┆ null             ┆               ┆             ┆ null │\n",
       "└──────┴─────────┴───────┴────────────┴───┴──────────────────┴───────────────┴─────────────┴──────┘"
      ]
     },
     "execution_count": 20,
     "metadata": {},
     "output_type": "execute_result"
    }
   ],
   "source": [
    "flights.head()"
   ]
  },
  {
   "cell_type": "code",
   "execution_count": 21,
   "id": "618ae36d-7781-4270-9017-f9416f410f42",
   "metadata": {},
   "outputs": [
    {
     "data": {
      "text/plain": [
       "(999, 110)"
      ]
     },
     "execution_count": 21,
     "metadata": {},
     "output_type": "execute_result"
    }
   ],
   "source": [
    "flights.shape"
   ]
  },
  {
   "cell_type": "code",
   "execution_count": 5,
   "id": "e897d864-fc63-46b0-b190-ff192ab94510",
   "metadata": {},
   "outputs": [
    {
     "data": {
      "text/plain": [
       "polars.series.series.Series"
      ]
     },
     "execution_count": 5,
     "metadata": {},
     "output_type": "execute_result"
    }
   ],
   "source": [
    "type(flights[:, 'Month'])"
   ]
  },
  {
   "cell_type": "code",
   "execution_count": 22,
   "id": "2c46e570-0e8b-428e-ac28-f87711cdd0c1",
   "metadata": {},
   "outputs": [
    {
     "data": {
      "text/plain": [
       "[Int64,\n",
       " Int64,\n",
       " Int64,\n",
       " Int64,\n",
       " Int64,\n",
       " String,\n",
       " String,\n",
       " Int64,\n",
       " String,\n",
       " String,\n",
       " Int64,\n",
       " Int64,\n",
       " Int64,\n",
       " Int64,\n",
       " String,\n",
       " String,\n",
       " String,\n",
       " Int64,\n",
       " String,\n",
       " Int64,\n",
       " Int64,\n",
       " Int64,\n",
       " Int64,\n",
       " String,\n",
       " String,\n",
       " String,\n",
       " Int64,\n",
       " String,\n",
       " Int64,\n",
       " Int64,\n",
       " String,\n",
       " Float64,\n",
       " Float64,\n",
       " Float64,\n",
       " Int64,\n",
       " String,\n",
       " Float64,\n",
       " String,\n",
       " String,\n",
       " Float64,\n",
       " Int64,\n",
       " String,\n",
       " Float64,\n",
       " Float64,\n",
       " Float64,\n",
       " Int64,\n",
       " String,\n",
       " Float64,\n",
       " String,\n",
       " Float64,\n",
       " Float64,\n",
       " Float64,\n",
       " Float64,\n",
       " Float64,\n",
       " Float64,\n",
       " Int64,\n",
       " Float64,\n",
       " Float64,\n",
       " Float64,\n",
       " Float64,\n",
       " Float64,\n",
       " String,\n",
       " Float64,\n",
       " Float64,\n",
       " Int64,\n",
       " String,\n",
       " String,\n",
       " String,\n",
       " String,\n",
       " String,\n",
       " String,\n",
       " String,\n",
       " String,\n",
       " String,\n",
       " String,\n",
       " String,\n",
       " String,\n",
       " String,\n",
       " String,\n",
       " String,\n",
       " String,\n",
       " String,\n",
       " String,\n",
       " String,\n",
       " String,\n",
       " String,\n",
       " String,\n",
       " String,\n",
       " String,\n",
       " String,\n",
       " String,\n",
       " String,\n",
       " String,\n",
       " String,\n",
       " String,\n",
       " String,\n",
       " String,\n",
       " String,\n",
       " String,\n",
       " String,\n",
       " String,\n",
       " String,\n",
       " String,\n",
       " String,\n",
       " String,\n",
       " String,\n",
       " String,\n",
       " String,\n",
       " String,\n",
       " String]"
      ]
     },
     "execution_count": 22,
     "metadata": {},
     "output_type": "execute_result"
    }
   ],
   "source": [
    "flights.dtypes"
   ]
  },
  {
   "cell_type": "code",
   "execution_count": 7,
   "id": "37e3f84c-7517-4464-8119-d9d2a3d0d030",
   "metadata": {},
   "outputs": [],
   "source": [
    "full_flights = pl.read_csv('./data/On_Time_Reporting_Carrier_On_Time_Performance_(1987_present)_2022_1.csv')"
   ]
  },
  {
   "cell_type": "code",
   "execution_count": 8,
   "id": "4430a83a-ae23-448c-bc7c-f807fadb86e1",
   "metadata": {},
   "outputs": [
    {
     "data": {
      "text/plain": [
       "(537902, 110)"
      ]
     },
     "execution_count": 8,
     "metadata": {},
     "output_type": "execute_result"
    }
   ],
   "source": [
    "full_flights.shape"
   ]
  },
  {
   "cell_type": "code",
   "execution_count": 9,
   "id": "6cb430ba-88bd-48a5-8e97-5853a38a5097",
   "metadata": {},
   "outputs": [
    {
     "data": {
      "text/plain": [
       "729.5505456924438"
      ]
     },
     "execution_count": 9,
     "metadata": {},
     "output_type": "execute_result"
    }
   ],
   "source": [
    "full_flights.estimated_size('mb')"
   ]
  },
  {
   "cell_type": "code",
   "execution_count": 10,
   "id": "9619736e-9162-4e3b-ac34-d75e11cd81d9",
   "metadata": {},
   "outputs": [
    {
     "data": {
      "text/html": [
       "<div><style>\n",
       ".dataframe > thead > tr,\n",
       ".dataframe > tbody > tr {\n",
       "  text-align: right;\n",
       "  white-space: pre-wrap;\n",
       "}\n",
       "</style>\n",
       "<small>shape: (9, 111)</small><table border=\"1\" class=\"dataframe\"><thead><tr><th>statistic</th><th>Year</th><th>Quarter</th><th>Month</th><th>DayofMonth</th><th>DayOfWeek</th><th>FlightDate</th><th>Reporting_Airline</th><th>DOT_ID_Reporting_Airline</th><th>IATA_CODE_Reporting_Airline</th><th>Tail_Number</th><th>Flight_Number_Reporting_Airline</th><th>OriginAirportID</th><th>OriginAirportSeqID</th><th>OriginCityMarketID</th><th>Origin</th><th>OriginCityName</th><th>OriginState</th><th>OriginStateFips</th><th>OriginStateName</th><th>OriginWac</th><th>DestAirportID</th><th>DestAirportSeqID</th><th>DestCityMarketID</th><th>Dest</th><th>DestCityName</th><th>DestState</th><th>DestStateFips</th><th>DestStateName</th><th>DestWac</th><th>CRSDepTime</th><th>DepTime</th><th>DepDelay</th><th>DepDelayMinutes</th><th>DepDel15</th><th>DepartureDelayGroups</th><th>DepTimeBlk</th><th>&hellip;</th><th>Div1TotalGTime</th><th>Div1LongestGTime</th><th>Div1WheelsOff</th><th>Div1TailNum</th><th>Div2Airport</th><th>Div2AirportID</th><th>Div2AirportSeqID</th><th>Div2WheelsOn</th><th>Div2TotalGTime</th><th>Div2LongestGTime</th><th>Div2WheelsOff</th><th>Div2TailNum</th><th>Div3Airport</th><th>Div3AirportID</th><th>Div3AirportSeqID</th><th>Div3WheelsOn</th><th>Div3TotalGTime</th><th>Div3LongestGTime</th><th>Div3WheelsOff</th><th>Div3TailNum</th><th>Div4Airport</th><th>Div4AirportID</th><th>Div4AirportSeqID</th><th>Div4WheelsOn</th><th>Div4TotalGTime</th><th>Div4LongestGTime</th><th>Div4WheelsOff</th><th>Div4TailNum</th><th>Div5Airport</th><th>Div5AirportID</th><th>Div5AirportSeqID</th><th>Div5WheelsOn</th><th>Div5TotalGTime</th><th>Div5LongestGTime</th><th>Div5WheelsOff</th><th>Div5TailNum</th><th></th></tr><tr><td>str</td><td>f64</td><td>f64</td><td>f64</td><td>f64</td><td>f64</td><td>str</td><td>str</td><td>f64</td><td>str</td><td>str</td><td>f64</td><td>f64</td><td>f64</td><td>f64</td><td>str</td><td>str</td><td>str</td><td>f64</td><td>str</td><td>f64</td><td>f64</td><td>f64</td><td>f64</td><td>str</td><td>str</td><td>str</td><td>f64</td><td>str</td><td>f64</td><td>f64</td><td>str</td><td>f64</td><td>f64</td><td>f64</td><td>f64</td><td>str</td><td>&hellip;</td><td>str</td><td>str</td><td>str</td><td>str</td><td>str</td><td>str</td><td>str</td><td>str</td><td>str</td><td>str</td><td>str</td><td>str</td><td>str</td><td>str</td><td>str</td><td>str</td><td>str</td><td>str</td><td>str</td><td>str</td><td>str</td><td>str</td><td>str</td><td>str</td><td>str</td><td>str</td><td>str</td><td>str</td><td>str</td><td>str</td><td>str</td><td>str</td><td>str</td><td>str</td><td>str</td><td>str</td><td>str</td></tr></thead><tbody><tr><td>&quot;count&quot;</td><td>537902.0</td><td>537902.0</td><td>537902.0</td><td>537902.0</td><td>537902.0</td><td>&quot;537902&quot;</td><td>&quot;537902&quot;</td><td>537902.0</td><td>&quot;537902&quot;</td><td>&quot;537902&quot;</td><td>537902.0</td><td>537902.0</td><td>537902.0</td><td>537902.0</td><td>&quot;537902&quot;</td><td>&quot;537902&quot;</td><td>&quot;537902&quot;</td><td>537902.0</td><td>&quot;537902&quot;</td><td>537902.0</td><td>537902.0</td><td>537902.0</td><td>537902.0</td><td>&quot;537902&quot;</td><td>&quot;537902&quot;</td><td>&quot;537902&quot;</td><td>537902.0</td><td>&quot;537902&quot;</td><td>537902.0</td><td>537902.0</td><td>&quot;537902&quot;</td><td>504988.0</td><td>504988.0</td><td>504988.0</td><td>504988.0</td><td>&quot;537902&quot;</td><td>&hellip;</td><td>&quot;1240&quot;</td><td>&quot;1240&quot;</td><td>&quot;537902&quot;</td><td>&quot;537902&quot;</td><td>&quot;537902&quot;</td><td>&quot;24&quot;</td><td>&quot;24&quot;</td><td>&quot;537902&quot;</td><td>&quot;24&quot;</td><td>&quot;24&quot;</td><td>&quot;537902&quot;</td><td>&quot;537902&quot;</td><td>&quot;537902&quot;</td><td>&quot;0&quot;</td><td>&quot;0&quot;</td><td>&quot;537902&quot;</td><td>&quot;0&quot;</td><td>&quot;0&quot;</td><td>&quot;537902&quot;</td><td>&quot;537902&quot;</td><td>&quot;537902&quot;</td><td>&quot;0&quot;</td><td>&quot;0&quot;</td><td>&quot;537902&quot;</td><td>&quot;0&quot;</td><td>&quot;0&quot;</td><td>&quot;537902&quot;</td><td>&quot;537902&quot;</td><td>&quot;537902&quot;</td><td>&quot;0&quot;</td><td>&quot;0&quot;</td><td>&quot;537902&quot;</td><td>&quot;0&quot;</td><td>&quot;0&quot;</td><td>&quot;537902&quot;</td><td>&quot;537902&quot;</td><td>&quot;0&quot;</td></tr><tr><td>&quot;null_count&quot;</td><td>0.0</td><td>0.0</td><td>0.0</td><td>0.0</td><td>0.0</td><td>&quot;0&quot;</td><td>&quot;0&quot;</td><td>0.0</td><td>&quot;0&quot;</td><td>&quot;0&quot;</td><td>0.0</td><td>0.0</td><td>0.0</td><td>0.0</td><td>&quot;0&quot;</td><td>&quot;0&quot;</td><td>&quot;0&quot;</td><td>0.0</td><td>&quot;0&quot;</td><td>0.0</td><td>0.0</td><td>0.0</td><td>0.0</td><td>&quot;0&quot;</td><td>&quot;0&quot;</td><td>&quot;0&quot;</td><td>0.0</td><td>&quot;0&quot;</td><td>0.0</td><td>0.0</td><td>&quot;0&quot;</td><td>32914.0</td><td>32914.0</td><td>32914.0</td><td>32914.0</td><td>&quot;0&quot;</td><td>&hellip;</td><td>&quot;536662&quot;</td><td>&quot;536662&quot;</td><td>&quot;0&quot;</td><td>&quot;0&quot;</td><td>&quot;0&quot;</td><td>&quot;537878&quot;</td><td>&quot;537878&quot;</td><td>&quot;0&quot;</td><td>&quot;537878&quot;</td><td>&quot;537878&quot;</td><td>&quot;0&quot;</td><td>&quot;0&quot;</td><td>&quot;0&quot;</td><td>&quot;537902&quot;</td><td>&quot;537902&quot;</td><td>&quot;0&quot;</td><td>&quot;537902&quot;</td><td>&quot;537902&quot;</td><td>&quot;0&quot;</td><td>&quot;0&quot;</td><td>&quot;0&quot;</td><td>&quot;537902&quot;</td><td>&quot;537902&quot;</td><td>&quot;0&quot;</td><td>&quot;537902&quot;</td><td>&quot;537902&quot;</td><td>&quot;0&quot;</td><td>&quot;0&quot;</td><td>&quot;0&quot;</td><td>&quot;537902&quot;</td><td>&quot;537902&quot;</td><td>&quot;0&quot;</td><td>&quot;537902&quot;</td><td>&quot;537902&quot;</td><td>&quot;0&quot;</td><td>&quot;0&quot;</td><td>&quot;537902&quot;</td></tr><tr><td>&quot;mean&quot;</td><td>2022.0</td><td>1.0</td><td>1.0</td><td>15.973075</td><td>4.04321</td><td>null</td><td>null</td><td>19984.078726</td><td>null</td><td>null</td><td>2575.817787</td><td>12654.034047</td><td>1.2654e6</td><td>31752.775615</td><td>null</td><td>null</td><td>null</td><td>27.10319</td><td>null</td><td>54.393135</td><td>12654.072801</td><td>1.2654e6</td><td>31752.61688</td><td>null</td><td>null</td><td>null</td><td>27.103006</td><td>null</td><td>54.393287</td><td>1325.209302</td><td>null</td><td>10.932093</td><td>14.404443</td><td>0.195755</td><td>0.091081</td><td>null</td><td>&hellip;</td><td>null</td><td>null</td><td>null</td><td>null</td><td>null</td><td>null</td><td>null</td><td>null</td><td>null</td><td>null</td><td>null</td><td>null</td><td>null</td><td>null</td><td>null</td><td>null</td><td>null</td><td>null</td><td>null</td><td>null</td><td>null</td><td>null</td><td>null</td><td>null</td><td>null</td><td>null</td><td>null</td><td>null</td><td>null</td><td>null</td><td>null</td><td>null</td><td>null</td><td>null</td><td>null</td><td>null</td><td>null</td></tr><tr><td>&quot;std&quot;</td><td>0.0</td><td>0.0</td><td>0.0</td><td>8.98126</td><td>2.086759</td><td>null</td><td>null</td><td>374.953823</td><td>null</td><td>null</td><td>1769.082616</td><td>1520.65136</td><td>152064.883683</td><td>1315.756656</td><td>null</td><td>null</td><td>null</td><td>16.747404</td><td>null</td><td>26.654833</td><td>1520.652221</td><td>152064.969908</td><td>1315.722602</td><td>null</td><td>null</td><td>null</td><td>16.749207</td><td>null</td><td>26.654237</td><td>484.061932</td><td>null</td><td>50.084461</td><td>48.922464</td><td>0.396781</td><td>2.272564</td><td>null</td><td>&hellip;</td><td>null</td><td>null</td><td>null</td><td>null</td><td>null</td><td>null</td><td>null</td><td>null</td><td>null</td><td>null</td><td>null</td><td>null</td><td>null</td><td>null</td><td>null</td><td>null</td><td>null</td><td>null</td><td>null</td><td>null</td><td>null</td><td>null</td><td>null</td><td>null</td><td>null</td><td>null</td><td>null</td><td>null</td><td>null</td><td>null</td><td>null</td><td>null</td><td>null</td><td>null</td><td>null</td><td>null</td><td>null</td></tr><tr><td>&quot;min&quot;</td><td>2022.0</td><td>1.0</td><td>1.0</td><td>1.0</td><td>1.0</td><td>&quot;2022-01-01&quot;</td><td>&quot;9E&quot;</td><td>19393.0</td><td>&quot;9E&quot;</td><td>&quot;&quot;</td><td>1.0</td><td>10135.0</td><td>1.013506e6</td><td>30070.0</td><td>&quot;ABE&quot;</td><td>&quot;Aberdeen, SD&quot;</td><td>&quot;AK&quot;</td><td>1.0</td><td>&quot;Alabama&quot;</td><td>1.0</td><td>10135.0</td><td>1.013506e6</td><td>30070.0</td><td>&quot;ABE&quot;</td><td>&quot;Aberdeen, SD&quot;</td><td>&quot;AK&quot;</td><td>1.0</td><td>&quot;Alabama&quot;</td><td>1.0</td><td>1.0</td><td>&quot;&quot;</td><td>-52.0</td><td>0.0</td><td>0.0</td><td>-2.0</td><td>&quot;0001-0559&quot;</td><td>&hellip;</td><td>&quot;10.00&quot;</td><td>&quot;10.00&quot;</td><td>&quot;&quot;</td><td>&quot;&quot;</td><td>&quot;&quot;</td><td>&quot;10397&quot;</td><td>&quot;1039707&quot;</td><td>&quot;&quot;</td><td>&quot;105.00&quot;</td><td>&quot;105.00&quot;</td><td>&quot;&quot;</td><td>&quot;&quot;</td><td>&quot;&quot;</td><td>null</td><td>null</td><td>&quot;&quot;</td><td>null</td><td>null</td><td>&quot;&quot;</td><td>&quot;&quot;</td><td>&quot;&quot;</td><td>null</td><td>null</td><td>&quot;&quot;</td><td>null</td><td>null</td><td>&quot;&quot;</td><td>&quot;&quot;</td><td>&quot;&quot;</td><td>null</td><td>null</td><td>&quot;&quot;</td><td>null</td><td>null</td><td>&quot;&quot;</td><td>&quot;&quot;</td><td>null</td></tr><tr><td>&quot;25%&quot;</td><td>2022.0</td><td>1.0</td><td>1.0</td><td>8.0</td><td>2.0</td><td>null</td><td>null</td><td>19790.0</td><td>null</td><td>null</td><td>1100.0</td><td>11292.0</td><td>1.129202e6</td><td>30693.0</td><td>null</td><td>null</td><td>null</td><td>12.0</td><td>null</td><td>33.0</td><td>11292.0</td><td>1.129202e6</td><td>30693.0</td><td>null</td><td>null</td><td>null</td><td>12.0</td><td>null</td><td>33.0</td><td>915.0</td><td>null</td><td>-6.0</td><td>0.0</td><td>0.0</td><td>-1.0</td><td>null</td><td>&hellip;</td><td>null</td><td>null</td><td>null</td><td>null</td><td>null</td><td>null</td><td>null</td><td>null</td><td>null</td><td>null</td><td>null</td><td>null</td><td>null</td><td>null</td><td>null</td><td>null</td><td>null</td><td>null</td><td>null</td><td>null</td><td>null</td><td>null</td><td>null</td><td>null</td><td>null</td><td>null</td><td>null</td><td>null</td><td>null</td><td>null</td><td>null</td><td>null</td><td>null</td><td>null</td><td>null</td><td>null</td><td>null</td></tr><tr><td>&quot;50%&quot;</td><td>2022.0</td><td>1.0</td><td>1.0</td><td>16.0</td><td>4.0</td><td>null</td><td>null</td><td>19977.0</td><td>null</td><td>null</td><td>2209.0</td><td>12889.0</td><td>1.288903e6</td><td>31454.0</td><td>null</td><td>null</td><td>null</td><td>26.0</td><td>null</td><td>44.0</td><td>12889.0</td><td>1.288903e6</td><td>31454.0</td><td>null</td><td>null</td><td>null</td><td>26.0</td><td>null</td><td>44.0</td><td>1316.0</td><td>null</td><td>-2.0</td><td>0.0</td><td>0.0</td><td>-1.0</td><td>null</td><td>&hellip;</td><td>null</td><td>null</td><td>null</td><td>null</td><td>null</td><td>null</td><td>null</td><td>null</td><td>null</td><td>null</td><td>null</td><td>null</td><td>null</td><td>null</td><td>null</td><td>null</td><td>null</td><td>null</td><td>null</td><td>null</td><td>null</td><td>null</td><td>null</td><td>null</td><td>null</td><td>null</td><td>null</td><td>null</td><td>null</td><td>null</td><td>null</td><td>null</td><td>null</td><td>null</td><td>null</td><td>null</td><td>null</td></tr><tr><td>&quot;75%&quot;</td><td>2022.0</td><td>1.0</td><td>1.0</td><td>24.0</td><td>6.0</td><td>null</td><td>null</td><td>20368.0</td><td>null</td><td>null</td><td>3975.0</td><td>14027.0</td><td>1.402702e6</td><td>32467.0</td><td>null</td><td>null</td><td>null</td><td>42.0</td><td>null</td><td>82.0</td><td>14027.0</td><td>1.402702e6</td><td>32467.0</td><td>null</td><td>null</td><td>null</td><td>42.0</td><td>null</td><td>82.0</td><td>1729.0</td><td>null</td><td>8.0</td><td>8.0</td><td>0.0</td><td>0.0</td><td>null</td><td>&hellip;</td><td>null</td><td>null</td><td>null</td><td>null</td><td>null</td><td>null</td><td>null</td><td>null</td><td>null</td><td>null</td><td>null</td><td>null</td><td>null</td><td>null</td><td>null</td><td>null</td><td>null</td><td>null</td><td>null</td><td>null</td><td>null</td><td>null</td><td>null</td><td>null</td><td>null</td><td>null</td><td>null</td><td>null</td><td>null</td><td>null</td><td>null</td><td>null</td><td>null</td><td>null</td><td>null</td><td>null</td><td>null</td></tr><tr><td>&quot;max&quot;</td><td>2022.0</td><td>1.0</td><td>1.0</td><td>31.0</td><td>7.0</td><td>&quot;2022-01-31&quot;</td><td>&quot;YX&quot;</td><td>20452.0</td><td>&quot;YX&quot;</td><td>&quot;NT200&quot;</td><td>8816.0</td><td>16869.0</td><td>1.686901e6</td><td>36101.0</td><td>&quot;YUM&quot;</td><td>&quot;Yuma, AZ&quot;</td><td>&quot;WY&quot;</td><td>78.0</td><td>&quot;Wyoming&quot;</td><td>93.0</td><td>16869.0</td><td>1.686901e6</td><td>36101.0</td><td>&quot;YUM&quot;</td><td>&quot;Yuma, AZ&quot;</td><td>&quot;WY&quot;</td><td>78.0</td><td>&quot;Wyoming&quot;</td><td>93.0</td><td>2359.0</td><td>&quot;2400&quot;</td><td>2512.0</td><td>2512.0</td><td>1.0</td><td>12.0</td><td>&quot;2300-2359&quot;</td><td>&hellip;</td><td>&quot;99.00&quot;</td><td>&quot;99.00&quot;</td><td>&quot;2400&quot;</td><td>&quot;N998AT&quot;</td><td>&quot;SNA&quot;</td><td>&quot;14908&quot;</td><td>&quot;1490803&quot;</td><td>&quot;2346&quot;</td><td>&quot;9.00&quot;</td><td>&quot;9.00&quot;</td><td>&quot;1616&quot;</td><td>&quot;N808AW&quot;</td><td>&quot;&quot;</td><td>null</td><td>null</td><td>&quot;&quot;</td><td>null</td><td>null</td><td>&quot;&quot;</td><td>&quot;&quot;</td><td>&quot;&quot;</td><td>null</td><td>null</td><td>&quot;&quot;</td><td>null</td><td>null</td><td>&quot;&quot;</td><td>&quot;&quot;</td><td>&quot;&quot;</td><td>null</td><td>null</td><td>&quot;&quot;</td><td>null</td><td>null</td><td>&quot;&quot;</td><td>&quot;&quot;</td><td>null</td></tr></tbody></table></div>"
      ],
      "text/plain": [
       "shape: (9, 111)\n",
       "┌────────────┬──────────┬──────────┬──────────┬───┬─────────────┬────────────┬────────────┬────────┐\n",
       "│ statistic  ┆ Year     ┆ Quarter  ┆ Month    ┆ … ┆ Div5Longest ┆ Div5Wheels ┆ Div5TailNu ┆        │\n",
       "│ ---        ┆ ---      ┆ ---      ┆ ---      ┆   ┆ GTime       ┆ Off        ┆ m          ┆ ---    │\n",
       "│ str        ┆ f64      ┆ f64      ┆ f64      ┆   ┆ ---         ┆ ---        ┆ ---        ┆ str    │\n",
       "│            ┆          ┆          ┆          ┆   ┆ str         ┆ str        ┆ str        ┆        │\n",
       "╞════════════╪══════════╪══════════╪══════════╪═══╪═════════════╪════════════╪════════════╪════════╡\n",
       "│ count      ┆ 537902.0 ┆ 537902.0 ┆ 537902.0 ┆ … ┆ 0           ┆ 537902     ┆ 537902     ┆ 0      │\n",
       "│ null_count ┆ 0.0      ┆ 0.0      ┆ 0.0      ┆ … ┆ 537902      ┆ 0          ┆ 0          ┆ 537902 │\n",
       "│ mean       ┆ 2022.0   ┆ 1.0      ┆ 1.0      ┆ … ┆ null        ┆ null       ┆ null       ┆ null   │\n",
       "│ std        ┆ 0.0      ┆ 0.0      ┆ 0.0      ┆ … ┆ null        ┆ null       ┆ null       ┆ null   │\n",
       "│ min        ┆ 2022.0   ┆ 1.0      ┆ 1.0      ┆ … ┆ null        ┆            ┆            ┆ null   │\n",
       "│ 25%        ┆ 2022.0   ┆ 1.0      ┆ 1.0      ┆ … ┆ null        ┆ null       ┆ null       ┆ null   │\n",
       "│ 50%        ┆ 2022.0   ┆ 1.0      ┆ 1.0      ┆ … ┆ null        ┆ null       ┆ null       ┆ null   │\n",
       "│ 75%        ┆ 2022.0   ┆ 1.0      ┆ 1.0      ┆ … ┆ null        ┆ null       ┆ null       ┆ null   │\n",
       "│ max        ┆ 2022.0   ┆ 1.0      ┆ 1.0      ┆ … ┆ null        ┆            ┆            ┆ null   │\n",
       "└────────────┴──────────┴──────────┴──────────┴───┴─────────────┴────────────┴────────────┴────────┘"
      ]
     },
     "execution_count": 10,
     "metadata": {},
     "output_type": "execute_result"
    }
   ],
   "source": [
    "full_flights.describe()"
   ]
  },
  {
   "cell_type": "code",
   "execution_count": 11,
   "id": "56841c42-9e1d-4f15-85a9-8079d9a53b34",
   "metadata": {},
   "outputs": [
    {
     "data": {
      "text/html": [
       "<div><style>\n",
       ".dataframe > thead > tr,\n",
       ".dataframe > tbody > tr {\n",
       "  text-align: right;\n",
       "  white-space: pre-wrap;\n",
       "}\n",
       "</style>\n",
       "<small>shape: (1, 2)</small><table border=\"1\" class=\"dataframe\"><thead><tr><th>Year</th><th>count</th></tr><tr><td>i64</td><td>u32</td></tr></thead><tbody><tr><td>2022</td><td>537902</td></tr></tbody></table></div>"
      ],
      "text/plain": [
       "shape: (1, 2)\n",
       "┌──────┬────────┐\n",
       "│ Year ┆ count  │\n",
       "│ ---  ┆ ---    │\n",
       "│ i64  ┆ u32    │\n",
       "╞══════╪════════╡\n",
       "│ 2022 ┆ 537902 │\n",
       "└──────┴────────┘"
      ]
     },
     "execution_count": 11,
     "metadata": {},
     "output_type": "execute_result"
    }
   ],
   "source": [
    "full_flights['Year'].value_counts()"
   ]
  },
  {
   "cell_type": "code",
   "execution_count": 12,
   "id": "e4e72a15-f34e-4ce8-a0ff-8c43887a1367",
   "metadata": {},
   "outputs": [
    {
     "data": {
      "text/html": [
       "<div><style>\n",
       ".dataframe > thead > tr,\n",
       ".dataframe > tbody > tr {\n",
       "  text-align: right;\n",
       "  white-space: pre-wrap;\n",
       "}\n",
       "</style>\n",
       "<small>shape: (1, 2)</small><table border=\"1\" class=\"dataframe\"><thead><tr><th>Quarter</th><th>count</th></tr><tr><td>i64</td><td>u32</td></tr></thead><tbody><tr><td>1</td><td>537902</td></tr></tbody></table></div>"
      ],
      "text/plain": [
       "shape: (1, 2)\n",
       "┌─────────┬────────┐\n",
       "│ Quarter ┆ count  │\n",
       "│ ---     ┆ ---    │\n",
       "│ i64     ┆ u32    │\n",
       "╞═════════╪════════╡\n",
       "│ 1       ┆ 537902 │\n",
       "└─────────┴────────┘"
      ]
     },
     "execution_count": 12,
     "metadata": {},
     "output_type": "execute_result"
    }
   ],
   "source": [
    "full_flights['Quarter'].value_counts()"
   ]
  },
  {
   "cell_type": "code",
   "execution_count": 13,
   "id": "689ec4d3-e1e7-4eb3-8ecf-abc33aeb3ead",
   "metadata": {},
   "outputs": [
    {
     "data": {
      "text/html": [
       "<div><style>\n",
       ".dataframe > thead > tr,\n",
       ".dataframe > tbody > tr {\n",
       "  text-align: right;\n",
       "  white-space: pre-wrap;\n",
       "}\n",
       "</style>\n",
       "<small>shape: (1, 2)</small><table border=\"1\" class=\"dataframe\"><thead><tr><th>Month</th><th>count</th></tr><tr><td>i64</td><td>u32</td></tr></thead><tbody><tr><td>1</td><td>537902</td></tr></tbody></table></div>"
      ],
      "text/plain": [
       "shape: (1, 2)\n",
       "┌───────┬────────┐\n",
       "│ Month ┆ count  │\n",
       "│ ---   ┆ ---    │\n",
       "│ i64   ┆ u32    │\n",
       "╞═══════╪════════╡\n",
       "│ 1     ┆ 537902 │\n",
       "└───────┴────────┘"
      ]
     },
     "execution_count": 13,
     "metadata": {},
     "output_type": "execute_result"
    }
   ],
   "source": [
    "full_flights['Month'].value_counts()"
   ]
  },
  {
   "cell_type": "code",
   "execution_count": 14,
   "id": "85d3f4ac-ef7b-4482-bc1b-07ace7824449",
   "metadata": {},
   "outputs": [
    {
     "data": {
      "text/html": [
       "<div><style>\n",
       ".dataframe > thead > tr,\n",
       ".dataframe > tbody > tr {\n",
       "  text-align: right;\n",
       "  white-space: pre-wrap;\n",
       "}\n",
       "</style>\n",
       "<small>shape: (10, 2)</small><table border=\"1\" class=\"dataframe\"><thead><tr><th>DayofMonth</th><th>count</th></tr><tr><td>i64</td><td>u32</td></tr></thead><tbody><tr><td>1</td><td>15852</td></tr><tr><td>2</td><td>19058</td></tr><tr><td>3</td><td>19216</td></tr><tr><td>4</td><td>16965</td></tr><tr><td>5</td><td>16863</td></tr><tr><td>6</td><td>18235</td></tr><tr><td>7</td><td>18241</td></tr><tr><td>8</td><td>15303</td></tr><tr><td>9</td><td>18157</td></tr><tr><td>10</td><td>17897</td></tr></tbody></table></div>"
      ],
      "text/plain": [
       "shape: (10, 2)\n",
       "┌────────────┬───────┐\n",
       "│ DayofMonth ┆ count │\n",
       "│ ---        ┆ ---   │\n",
       "│ i64        ┆ u32   │\n",
       "╞════════════╪═══════╡\n",
       "│ 1          ┆ 15852 │\n",
       "│ 2          ┆ 19058 │\n",
       "│ 3          ┆ 19216 │\n",
       "│ 4          ┆ 16965 │\n",
       "│ 5          ┆ 16863 │\n",
       "│ 6          ┆ 18235 │\n",
       "│ 7          ┆ 18241 │\n",
       "│ 8          ┆ 15303 │\n",
       "│ 9          ┆ 18157 │\n",
       "│ 10         ┆ 17897 │\n",
       "└────────────┴───────┘"
      ]
     },
     "execution_count": 14,
     "metadata": {},
     "output_type": "execute_result"
    }
   ],
   "source": [
    "full_flights['DayofMonth'].value_counts().sort('DayofMonth').head(10)"
   ]
  },
  {
   "cell_type": "code",
   "execution_count": 15,
   "id": "488c02f8-4103-4ba6-9106-aedfa7435f48",
   "metadata": {},
   "outputs": [
    {
     "data": {
      "text/html": [
       "<div><style>\n",
       ".dataframe > thead > tr,\n",
       ".dataframe > tbody > tr {\n",
       "  text-align: right;\n",
       "  white-space: pre-wrap;\n",
       "}\n",
       "</style>\n",
       "<small>shape: (7_434, 110)</small><table border=\"1\" class=\"dataframe\"><thead><tr><th>Year</th><th>Quarter</th><th>Month</th><th>DayofMonth</th><th>DayOfWeek</th><th>FlightDate</th><th>Reporting_Airline</th><th>DOT_ID_Reporting_Airline</th><th>IATA_CODE_Reporting_Airline</th><th>Tail_Number</th><th>Flight_Number_Reporting_Airline</th><th>OriginAirportID</th><th>OriginAirportSeqID</th><th>OriginCityMarketID</th><th>Origin</th><th>OriginCityName</th><th>OriginState</th><th>OriginStateFips</th><th>OriginStateName</th><th>OriginWac</th><th>DestAirportID</th><th>DestAirportSeqID</th><th>DestCityMarketID</th><th>Dest</th><th>DestCityName</th><th>DestState</th><th>DestStateFips</th><th>DestStateName</th><th>DestWac</th><th>CRSDepTime</th><th>DepTime</th><th>DepDelay</th><th>DepDelayMinutes</th><th>DepDel15</th><th>DepartureDelayGroups</th><th>DepTimeBlk</th><th>TaxiOut</th><th>&hellip;</th><th>Div1TotalGTime</th><th>Div1LongestGTime</th><th>Div1WheelsOff</th><th>Div1TailNum</th><th>Div2Airport</th><th>Div2AirportID</th><th>Div2AirportSeqID</th><th>Div2WheelsOn</th><th>Div2TotalGTime</th><th>Div2LongestGTime</th><th>Div2WheelsOff</th><th>Div2TailNum</th><th>Div3Airport</th><th>Div3AirportID</th><th>Div3AirportSeqID</th><th>Div3WheelsOn</th><th>Div3TotalGTime</th><th>Div3LongestGTime</th><th>Div3WheelsOff</th><th>Div3TailNum</th><th>Div4Airport</th><th>Div4AirportID</th><th>Div4AirportSeqID</th><th>Div4WheelsOn</th><th>Div4TotalGTime</th><th>Div4LongestGTime</th><th>Div4WheelsOff</th><th>Div4TailNum</th><th>Div5Airport</th><th>Div5AirportID</th><th>Div5AirportSeqID</th><th>Div5WheelsOn</th><th>Div5TotalGTime</th><th>Div5LongestGTime</th><th>Div5WheelsOff</th><th>Div5TailNum</th><th></th></tr><tr><td>i64</td><td>i64</td><td>i64</td><td>i64</td><td>i64</td><td>str</td><td>str</td><td>i64</td><td>str</td><td>str</td><td>i64</td><td>i64</td><td>i64</td><td>i64</td><td>str</td><td>str</td><td>str</td><td>i64</td><td>str</td><td>i64</td><td>i64</td><td>i64</td><td>i64</td><td>str</td><td>str</td><td>str</td><td>i64</td><td>str</td><td>i64</td><td>i64</td><td>str</td><td>f64</td><td>f64</td><td>f64</td><td>i64</td><td>str</td><td>f64</td><td>&hellip;</td><td>str</td><td>str</td><td>str</td><td>str</td><td>str</td><td>str</td><td>str</td><td>str</td><td>str</td><td>str</td><td>str</td><td>str</td><td>str</td><td>str</td><td>str</td><td>str</td><td>str</td><td>str</td><td>str</td><td>str</td><td>str</td><td>str</td><td>str</td><td>str</td><td>str</td><td>str</td><td>str</td><td>str</td><td>str</td><td>str</td><td>str</td><td>str</td><td>str</td><td>str</td><td>str</td><td>str</td><td>str</td></tr></thead><tbody><tr><td>2022</td><td>1</td><td>1</td><td>14</td><td>5</td><td>&quot;2022-01-14&quot;</td><td>&quot;YX&quot;</td><td>20452</td><td>&quot;YX&quot;</td><td>&quot;N119HQ&quot;</td><td>4879</td><td>11066</td><td>1106606</td><td>31066</td><td>&quot;CMH&quot;</td><td>&quot;Columbus, OH&quot;</td><td>&quot;OH&quot;</td><td>39</td><td>&quot;Ohio&quot;</td><td>44</td><td>11278</td><td>1127805</td><td>30852</td><td>&quot;DCA&quot;</td><td>&quot;Washington, DC…</td><td>&quot;VA&quot;</td><td>51</td><td>&quot;Virginia&quot;</td><td>38</td><td>1224</td><td>&quot;1221&quot;</td><td>-3.0</td><td>0.0</td><td>0.0</td><td>-1</td><td>&quot;1200-1259&quot;</td><td>28.0</td><td>&hellip;</td><td>null</td><td>null</td><td>&quot;&quot;</td><td>&quot;&quot;</td><td>&quot;&quot;</td><td>null</td><td>null</td><td>&quot;&quot;</td><td>null</td><td>null</td><td>&quot;&quot;</td><td>&quot;&quot;</td><td>&quot;&quot;</td><td>null</td><td>null</td><td>&quot;&quot;</td><td>null</td><td>null</td><td>&quot;&quot;</td><td>&quot;&quot;</td><td>&quot;&quot;</td><td>null</td><td>null</td><td>&quot;&quot;</td><td>null</td><td>null</td><td>&quot;&quot;</td><td>&quot;&quot;</td><td>&quot;&quot;</td><td>null</td><td>null</td><td>&quot;&quot;</td><td>null</td><td>null</td><td>&quot;&quot;</td><td>&quot;&quot;</td><td>null</td></tr><tr><td>2022</td><td>1</td><td>1</td><td>15</td><td>6</td><td>&quot;2022-01-15&quot;</td><td>&quot;YX&quot;</td><td>20452</td><td>&quot;YX&quot;</td><td>&quot;N122HQ&quot;</td><td>4879</td><td>11066</td><td>1106606</td><td>31066</td><td>&quot;CMH&quot;</td><td>&quot;Columbus, OH&quot;</td><td>&quot;OH&quot;</td><td>39</td><td>&quot;Ohio&quot;</td><td>44</td><td>11278</td><td>1127805</td><td>30852</td><td>&quot;DCA&quot;</td><td>&quot;Washington, DC…</td><td>&quot;VA&quot;</td><td>51</td><td>&quot;Virginia&quot;</td><td>38</td><td>1224</td><td>&quot;1214&quot;</td><td>-10.0</td><td>0.0</td><td>0.0</td><td>-1</td><td>&quot;1200-1259&quot;</td><td>19.0</td><td>&hellip;</td><td>null</td><td>null</td><td>&quot;&quot;</td><td>&quot;&quot;</td><td>&quot;&quot;</td><td>null</td><td>null</td><td>&quot;&quot;</td><td>null</td><td>null</td><td>&quot;&quot;</td><td>&quot;&quot;</td><td>&quot;&quot;</td><td>null</td><td>null</td><td>&quot;&quot;</td><td>null</td><td>null</td><td>&quot;&quot;</td><td>&quot;&quot;</td><td>&quot;&quot;</td><td>null</td><td>null</td><td>&quot;&quot;</td><td>null</td><td>null</td><td>&quot;&quot;</td><td>&quot;&quot;</td><td>&quot;&quot;</td><td>null</td><td>null</td><td>&quot;&quot;</td><td>null</td><td>null</td><td>&quot;&quot;</td><td>&quot;&quot;</td><td>null</td></tr><tr><td>2022</td><td>1</td><td>1</td><td>16</td><td>7</td><td>&quot;2022-01-16&quot;</td><td>&quot;YX&quot;</td><td>20452</td><td>&quot;YX&quot;</td><td>&quot;N412YX&quot;</td><td>4879</td><td>11066</td><td>1106606</td><td>31066</td><td>&quot;CMH&quot;</td><td>&quot;Columbus, OH&quot;</td><td>&quot;OH&quot;</td><td>39</td><td>&quot;Ohio&quot;</td><td>44</td><td>11278</td><td>1127805</td><td>30852</td><td>&quot;DCA&quot;</td><td>&quot;Washington, DC…</td><td>&quot;VA&quot;</td><td>51</td><td>&quot;Virginia&quot;</td><td>38</td><td>1224</td><td>&quot;1218&quot;</td><td>-6.0</td><td>0.0</td><td>0.0</td><td>-1</td><td>&quot;1200-1259&quot;</td><td>16.0</td><td>&hellip;</td><td>null</td><td>null</td><td>&quot;&quot;</td><td>&quot;&quot;</td><td>&quot;&quot;</td><td>null</td><td>null</td><td>&quot;&quot;</td><td>null</td><td>null</td><td>&quot;&quot;</td><td>&quot;&quot;</td><td>&quot;&quot;</td><td>null</td><td>null</td><td>&quot;&quot;</td><td>null</td><td>null</td><td>&quot;&quot;</td><td>&quot;&quot;</td><td>&quot;&quot;</td><td>null</td><td>null</td><td>&quot;&quot;</td><td>null</td><td>null</td><td>&quot;&quot;</td><td>&quot;&quot;</td><td>&quot;&quot;</td><td>null</td><td>null</td><td>&quot;&quot;</td><td>null</td><td>null</td><td>&quot;&quot;</td><td>&quot;&quot;</td><td>null</td></tr><tr><td>2022</td><td>1</td><td>1</td><td>17</td><td>1</td><td>&quot;2022-01-17&quot;</td><td>&quot;YX&quot;</td><td>20452</td><td>&quot;YX&quot;</td><td>&quot;N405YX&quot;</td><td>4879</td><td>11066</td><td>1106606</td><td>31066</td><td>&quot;CMH&quot;</td><td>&quot;Columbus, OH&quot;</td><td>&quot;OH&quot;</td><td>39</td><td>&quot;Ohio&quot;</td><td>44</td><td>11278</td><td>1127805</td><td>30852</td><td>&quot;DCA&quot;</td><td>&quot;Washington, DC…</td><td>&quot;VA&quot;</td><td>51</td><td>&quot;Virginia&quot;</td><td>38</td><td>1224</td><td>&quot;1217&quot;</td><td>-7.0</td><td>0.0</td><td>0.0</td><td>-1</td><td>&quot;1200-1259&quot;</td><td>32.0</td><td>&hellip;</td><td>null</td><td>null</td><td>&quot;&quot;</td><td>&quot;&quot;</td><td>&quot;&quot;</td><td>null</td><td>null</td><td>&quot;&quot;</td><td>null</td><td>null</td><td>&quot;&quot;</td><td>&quot;&quot;</td><td>&quot;&quot;</td><td>null</td><td>null</td><td>&quot;&quot;</td><td>null</td><td>null</td><td>&quot;&quot;</td><td>&quot;&quot;</td><td>&quot;&quot;</td><td>null</td><td>null</td><td>&quot;&quot;</td><td>null</td><td>null</td><td>&quot;&quot;</td><td>&quot;&quot;</td><td>&quot;&quot;</td><td>null</td><td>null</td><td>&quot;&quot;</td><td>null</td><td>null</td><td>&quot;&quot;</td><td>&quot;&quot;</td><td>null</td></tr><tr><td>2022</td><td>1</td><td>1</td><td>18</td><td>2</td><td>&quot;2022-01-18&quot;</td><td>&quot;YX&quot;</td><td>20452</td><td>&quot;YX&quot;</td><td>&quot;N420YX&quot;</td><td>4879</td><td>11066</td><td>1106606</td><td>31066</td><td>&quot;CMH&quot;</td><td>&quot;Columbus, OH&quot;</td><td>&quot;OH&quot;</td><td>39</td><td>&quot;Ohio&quot;</td><td>44</td><td>11278</td><td>1127805</td><td>30852</td><td>&quot;DCA&quot;</td><td>&quot;Washington, DC…</td><td>&quot;VA&quot;</td><td>51</td><td>&quot;Virginia&quot;</td><td>38</td><td>1224</td><td>&quot;1218&quot;</td><td>-6.0</td><td>0.0</td><td>0.0</td><td>-1</td><td>&quot;1200-1259&quot;</td><td>11.0</td><td>&hellip;</td><td>null</td><td>null</td><td>&quot;&quot;</td><td>&quot;&quot;</td><td>&quot;&quot;</td><td>null</td><td>null</td><td>&quot;&quot;</td><td>null</td><td>null</td><td>&quot;&quot;</td><td>&quot;&quot;</td><td>&quot;&quot;</td><td>null</td><td>null</td><td>&quot;&quot;</td><td>null</td><td>null</td><td>&quot;&quot;</td><td>&quot;&quot;</td><td>&quot;&quot;</td><td>null</td><td>null</td><td>&quot;&quot;</td><td>null</td><td>null</td><td>&quot;&quot;</td><td>&quot;&quot;</td><td>&quot;&quot;</td><td>null</td><td>null</td><td>&quot;&quot;</td><td>null</td><td>null</td><td>&quot;&quot;</td><td>&quot;&quot;</td><td>null</td></tr><tr><td>2022</td><td>1</td><td>1</td><td>19</td><td>3</td><td>&quot;2022-01-19&quot;</td><td>&quot;YX&quot;</td><td>20452</td><td>&quot;YX&quot;</td><td>&quot;N446YX&quot;</td><td>4879</td><td>11066</td><td>1106606</td><td>31066</td><td>&quot;CMH&quot;</td><td>&quot;Columbus, OH&quot;</td><td>&quot;OH&quot;</td><td>39</td><td>&quot;Ohio&quot;</td><td>44</td><td>11278</td><td>1127805</td><td>30852</td><td>&quot;DCA&quot;</td><td>&quot;Washington, DC…</td><td>&quot;VA&quot;</td><td>51</td><td>&quot;Virginia&quot;</td><td>38</td><td>1224</td><td>&quot;1219&quot;</td><td>-5.0</td><td>0.0</td><td>0.0</td><td>-1</td><td>&quot;1200-1259&quot;</td><td>10.0</td><td>&hellip;</td><td>null</td><td>null</td><td>&quot;&quot;</td><td>&quot;&quot;</td><td>&quot;&quot;</td><td>null</td><td>null</td><td>&quot;&quot;</td><td>null</td><td>null</td><td>&quot;&quot;</td><td>&quot;&quot;</td><td>&quot;&quot;</td><td>null</td><td>null</td><td>&quot;&quot;</td><td>null</td><td>null</td><td>&quot;&quot;</td><td>&quot;&quot;</td><td>&quot;&quot;</td><td>null</td><td>null</td><td>&quot;&quot;</td><td>null</td><td>null</td><td>&quot;&quot;</td><td>&quot;&quot;</td><td>&quot;&quot;</td><td>null</td><td>null</td><td>&quot;&quot;</td><td>null</td><td>null</td><td>&quot;&quot;</td><td>&quot;&quot;</td><td>null</td></tr><tr><td>2022</td><td>1</td><td>1</td><td>20</td><td>4</td><td>&quot;2022-01-20&quot;</td><td>&quot;YX&quot;</td><td>20452</td><td>&quot;YX&quot;</td><td>&quot;N116HQ&quot;</td><td>4879</td><td>11066</td><td>1106606</td><td>31066</td><td>&quot;CMH&quot;</td><td>&quot;Columbus, OH&quot;</td><td>&quot;OH&quot;</td><td>39</td><td>&quot;Ohio&quot;</td><td>44</td><td>11278</td><td>1127805</td><td>30852</td><td>&quot;DCA&quot;</td><td>&quot;Washington, DC…</td><td>&quot;VA&quot;</td><td>51</td><td>&quot;Virginia&quot;</td><td>38</td><td>1224</td><td>&quot;1217&quot;</td><td>-7.0</td><td>0.0</td><td>0.0</td><td>-1</td><td>&quot;1200-1259&quot;</td><td>37.0</td><td>&hellip;</td><td>null</td><td>null</td><td>&quot;&quot;</td><td>&quot;&quot;</td><td>&quot;&quot;</td><td>null</td><td>null</td><td>&quot;&quot;</td><td>null</td><td>null</td><td>&quot;&quot;</td><td>&quot;&quot;</td><td>&quot;&quot;</td><td>null</td><td>null</td><td>&quot;&quot;</td><td>null</td><td>null</td><td>&quot;&quot;</td><td>&quot;&quot;</td><td>&quot;&quot;</td><td>null</td><td>null</td><td>&quot;&quot;</td><td>null</td><td>null</td><td>&quot;&quot;</td><td>&quot;&quot;</td><td>&quot;&quot;</td><td>null</td><td>null</td><td>&quot;&quot;</td><td>null</td><td>null</td><td>&quot;&quot;</td><td>&quot;&quot;</td><td>null</td></tr><tr><td>2022</td><td>1</td><td>1</td><td>21</td><td>5</td><td>&quot;2022-01-21&quot;</td><td>&quot;YX&quot;</td><td>20452</td><td>&quot;YX&quot;</td><td>&quot;N419YX&quot;</td><td>4879</td><td>11066</td><td>1106606</td><td>31066</td><td>&quot;CMH&quot;</td><td>&quot;Columbus, OH&quot;</td><td>&quot;OH&quot;</td><td>39</td><td>&quot;Ohio&quot;</td><td>44</td><td>11278</td><td>1127805</td><td>30852</td><td>&quot;DCA&quot;</td><td>&quot;Washington, DC…</td><td>&quot;VA&quot;</td><td>51</td><td>&quot;Virginia&quot;</td><td>38</td><td>1224</td><td>&quot;1220&quot;</td><td>-4.0</td><td>0.0</td><td>0.0</td><td>-1</td><td>&quot;1200-1259&quot;</td><td>19.0</td><td>&hellip;</td><td>null</td><td>null</td><td>&quot;&quot;</td><td>&quot;&quot;</td><td>&quot;&quot;</td><td>null</td><td>null</td><td>&quot;&quot;</td><td>null</td><td>null</td><td>&quot;&quot;</td><td>&quot;&quot;</td><td>&quot;&quot;</td><td>null</td><td>null</td><td>&quot;&quot;</td><td>null</td><td>null</td><td>&quot;&quot;</td><td>&quot;&quot;</td><td>&quot;&quot;</td><td>null</td><td>null</td><td>&quot;&quot;</td><td>null</td><td>null</td><td>&quot;&quot;</td><td>&quot;&quot;</td><td>&quot;&quot;</td><td>null</td><td>null</td><td>&quot;&quot;</td><td>null</td><td>null</td><td>&quot;&quot;</td><td>&quot;&quot;</td><td>null</td></tr><tr><td>2022</td><td>1</td><td>1</td><td>22</td><td>6</td><td>&quot;2022-01-22&quot;</td><td>&quot;YX&quot;</td><td>20452</td><td>&quot;YX&quot;</td><td>&quot;N137HQ&quot;</td><td>4879</td><td>11066</td><td>1106606</td><td>31066</td><td>&quot;CMH&quot;</td><td>&quot;Columbus, OH&quot;</td><td>&quot;OH&quot;</td><td>39</td><td>&quot;Ohio&quot;</td><td>44</td><td>11278</td><td>1127805</td><td>30852</td><td>&quot;DCA&quot;</td><td>&quot;Washington, DC…</td><td>&quot;VA&quot;</td><td>51</td><td>&quot;Virginia&quot;</td><td>38</td><td>1224</td><td>&quot;1220&quot;</td><td>-4.0</td><td>0.0</td><td>0.0</td><td>-1</td><td>&quot;1200-1259&quot;</td><td>12.0</td><td>&hellip;</td><td>null</td><td>null</td><td>&quot;&quot;</td><td>&quot;&quot;</td><td>&quot;&quot;</td><td>null</td><td>null</td><td>&quot;&quot;</td><td>null</td><td>null</td><td>&quot;&quot;</td><td>&quot;&quot;</td><td>&quot;&quot;</td><td>null</td><td>null</td><td>&quot;&quot;</td><td>null</td><td>null</td><td>&quot;&quot;</td><td>&quot;&quot;</td><td>&quot;&quot;</td><td>null</td><td>null</td><td>&quot;&quot;</td><td>null</td><td>null</td><td>&quot;&quot;</td><td>&quot;&quot;</td><td>&quot;&quot;</td><td>null</td><td>null</td><td>&quot;&quot;</td><td>null</td><td>null</td><td>&quot;&quot;</td><td>&quot;&quot;</td><td>null</td></tr><tr><td>2022</td><td>1</td><td>1</td><td>23</td><td>7</td><td>&quot;2022-01-23&quot;</td><td>&quot;YX&quot;</td><td>20452</td><td>&quot;YX&quot;</td><td>&quot;N110HQ&quot;</td><td>4879</td><td>11066</td><td>1106606</td><td>31066</td><td>&quot;CMH&quot;</td><td>&quot;Columbus, OH&quot;</td><td>&quot;OH&quot;</td><td>39</td><td>&quot;Ohio&quot;</td><td>44</td><td>11278</td><td>1127805</td><td>30852</td><td>&quot;DCA&quot;</td><td>&quot;Washington, DC…</td><td>&quot;VA&quot;</td><td>51</td><td>&quot;Virginia&quot;</td><td>38</td><td>1224</td><td>&quot;1223&quot;</td><td>-1.0</td><td>0.0</td><td>0.0</td><td>-1</td><td>&quot;1200-1259&quot;</td><td>29.0</td><td>&hellip;</td><td>null</td><td>null</td><td>&quot;&quot;</td><td>&quot;&quot;</td><td>&quot;&quot;</td><td>null</td><td>null</td><td>&quot;&quot;</td><td>null</td><td>null</td><td>&quot;&quot;</td><td>&quot;&quot;</td><td>&quot;&quot;</td><td>null</td><td>null</td><td>&quot;&quot;</td><td>null</td><td>null</td><td>&quot;&quot;</td><td>&quot;&quot;</td><td>&quot;&quot;</td><td>null</td><td>null</td><td>&quot;&quot;</td><td>null</td><td>null</td><td>&quot;&quot;</td><td>&quot;&quot;</td><td>&quot;&quot;</td><td>null</td><td>null</td><td>&quot;&quot;</td><td>null</td><td>null</td><td>&quot;&quot;</td><td>&quot;&quot;</td><td>null</td></tr><tr><td>2022</td><td>1</td><td>1</td><td>24</td><td>1</td><td>&quot;2022-01-24&quot;</td><td>&quot;YX&quot;</td><td>20452</td><td>&quot;YX&quot;</td><td>&quot;N128HQ&quot;</td><td>4879</td><td>11066</td><td>1106606</td><td>31066</td><td>&quot;CMH&quot;</td><td>&quot;Columbus, OH&quot;</td><td>&quot;OH&quot;</td><td>39</td><td>&quot;Ohio&quot;</td><td>44</td><td>11278</td><td>1127805</td><td>30852</td><td>&quot;DCA&quot;</td><td>&quot;Washington, DC…</td><td>&quot;VA&quot;</td><td>51</td><td>&quot;Virginia&quot;</td><td>38</td><td>1224</td><td>&quot;1218&quot;</td><td>-6.0</td><td>0.0</td><td>0.0</td><td>-1</td><td>&quot;1200-1259&quot;</td><td>48.0</td><td>&hellip;</td><td>null</td><td>null</td><td>&quot;&quot;</td><td>&quot;&quot;</td><td>&quot;&quot;</td><td>null</td><td>null</td><td>&quot;&quot;</td><td>null</td><td>null</td><td>&quot;&quot;</td><td>&quot;&quot;</td><td>&quot;&quot;</td><td>null</td><td>null</td><td>&quot;&quot;</td><td>null</td><td>null</td><td>&quot;&quot;</td><td>&quot;&quot;</td><td>&quot;&quot;</td><td>null</td><td>null</td><td>&quot;&quot;</td><td>null</td><td>null</td><td>&quot;&quot;</td><td>&quot;&quot;</td><td>&quot;&quot;</td><td>null</td><td>null</td><td>&quot;&quot;</td><td>null</td><td>null</td><td>&quot;&quot;</td><td>&quot;&quot;</td><td>null</td></tr><tr><td>2022</td><td>1</td><td>1</td><td>25</td><td>2</td><td>&quot;2022-01-25&quot;</td><td>&quot;YX&quot;</td><td>20452</td><td>&quot;YX&quot;</td><td>&quot;N101HQ&quot;</td><td>4879</td><td>11066</td><td>1106606</td><td>31066</td><td>&quot;CMH&quot;</td><td>&quot;Columbus, OH&quot;</td><td>&quot;OH&quot;</td><td>39</td><td>&quot;Ohio&quot;</td><td>44</td><td>11278</td><td>1127805</td><td>30852</td><td>&quot;DCA&quot;</td><td>&quot;Washington, DC…</td><td>&quot;VA&quot;</td><td>51</td><td>&quot;Virginia&quot;</td><td>38</td><td>1224</td><td>&quot;1224&quot;</td><td>0.0</td><td>0.0</td><td>0.0</td><td>0</td><td>&quot;1200-1259&quot;</td><td>32.0</td><td>&hellip;</td><td>null</td><td>null</td><td>&quot;&quot;</td><td>&quot;&quot;</td><td>&quot;&quot;</td><td>null</td><td>null</td><td>&quot;&quot;</td><td>null</td><td>null</td><td>&quot;&quot;</td><td>&quot;&quot;</td><td>&quot;&quot;</td><td>null</td><td>null</td><td>&quot;&quot;</td><td>null</td><td>null</td><td>&quot;&quot;</td><td>&quot;&quot;</td><td>&quot;&quot;</td><td>null</td><td>null</td><td>&quot;&quot;</td><td>null</td><td>null</td><td>&quot;&quot;</td><td>&quot;&quot;</td><td>&quot;&quot;</td><td>null</td><td>null</td><td>&quot;&quot;</td><td>null</td><td>null</td><td>&quot;&quot;</td><td>&quot;&quot;</td><td>null</td></tr><tr><td>&hellip;</td><td>&hellip;</td><td>&hellip;</td><td>&hellip;</td><td>&hellip;</td><td>&hellip;</td><td>&hellip;</td><td>&hellip;</td><td>&hellip;</td><td>&hellip;</td><td>&hellip;</td><td>&hellip;</td><td>&hellip;</td><td>&hellip;</td><td>&hellip;</td><td>&hellip;</td><td>&hellip;</td><td>&hellip;</td><td>&hellip;</td><td>&hellip;</td><td>&hellip;</td><td>&hellip;</td><td>&hellip;</td><td>&hellip;</td><td>&hellip;</td><td>&hellip;</td><td>&hellip;</td><td>&hellip;</td><td>&hellip;</td><td>&hellip;</td><td>&hellip;</td><td>&hellip;</td><td>&hellip;</td><td>&hellip;</td><td>&hellip;</td><td>&hellip;</td><td>&hellip;</td><td>&hellip;</td><td>&hellip;</td><td>&hellip;</td><td>&hellip;</td><td>&hellip;</td><td>&hellip;</td><td>&hellip;</td><td>&hellip;</td><td>&hellip;</td><td>&hellip;</td><td>&hellip;</td><td>&hellip;</td><td>&hellip;</td><td>&hellip;</td><td>&hellip;</td><td>&hellip;</td><td>&hellip;</td><td>&hellip;</td><td>&hellip;</td><td>&hellip;</td><td>&hellip;</td><td>&hellip;</td><td>&hellip;</td><td>&hellip;</td><td>&hellip;</td><td>&hellip;</td><td>&hellip;</td><td>&hellip;</td><td>&hellip;</td><td>&hellip;</td><td>&hellip;</td><td>&hellip;</td><td>&hellip;</td><td>&hellip;</td><td>&hellip;</td><td>&hellip;</td><td>&hellip;</td><td>&hellip;</td></tr><tr><td>2022</td><td>1</td><td>1</td><td>5</td><td>3</td><td>&quot;2022-01-05&quot;</td><td>&quot;DL&quot;</td><td>19790</td><td>&quot;DL&quot;</td><td>&quot;N843DN&quot;</td><td>2226</td><td>11066</td><td>1106606</td><td>31066</td><td>&quot;CMH&quot;</td><td>&quot;Columbus, OH&quot;</td><td>&quot;OH&quot;</td><td>39</td><td>&quot;Ohio&quot;</td><td>44</td><td>10397</td><td>1039707</td><td>30397</td><td>&quot;ATL&quot;</td><td>&quot;Atlanta, GA&quot;</td><td>&quot;GA&quot;</td><td>13</td><td>&quot;Georgia&quot;</td><td>34</td><td>710</td><td>&quot;0702&quot;</td><td>-8.0</td><td>0.0</td><td>0.0</td><td>-1</td><td>&quot;0700-0759&quot;</td><td>19.0</td><td>&hellip;</td><td>null</td><td>null</td><td>&quot;&quot;</td><td>&quot;&quot;</td><td>&quot;&quot;</td><td>null</td><td>null</td><td>&quot;&quot;</td><td>null</td><td>null</td><td>&quot;&quot;</td><td>&quot;&quot;</td><td>&quot;&quot;</td><td>null</td><td>null</td><td>&quot;&quot;</td><td>null</td><td>null</td><td>&quot;&quot;</td><td>&quot;&quot;</td><td>&quot;&quot;</td><td>null</td><td>null</td><td>&quot;&quot;</td><td>null</td><td>null</td><td>&quot;&quot;</td><td>&quot;&quot;</td><td>&quot;&quot;</td><td>null</td><td>null</td><td>&quot;&quot;</td><td>null</td><td>null</td><td>&quot;&quot;</td><td>&quot;&quot;</td><td>null</td></tr><tr><td>2022</td><td>1</td><td>1</td><td>5</td><td>3</td><td>&quot;2022-01-05&quot;</td><td>&quot;DL&quot;</td><td>19790</td><td>&quot;DL&quot;</td><td>&quot;N343NB&quot;</td><td>2747</td><td>11042</td><td>1104205</td><td>30647</td><td>&quot;CLE&quot;</td><td>&quot;Cleveland, OH&quot;</td><td>&quot;OH&quot;</td><td>39</td><td>&quot;Ohio&quot;</td><td>44</td><td>11433</td><td>1143302</td><td>31295</td><td>&quot;DTW&quot;</td><td>&quot;Detroit, MI&quot;</td><td>&quot;MI&quot;</td><td>26</td><td>&quot;Michigan&quot;</td><td>43</td><td>615</td><td>&quot;0608&quot;</td><td>-7.0</td><td>0.0</td><td>0.0</td><td>-1</td><td>&quot;0600-0659&quot;</td><td>11.0</td><td>&hellip;</td><td>null</td><td>null</td><td>&quot;&quot;</td><td>&quot;&quot;</td><td>&quot;&quot;</td><td>null</td><td>null</td><td>&quot;&quot;</td><td>null</td><td>null</td><td>&quot;&quot;</td><td>&quot;&quot;</td><td>&quot;&quot;</td><td>null</td><td>null</td><td>&quot;&quot;</td><td>null</td><td>null</td><td>&quot;&quot;</td><td>&quot;&quot;</td><td>&quot;&quot;</td><td>null</td><td>null</td><td>&quot;&quot;</td><td>null</td><td>null</td><td>&quot;&quot;</td><td>&quot;&quot;</td><td>&quot;&quot;</td><td>null</td><td>null</td><td>&quot;&quot;</td><td>null</td><td>null</td><td>&quot;&quot;</td><td>&quot;&quot;</td><td>null</td></tr><tr><td>2022</td><td>1</td><td>1</td><td>5</td><td>3</td><td>&quot;2022-01-05&quot;</td><td>&quot;DL&quot;</td><td>19790</td><td>&quot;DL&quot;</td><td>&quot;N843DN&quot;</td><td>2839</td><td>11066</td><td>1106606</td><td>31066</td><td>&quot;CMH&quot;</td><td>&quot;Columbus, OH&quot;</td><td>&quot;OH&quot;</td><td>39</td><td>&quot;Ohio&quot;</td><td>44</td><td>10397</td><td>1039707</td><td>30397</td><td>&quot;ATL&quot;</td><td>&quot;Atlanta, GA&quot;</td><td>&quot;GA&quot;</td><td>13</td><td>&quot;Georgia&quot;</td><td>34</td><td>1249</td><td>&quot;1245&quot;</td><td>-4.0</td><td>0.0</td><td>0.0</td><td>-1</td><td>&quot;1200-1259&quot;</td><td>13.0</td><td>&hellip;</td><td>null</td><td>null</td><td>&quot;&quot;</td><td>&quot;&quot;</td><td>&quot;&quot;</td><td>null</td><td>null</td><td>&quot;&quot;</td><td>null</td><td>null</td><td>&quot;&quot;</td><td>&quot;&quot;</td><td>&quot;&quot;</td><td>null</td><td>null</td><td>&quot;&quot;</td><td>null</td><td>null</td><td>&quot;&quot;</td><td>&quot;&quot;</td><td>&quot;&quot;</td><td>null</td><td>null</td><td>&quot;&quot;</td><td>null</td><td>null</td><td>&quot;&quot;</td><td>&quot;&quot;</td><td>&quot;&quot;</td><td>null</td><td>null</td><td>&quot;&quot;</td><td>null</td><td>null</td><td>&quot;&quot;</td><td>&quot;&quot;</td><td>null</td></tr><tr><td>2022</td><td>1</td><td>1</td><td>5</td><td>3</td><td>&quot;2022-01-05&quot;</td><td>&quot;DL&quot;</td><td>19790</td><td>&quot;DL&quot;</td><td>&quot;N109DN&quot;</td><td>2856</td><td>11042</td><td>1104205</td><td>30647</td><td>&quot;CLE&quot;</td><td>&quot;Cleveland, OH&quot;</td><td>&quot;OH&quot;</td><td>39</td><td>&quot;Ohio&quot;</td><td>44</td><td>10397</td><td>1039707</td><td>30397</td><td>&quot;ATL&quot;</td><td>&quot;Atlanta, GA&quot;</td><td>&quot;GA&quot;</td><td>13</td><td>&quot;Georgia&quot;</td><td>34</td><td>1143</td><td>&quot;1136&quot;</td><td>-7.0</td><td>0.0</td><td>0.0</td><td>-1</td><td>&quot;1100-1159&quot;</td><td>8.0</td><td>&hellip;</td><td>null</td><td>null</td><td>&quot;&quot;</td><td>&quot;&quot;</td><td>&quot;&quot;</td><td>null</td><td>null</td><td>&quot;&quot;</td><td>null</td><td>null</td><td>&quot;&quot;</td><td>&quot;&quot;</td><td>&quot;&quot;</td><td>null</td><td>null</td><td>&quot;&quot;</td><td>null</td><td>null</td><td>&quot;&quot;</td><td>&quot;&quot;</td><td>&quot;&quot;</td><td>null</td><td>null</td><td>&quot;&quot;</td><td>null</td><td>null</td><td>&quot;&quot;</td><td>&quot;&quot;</td><td>&quot;&quot;</td><td>null</td><td>null</td><td>&quot;&quot;</td><td>null</td><td>null</td><td>&quot;&quot;</td><td>&quot;&quot;</td><td>null</td></tr><tr><td>2022</td><td>1</td><td>1</td><td>5</td><td>3</td><td>&quot;2022-01-05&quot;</td><td>&quot;DL&quot;</td><td>19790</td><td>&quot;DL&quot;</td><td>&quot;N109DN&quot;</td><td>2970</td><td>11042</td><td>1104205</td><td>30647</td><td>&quot;CLE&quot;</td><td>&quot;Cleveland, OH&quot;</td><td>&quot;OH&quot;</td><td>39</td><td>&quot;Ohio&quot;</td><td>44</td><td>10397</td><td>1039707</td><td>30397</td><td>&quot;ATL&quot;</td><td>&quot;Atlanta, GA&quot;</td><td>&quot;GA&quot;</td><td>13</td><td>&quot;Georgia&quot;</td><td>34</td><td>1815</td><td>&quot;1806&quot;</td><td>-9.0</td><td>0.0</td><td>0.0</td><td>-1</td><td>&quot;1800-1859&quot;</td><td>29.0</td><td>&hellip;</td><td>null</td><td>null</td><td>&quot;&quot;</td><td>&quot;&quot;</td><td>&quot;&quot;</td><td>null</td><td>null</td><td>&quot;&quot;</td><td>null</td><td>null</td><td>&quot;&quot;</td><td>&quot;&quot;</td><td>&quot;&quot;</td><td>null</td><td>null</td><td>&quot;&quot;</td><td>null</td><td>null</td><td>&quot;&quot;</td><td>&quot;&quot;</td><td>&quot;&quot;</td><td>null</td><td>null</td><td>&quot;&quot;</td><td>null</td><td>null</td><td>&quot;&quot;</td><td>&quot;&quot;</td><td>&quot;&quot;</td><td>null</td><td>null</td><td>&quot;&quot;</td><td>null</td><td>null</td><td>&quot;&quot;</td><td>&quot;&quot;</td><td>null</td></tr><tr><td>2022</td><td>1</td><td>1</td><td>5</td><td>3</td><td>&quot;2022-01-05&quot;</td><td>&quot;DL&quot;</td><td>19790</td><td>&quot;DL&quot;</td><td>&quot;N948AT&quot;</td><td>2998</td><td>11267</td><td>1126702</td><td>31267</td><td>&quot;DAY&quot;</td><td>&quot;Dayton, OH&quot;</td><td>&quot;OH&quot;</td><td>39</td><td>&quot;Ohio&quot;</td><td>44</td><td>10397</td><td>1039707</td><td>30397</td><td>&quot;ATL&quot;</td><td>&quot;Atlanta, GA&quot;</td><td>&quot;GA&quot;</td><td>13</td><td>&quot;Georgia&quot;</td><td>34</td><td>1510</td><td>&quot;1535&quot;</td><td>25.0</td><td>25.0</td><td>1.0</td><td>1</td><td>&quot;1500-1559&quot;</td><td>15.0</td><td>&hellip;</td><td>null</td><td>null</td><td>&quot;&quot;</td><td>&quot;&quot;</td><td>&quot;&quot;</td><td>null</td><td>null</td><td>&quot;&quot;</td><td>null</td><td>null</td><td>&quot;&quot;</td><td>&quot;&quot;</td><td>&quot;&quot;</td><td>null</td><td>null</td><td>&quot;&quot;</td><td>null</td><td>null</td><td>&quot;&quot;</td><td>&quot;&quot;</td><td>&quot;&quot;</td><td>null</td><td>null</td><td>&quot;&quot;</td><td>null</td><td>null</td><td>&quot;&quot;</td><td>&quot;&quot;</td><td>&quot;&quot;</td><td>null</td><td>null</td><td>&quot;&quot;</td><td>null</td><td>null</td><td>&quot;&quot;</td><td>&quot;&quot;</td><td>null</td></tr><tr><td>2022</td><td>1</td><td>1</td><td>6</td><td>4</td><td>&quot;2022-01-06&quot;</td><td>&quot;DL&quot;</td><td>19790</td><td>&quot;DL&quot;</td><td>&quot;N387DA&quot;</td><td>1354</td><td>11066</td><td>1106606</td><td>31066</td><td>&quot;CMH&quot;</td><td>&quot;Columbus, OH&quot;</td><td>&quot;OH&quot;</td><td>39</td><td>&quot;Ohio&quot;</td><td>44</td><td>10397</td><td>1039707</td><td>30397</td><td>&quot;ATL&quot;</td><td>&quot;Atlanta, GA&quot;</td><td>&quot;GA&quot;</td><td>13</td><td>&quot;Georgia&quot;</td><td>34</td><td>1759</td><td>&quot;1751&quot;</td><td>-8.0</td><td>0.0</td><td>0.0</td><td>-1</td><td>&quot;1700-1759&quot;</td><td>49.0</td><td>&hellip;</td><td>null</td><td>null</td><td>&quot;&quot;</td><td>&quot;&quot;</td><td>&quot;&quot;</td><td>null</td><td>null</td><td>&quot;&quot;</td><td>null</td><td>null</td><td>&quot;&quot;</td><td>&quot;&quot;</td><td>&quot;&quot;</td><td>null</td><td>null</td><td>&quot;&quot;</td><td>null</td><td>null</td><td>&quot;&quot;</td><td>&quot;&quot;</td><td>&quot;&quot;</td><td>null</td><td>null</td><td>&quot;&quot;</td><td>null</td><td>null</td><td>&quot;&quot;</td><td>&quot;&quot;</td><td>&quot;&quot;</td><td>null</td><td>null</td><td>&quot;&quot;</td><td>null</td><td>null</td><td>&quot;&quot;</td><td>&quot;&quot;</td><td>null</td></tr><tr><td>2022</td><td>1</td><td>1</td><td>6</td><td>4</td><td>&quot;2022-01-06&quot;</td><td>&quot;DL&quot;</td><td>19790</td><td>&quot;DL&quot;</td><td>&quot;N864DN&quot;</td><td>1386</td><td>11066</td><td>1106606</td><td>31066</td><td>&quot;CMH&quot;</td><td>&quot;Columbus, OH&quot;</td><td>&quot;OH&quot;</td><td>39</td><td>&quot;Ohio&quot;</td><td>44</td><td>10397</td><td>1039707</td><td>30397</td><td>&quot;ATL&quot;</td><td>&quot;Atlanta, GA&quot;</td><td>&quot;GA&quot;</td><td>13</td><td>&quot;Georgia&quot;</td><td>34</td><td>600</td><td>&quot;0547&quot;</td><td>-13.0</td><td>0.0</td><td>0.0</td><td>-1</td><td>&quot;0600-0659&quot;</td><td>42.0</td><td>&hellip;</td><td>null</td><td>null</td><td>&quot;&quot;</td><td>&quot;&quot;</td><td>&quot;&quot;</td><td>null</td><td>null</td><td>&quot;&quot;</td><td>null</td><td>null</td><td>&quot;&quot;</td><td>&quot;&quot;</td><td>&quot;&quot;</td><td>null</td><td>null</td><td>&quot;&quot;</td><td>null</td><td>null</td><td>&quot;&quot;</td><td>&quot;&quot;</td><td>&quot;&quot;</td><td>null</td><td>null</td><td>&quot;&quot;</td><td>null</td><td>null</td><td>&quot;&quot;</td><td>&quot;&quot;</td><td>&quot;&quot;</td><td>null</td><td>null</td><td>&quot;&quot;</td><td>null</td><td>null</td><td>&quot;&quot;</td><td>&quot;&quot;</td><td>null</td></tr><tr><td>2022</td><td>1</td><td>1</td><td>6</td><td>4</td><td>&quot;2022-01-06&quot;</td><td>&quot;DL&quot;</td><td>19790</td><td>&quot;DL&quot;</td><td>&quot;N364DX&quot;</td><td>1444</td><td>11042</td><td>1104205</td><td>30647</td><td>&quot;CLE&quot;</td><td>&quot;Cleveland, OH&quot;</td><td>&quot;OH&quot;</td><td>39</td><td>&quot;Ohio&quot;</td><td>44</td><td>10397</td><td>1039707</td><td>30397</td><td>&quot;ATL&quot;</td><td>&quot;Atlanta, GA&quot;</td><td>&quot;GA&quot;</td><td>13</td><td>&quot;Georgia&quot;</td><td>34</td><td>545</td><td>&quot;0540&quot;</td><td>-5.0</td><td>0.0</td><td>0.0</td><td>-1</td><td>&quot;0001-0559&quot;</td><td>25.0</td><td>&hellip;</td><td>null</td><td>null</td><td>&quot;&quot;</td><td>&quot;&quot;</td><td>&quot;&quot;</td><td>null</td><td>null</td><td>&quot;&quot;</td><td>null</td><td>null</td><td>&quot;&quot;</td><td>&quot;&quot;</td><td>&quot;&quot;</td><td>null</td><td>null</td><td>&quot;&quot;</td><td>null</td><td>null</td><td>&quot;&quot;</td><td>&quot;&quot;</td><td>&quot;&quot;</td><td>null</td><td>null</td><td>&quot;&quot;</td><td>null</td><td>null</td><td>&quot;&quot;</td><td>&quot;&quot;</td><td>&quot;&quot;</td><td>null</td><td>null</td><td>&quot;&quot;</td><td>null</td><td>null</td><td>&quot;&quot;</td><td>&quot;&quot;</td><td>null</td></tr><tr><td>2022</td><td>1</td><td>1</td><td>6</td><td>4</td><td>&quot;2022-01-06&quot;</td><td>&quot;DL&quot;</td><td>19790</td><td>&quot;DL&quot;</td><td>&quot;N929AT&quot;</td><td>1450</td><td>11267</td><td>1126702</td><td>31267</td><td>&quot;DAY&quot;</td><td>&quot;Dayton, OH&quot;</td><td>&quot;OH&quot;</td><td>39</td><td>&quot;Ohio&quot;</td><td>44</td><td>10397</td><td>1039707</td><td>30397</td><td>&quot;ATL&quot;</td><td>&quot;Atlanta, GA&quot;</td><td>&quot;GA&quot;</td><td>13</td><td>&quot;Georgia&quot;</td><td>34</td><td>1155</td><td>&quot;1147&quot;</td><td>-8.0</td><td>0.0</td><td>0.0</td><td>-1</td><td>&quot;1100-1159&quot;</td><td>10.0</td><td>&hellip;</td><td>null</td><td>null</td><td>&quot;&quot;</td><td>&quot;&quot;</td><td>&quot;&quot;</td><td>null</td><td>null</td><td>&quot;&quot;</td><td>null</td><td>null</td><td>&quot;&quot;</td><td>&quot;&quot;</td><td>&quot;&quot;</td><td>null</td><td>null</td><td>&quot;&quot;</td><td>null</td><td>null</td><td>&quot;&quot;</td><td>&quot;&quot;</td><td>&quot;&quot;</td><td>null</td><td>null</td><td>&quot;&quot;</td><td>null</td><td>null</td><td>&quot;&quot;</td><td>&quot;&quot;</td><td>&quot;&quot;</td><td>null</td><td>null</td><td>&quot;&quot;</td><td>null</td><td>null</td><td>&quot;&quot;</td><td>&quot;&quot;</td><td>null</td></tr><tr><td>2022</td><td>1</td><td>1</td><td>6</td><td>4</td><td>&quot;2022-01-06&quot;</td><td>&quot;DL&quot;</td><td>19790</td><td>&quot;DL&quot;</td><td>&quot;N953AT&quot;</td><td>1475</td><td>11267</td><td>1126702</td><td>31267</td><td>&quot;DAY&quot;</td><td>&quot;Dayton, OH&quot;</td><td>&quot;OH&quot;</td><td>39</td><td>&quot;Ohio&quot;</td><td>44</td><td>10397</td><td>1039707</td><td>30397</td><td>&quot;ATL&quot;</td><td>&quot;Atlanta, GA&quot;</td><td>&quot;GA&quot;</td><td>13</td><td>&quot;Georgia&quot;</td><td>34</td><td>1859</td><td>&quot;1853&quot;</td><td>-6.0</td><td>0.0</td><td>0.0</td><td>-1</td><td>&quot;1800-1859&quot;</td><td>9.0</td><td>&hellip;</td><td>null</td><td>null</td><td>&quot;&quot;</td><td>&quot;&quot;</td><td>&quot;&quot;</td><td>null</td><td>null</td><td>&quot;&quot;</td><td>null</td><td>null</td><td>&quot;&quot;</td><td>&quot;&quot;</td><td>&quot;&quot;</td><td>null</td><td>null</td><td>&quot;&quot;</td><td>null</td><td>null</td><td>&quot;&quot;</td><td>&quot;&quot;</td><td>&quot;&quot;</td><td>null</td><td>null</td><td>&quot;&quot;</td><td>null</td><td>null</td><td>&quot;&quot;</td><td>&quot;&quot;</td><td>&quot;&quot;</td><td>null</td><td>null</td><td>&quot;&quot;</td><td>null</td><td>null</td><td>&quot;&quot;</td><td>&quot;&quot;</td><td>null</td></tr><tr><td>2022</td><td>1</td><td>1</td><td>6</td><td>4</td><td>&quot;2022-01-06&quot;</td><td>&quot;DL&quot;</td><td>19790</td><td>&quot;DL&quot;</td><td>&quot;N101DQ&quot;</td><td>1576</td><td>11042</td><td>1104205</td><td>30647</td><td>&quot;CLE&quot;</td><td>&quot;Cleveland, OH&quot;</td><td>&quot;OH&quot;</td><td>39</td><td>&quot;Ohio&quot;</td><td>44</td><td>10397</td><td>1039707</td><td>30397</td><td>&quot;ATL&quot;</td><td>&quot;Atlanta, GA&quot;</td><td>&quot;GA&quot;</td><td>13</td><td>&quot;Georgia&quot;</td><td>34</td><td>1355</td><td>&quot;1413&quot;</td><td>18.0</td><td>18.0</td><td>1.0</td><td>1</td><td>&quot;1300-1359&quot;</td><td>9.0</td><td>&hellip;</td><td>null</td><td>null</td><td>&quot;&quot;</td><td>&quot;&quot;</td><td>&quot;&quot;</td><td>null</td><td>null</td><td>&quot;&quot;</td><td>null</td><td>null</td><td>&quot;&quot;</td><td>&quot;&quot;</td><td>&quot;&quot;</td><td>null</td><td>null</td><td>&quot;&quot;</td><td>null</td><td>null</td><td>&quot;&quot;</td><td>&quot;&quot;</td><td>&quot;&quot;</td><td>null</td><td>null</td><td>&quot;&quot;</td><td>null</td><td>null</td><td>&quot;&quot;</td><td>&quot;&quot;</td><td>&quot;&quot;</td><td>null</td><td>null</td><td>&quot;&quot;</td><td>null</td><td>null</td><td>&quot;&quot;</td><td>&quot;&quot;</td><td>null</td></tr></tbody></table></div>"
      ],
      "text/plain": [
       "shape: (7_434, 110)\n",
       "┌──────┬─────────┬───────┬────────────┬───┬──────────────────┬───────────────┬─────────────┬──────┐\n",
       "│ Year ┆ Quarter ┆ Month ┆ DayofMonth ┆ … ┆ Div5LongestGTime ┆ Div5WheelsOff ┆ Div5TailNum ┆      │\n",
       "│ ---  ┆ ---     ┆ ---   ┆ ---        ┆   ┆ ---              ┆ ---           ┆ ---         ┆ ---  │\n",
       "│ i64  ┆ i64     ┆ i64   ┆ i64        ┆   ┆ str              ┆ str           ┆ str         ┆ str  │\n",
       "╞══════╪═════════╪═══════╪════════════╪═══╪══════════════════╪═══════════════╪═════════════╪══════╡\n",
       "│ 2022 ┆ 1       ┆ 1     ┆ 14         ┆ … ┆ null             ┆               ┆             ┆ null │\n",
       "│ 2022 ┆ 1       ┆ 1     ┆ 15         ┆ … ┆ null             ┆               ┆             ┆ null │\n",
       "│ 2022 ┆ 1       ┆ 1     ┆ 16         ┆ … ┆ null             ┆               ┆             ┆ null │\n",
       "│ 2022 ┆ 1       ┆ 1     ┆ 17         ┆ … ┆ null             ┆               ┆             ┆ null │\n",
       "│ 2022 ┆ 1       ┆ 1     ┆ 18         ┆ … ┆ null             ┆               ┆             ┆ null │\n",
       "│ …    ┆ …       ┆ …     ┆ …          ┆ … ┆ …                ┆ …             ┆ …           ┆ …    │\n",
       "│ 2022 ┆ 1       ┆ 1     ┆ 6          ┆ … ┆ null             ┆               ┆             ┆ null │\n",
       "│ 2022 ┆ 1       ┆ 1     ┆ 6          ┆ … ┆ null             ┆               ┆             ┆ null │\n",
       "│ 2022 ┆ 1       ┆ 1     ┆ 6          ┆ … ┆ null             ┆               ┆             ┆ null │\n",
       "│ 2022 ┆ 1       ┆ 1     ┆ 6          ┆ … ┆ null             ┆               ┆             ┆ null │\n",
       "│ 2022 ┆ 1       ┆ 1     ┆ 6          ┆ … ┆ null             ┆               ┆             ┆ null │\n",
       "└──────┴─────────┴───────┴────────────┴───┴──────────────────┴───────────────┴─────────────┴──────┘"
      ]
     },
     "execution_count": 15,
     "metadata": {},
     "output_type": "execute_result"
    }
   ],
   "source": [
    "full_flights.filter(pl.col('OriginStateName') == 'Ohio')"
   ]
  },
  {
   "cell_type": "code",
   "execution_count": 16,
   "id": "b2928c47-3e58-42e8-a175-706d36eabe2a",
   "metadata": {},
   "outputs": [
    {
     "data": {
      "text/html": [
       "<div><style>\n",
       ".dataframe > thead > tr,\n",
       ".dataframe > tbody > tr {\n",
       "  text-align: right;\n",
       "  white-space: pre-wrap;\n",
       "}\n",
       "</style>\n",
       "<small>shape: (5, 110)</small><table border=\"1\" class=\"dataframe\"><thead><tr><th>Year</th><th>Quarter</th><th>Month</th><th>DayofMonth</th><th>DayOfWeek</th><th>FlightDate</th><th>Reporting_Airline</th><th>DOT_ID_Reporting_Airline</th><th>IATA_CODE_Reporting_Airline</th><th>Tail_Number</th><th>Flight_Number_Reporting_Airline</th><th>OriginAirportID</th><th>OriginAirportSeqID</th><th>OriginCityMarketID</th><th>Origin</th><th>OriginCityName</th><th>OriginState</th><th>OriginStateFips</th><th>OriginStateName</th><th>OriginWac</th><th>DestAirportID</th><th>DestAirportSeqID</th><th>DestCityMarketID</th><th>Dest</th><th>DestCityName</th><th>DestState</th><th>DestStateFips</th><th>DestStateName</th><th>DestWac</th><th>CRSDepTime</th><th>DepTime</th><th>DepDelay</th><th>DepDelayMinutes</th><th>DepDel15</th><th>DepartureDelayGroups</th><th>DepTimeBlk</th><th>TaxiOut</th><th>&hellip;</th><th>Div1TotalGTime</th><th>Div1LongestGTime</th><th>Div1WheelsOff</th><th>Div1TailNum</th><th>Div2Airport</th><th>Div2AirportID</th><th>Div2AirportSeqID</th><th>Div2WheelsOn</th><th>Div2TotalGTime</th><th>Div2LongestGTime</th><th>Div2WheelsOff</th><th>Div2TailNum</th><th>Div3Airport</th><th>Div3AirportID</th><th>Div3AirportSeqID</th><th>Div3WheelsOn</th><th>Div3TotalGTime</th><th>Div3LongestGTime</th><th>Div3WheelsOff</th><th>Div3TailNum</th><th>Div4Airport</th><th>Div4AirportID</th><th>Div4AirportSeqID</th><th>Div4WheelsOn</th><th>Div4TotalGTime</th><th>Div4LongestGTime</th><th>Div4WheelsOff</th><th>Div4TailNum</th><th>Div5Airport</th><th>Div5AirportID</th><th>Div5AirportSeqID</th><th>Div5WheelsOn</th><th>Div5TotalGTime</th><th>Div5LongestGTime</th><th>Div5WheelsOff</th><th>Div5TailNum</th><th></th></tr><tr><td>i64</td><td>i64</td><td>i64</td><td>i64</td><td>i64</td><td>str</td><td>str</td><td>i64</td><td>str</td><td>str</td><td>i64</td><td>i64</td><td>i64</td><td>i64</td><td>str</td><td>str</td><td>str</td><td>i64</td><td>str</td><td>i64</td><td>i64</td><td>i64</td><td>i64</td><td>str</td><td>str</td><td>str</td><td>i64</td><td>str</td><td>i64</td><td>i64</td><td>str</td><td>f64</td><td>f64</td><td>f64</td><td>i64</td><td>str</td><td>f64</td><td>&hellip;</td><td>str</td><td>str</td><td>str</td><td>str</td><td>str</td><td>str</td><td>str</td><td>str</td><td>str</td><td>str</td><td>str</td><td>str</td><td>str</td><td>str</td><td>str</td><td>str</td><td>str</td><td>str</td><td>str</td><td>str</td><td>str</td><td>str</td><td>str</td><td>str</td><td>str</td><td>str</td><td>str</td><td>str</td><td>str</td><td>str</td><td>str</td><td>str</td><td>str</td><td>str</td><td>str</td><td>str</td><td>str</td></tr></thead><tbody><tr><td>2022</td><td>1</td><td>1</td><td>14</td><td>5</td><td>&quot;2022-01-14&quot;</td><td>&quot;YX&quot;</td><td>20452</td><td>&quot;YX&quot;</td><td>&quot;N119HQ&quot;</td><td>4879</td><td>11066</td><td>1106606</td><td>31066</td><td>&quot;CMH&quot;</td><td>&quot;Columbus, OH&quot;</td><td>&quot;OH&quot;</td><td>39</td><td>&quot;Ohio&quot;</td><td>44</td><td>11278</td><td>1127805</td><td>30852</td><td>&quot;DCA&quot;</td><td>&quot;Washington, DC…</td><td>&quot;VA&quot;</td><td>51</td><td>&quot;Virginia&quot;</td><td>38</td><td>1224</td><td>&quot;1221&quot;</td><td>-3.0</td><td>0.0</td><td>0.0</td><td>-1</td><td>&quot;1200-1259&quot;</td><td>28.0</td><td>&hellip;</td><td>null</td><td>null</td><td>&quot;&quot;</td><td>&quot;&quot;</td><td>&quot;&quot;</td><td>null</td><td>null</td><td>&quot;&quot;</td><td>null</td><td>null</td><td>&quot;&quot;</td><td>&quot;&quot;</td><td>&quot;&quot;</td><td>null</td><td>null</td><td>&quot;&quot;</td><td>null</td><td>null</td><td>&quot;&quot;</td><td>&quot;&quot;</td><td>&quot;&quot;</td><td>null</td><td>null</td><td>&quot;&quot;</td><td>null</td><td>null</td><td>&quot;&quot;</td><td>&quot;&quot;</td><td>&quot;&quot;</td><td>null</td><td>null</td><td>&quot;&quot;</td><td>null</td><td>null</td><td>&quot;&quot;</td><td>&quot;&quot;</td><td>null</td></tr><tr><td>2022</td><td>1</td><td>1</td><td>15</td><td>6</td><td>&quot;2022-01-15&quot;</td><td>&quot;YX&quot;</td><td>20452</td><td>&quot;YX&quot;</td><td>&quot;N122HQ&quot;</td><td>4879</td><td>11066</td><td>1106606</td><td>31066</td><td>&quot;CMH&quot;</td><td>&quot;Columbus, OH&quot;</td><td>&quot;OH&quot;</td><td>39</td><td>&quot;Ohio&quot;</td><td>44</td><td>11278</td><td>1127805</td><td>30852</td><td>&quot;DCA&quot;</td><td>&quot;Washington, DC…</td><td>&quot;VA&quot;</td><td>51</td><td>&quot;Virginia&quot;</td><td>38</td><td>1224</td><td>&quot;1214&quot;</td><td>-10.0</td><td>0.0</td><td>0.0</td><td>-1</td><td>&quot;1200-1259&quot;</td><td>19.0</td><td>&hellip;</td><td>null</td><td>null</td><td>&quot;&quot;</td><td>&quot;&quot;</td><td>&quot;&quot;</td><td>null</td><td>null</td><td>&quot;&quot;</td><td>null</td><td>null</td><td>&quot;&quot;</td><td>&quot;&quot;</td><td>&quot;&quot;</td><td>null</td><td>null</td><td>&quot;&quot;</td><td>null</td><td>null</td><td>&quot;&quot;</td><td>&quot;&quot;</td><td>&quot;&quot;</td><td>null</td><td>null</td><td>&quot;&quot;</td><td>null</td><td>null</td><td>&quot;&quot;</td><td>&quot;&quot;</td><td>&quot;&quot;</td><td>null</td><td>null</td><td>&quot;&quot;</td><td>null</td><td>null</td><td>&quot;&quot;</td><td>&quot;&quot;</td><td>null</td></tr><tr><td>2022</td><td>1</td><td>1</td><td>16</td><td>7</td><td>&quot;2022-01-16&quot;</td><td>&quot;YX&quot;</td><td>20452</td><td>&quot;YX&quot;</td><td>&quot;N412YX&quot;</td><td>4879</td><td>11066</td><td>1106606</td><td>31066</td><td>&quot;CMH&quot;</td><td>&quot;Columbus, OH&quot;</td><td>&quot;OH&quot;</td><td>39</td><td>&quot;Ohio&quot;</td><td>44</td><td>11278</td><td>1127805</td><td>30852</td><td>&quot;DCA&quot;</td><td>&quot;Washington, DC…</td><td>&quot;VA&quot;</td><td>51</td><td>&quot;Virginia&quot;</td><td>38</td><td>1224</td><td>&quot;1218&quot;</td><td>-6.0</td><td>0.0</td><td>0.0</td><td>-1</td><td>&quot;1200-1259&quot;</td><td>16.0</td><td>&hellip;</td><td>null</td><td>null</td><td>&quot;&quot;</td><td>&quot;&quot;</td><td>&quot;&quot;</td><td>null</td><td>null</td><td>&quot;&quot;</td><td>null</td><td>null</td><td>&quot;&quot;</td><td>&quot;&quot;</td><td>&quot;&quot;</td><td>null</td><td>null</td><td>&quot;&quot;</td><td>null</td><td>null</td><td>&quot;&quot;</td><td>&quot;&quot;</td><td>&quot;&quot;</td><td>null</td><td>null</td><td>&quot;&quot;</td><td>null</td><td>null</td><td>&quot;&quot;</td><td>&quot;&quot;</td><td>&quot;&quot;</td><td>null</td><td>null</td><td>&quot;&quot;</td><td>null</td><td>null</td><td>&quot;&quot;</td><td>&quot;&quot;</td><td>null</td></tr><tr><td>2022</td><td>1</td><td>1</td><td>17</td><td>1</td><td>&quot;2022-01-17&quot;</td><td>&quot;YX&quot;</td><td>20452</td><td>&quot;YX&quot;</td><td>&quot;N405YX&quot;</td><td>4879</td><td>11066</td><td>1106606</td><td>31066</td><td>&quot;CMH&quot;</td><td>&quot;Columbus, OH&quot;</td><td>&quot;OH&quot;</td><td>39</td><td>&quot;Ohio&quot;</td><td>44</td><td>11278</td><td>1127805</td><td>30852</td><td>&quot;DCA&quot;</td><td>&quot;Washington, DC…</td><td>&quot;VA&quot;</td><td>51</td><td>&quot;Virginia&quot;</td><td>38</td><td>1224</td><td>&quot;1217&quot;</td><td>-7.0</td><td>0.0</td><td>0.0</td><td>-1</td><td>&quot;1200-1259&quot;</td><td>32.0</td><td>&hellip;</td><td>null</td><td>null</td><td>&quot;&quot;</td><td>&quot;&quot;</td><td>&quot;&quot;</td><td>null</td><td>null</td><td>&quot;&quot;</td><td>null</td><td>null</td><td>&quot;&quot;</td><td>&quot;&quot;</td><td>&quot;&quot;</td><td>null</td><td>null</td><td>&quot;&quot;</td><td>null</td><td>null</td><td>&quot;&quot;</td><td>&quot;&quot;</td><td>&quot;&quot;</td><td>null</td><td>null</td><td>&quot;&quot;</td><td>null</td><td>null</td><td>&quot;&quot;</td><td>&quot;&quot;</td><td>&quot;&quot;</td><td>null</td><td>null</td><td>&quot;&quot;</td><td>null</td><td>null</td><td>&quot;&quot;</td><td>&quot;&quot;</td><td>null</td></tr><tr><td>2022</td><td>1</td><td>1</td><td>18</td><td>2</td><td>&quot;2022-01-18&quot;</td><td>&quot;YX&quot;</td><td>20452</td><td>&quot;YX&quot;</td><td>&quot;N420YX&quot;</td><td>4879</td><td>11066</td><td>1106606</td><td>31066</td><td>&quot;CMH&quot;</td><td>&quot;Columbus, OH&quot;</td><td>&quot;OH&quot;</td><td>39</td><td>&quot;Ohio&quot;</td><td>44</td><td>11278</td><td>1127805</td><td>30852</td><td>&quot;DCA&quot;</td><td>&quot;Washington, DC…</td><td>&quot;VA&quot;</td><td>51</td><td>&quot;Virginia&quot;</td><td>38</td><td>1224</td><td>&quot;1218&quot;</td><td>-6.0</td><td>0.0</td><td>0.0</td><td>-1</td><td>&quot;1200-1259&quot;</td><td>11.0</td><td>&hellip;</td><td>null</td><td>null</td><td>&quot;&quot;</td><td>&quot;&quot;</td><td>&quot;&quot;</td><td>null</td><td>null</td><td>&quot;&quot;</td><td>null</td><td>null</td><td>&quot;&quot;</td><td>&quot;&quot;</td><td>&quot;&quot;</td><td>null</td><td>null</td><td>&quot;&quot;</td><td>null</td><td>null</td><td>&quot;&quot;</td><td>&quot;&quot;</td><td>&quot;&quot;</td><td>null</td><td>null</td><td>&quot;&quot;</td><td>null</td><td>null</td><td>&quot;&quot;</td><td>&quot;&quot;</td><td>&quot;&quot;</td><td>null</td><td>null</td><td>&quot;&quot;</td><td>null</td><td>null</td><td>&quot;&quot;</td><td>&quot;&quot;</td><td>null</td></tr></tbody></table></div>"
      ],
      "text/plain": [
       "shape: (5, 110)\n",
       "┌──────┬─────────┬───────┬────────────┬───┬──────────────────┬───────────────┬─────────────┬──────┐\n",
       "│ Year ┆ Quarter ┆ Month ┆ DayofMonth ┆ … ┆ Div5LongestGTime ┆ Div5WheelsOff ┆ Div5TailNum ┆      │\n",
       "│ ---  ┆ ---     ┆ ---   ┆ ---        ┆   ┆ ---              ┆ ---           ┆ ---         ┆ ---  │\n",
       "│ i64  ┆ i64     ┆ i64   ┆ i64        ┆   ┆ str              ┆ str           ┆ str         ┆ str  │\n",
       "╞══════╪═════════╪═══════╪════════════╪═══╪══════════════════╪═══════════════╪═════════════╪══════╡\n",
       "│ 2022 ┆ 1       ┆ 1     ┆ 14         ┆ … ┆ null             ┆               ┆             ┆ null │\n",
       "│ 2022 ┆ 1       ┆ 1     ┆ 15         ┆ … ┆ null             ┆               ┆             ┆ null │\n",
       "│ 2022 ┆ 1       ┆ 1     ┆ 16         ┆ … ┆ null             ┆               ┆             ┆ null │\n",
       "│ 2022 ┆ 1       ┆ 1     ┆ 17         ┆ … ┆ null             ┆               ┆             ┆ null │\n",
       "│ 2022 ┆ 1       ┆ 1     ┆ 18         ┆ … ┆ null             ┆               ┆             ┆ null │\n",
       "└──────┴─────────┴───────┴────────────┴───┴──────────────────┴───────────────┴─────────────┴──────┘"
      ]
     },
     "execution_count": 16,
     "metadata": {},
     "output_type": "execute_result"
    }
   ],
   "source": [
    "full_flights.filter(pl.col('DestStateName') == 'Virginia').head()"
   ]
  },
  {
   "cell_type": "code",
   "execution_count": 17,
   "id": "895b1d9b-5129-472f-bdb2-89bb425d619e",
   "metadata": {},
   "outputs": [
    {
     "data": {
      "text/plain": [
       "(6870, 110)"
      ]
     },
     "execution_count": 17,
     "metadata": {},
     "output_type": "execute_result"
    }
   ],
   "source": [
    "full_flights.filter(\n",
    "    pl.col('OriginStateName') == 'Ohio', \n",
    "    ~(pl.col('DestStateName') == 'Virginia')\n",
    ").shape"
   ]
  },
  {
   "cell_type": "markdown",
   "id": "7d27dfa8-4f67-4bee-9c29-b648b2acaa59",
   "metadata": {},
   "source": [
    "### Select"
   ]
  },
  {
   "cell_type": "code",
   "execution_count": 18,
   "id": "73045a29-7edf-480f-83cb-4e1ddefce8e6",
   "metadata": {},
   "outputs": [
    {
     "data": {
      "text/html": [
       "<div><style>\n",
       ".dataframe > thead > tr,\n",
       ".dataframe > tbody > tr {\n",
       "  text-align: right;\n",
       "  white-space: pre-wrap;\n",
       "}\n",
       "</style>\n",
       "<small>shape: (3, 1)</small><table border=\"1\" class=\"dataframe\"><thead><tr><th>mmin</th></tr><tr><td>i64</td></tr></thead><tbody><tr><td>1</td></tr><tr><td>2</td></tr><tr><td>3</td></tr></tbody></table></div>"
      ],
      "text/plain": [
       "shape: (3, 1)\n",
       "┌──────┐\n",
       "│ mmin │\n",
       "│ ---  │\n",
       "│ i64  │\n",
       "╞══════╡\n",
       "│ 1    │\n",
       "│ 2    │\n",
       "│ 3    │\n",
       "└──────┘"
      ]
     },
     "execution_count": 18,
     "metadata": {},
     "output_type": "execute_result"
    }
   ],
   "source": [
    "foo = pl.Series('foo', [1, 2, 3])\n",
    "bar = pl.Series('bar', [4, 5, 6])\n",
    "\n",
    "pl.select(mmin = pl.min_horizontal(foo, bar))"
   ]
  },
  {
   "cell_type": "code",
   "execution_count": 19,
   "id": "8cb803cf-a48c-40af-9f6b-57d81a819c5f",
   "metadata": {},
   "outputs": [
    {
     "data": {
      "text/html": [
       "<div><style>\n",
       ".dataframe > thead > tr,\n",
       ".dataframe > tbody > tr {\n",
       "  text-align: right;\n",
       "  white-space: pre-wrap;\n",
       "}\n",
       "</style>\n",
       "<small>shape: (3, 2)</small><table border=\"1\" class=\"dataframe\"><thead><tr><th>foo</th><th>bar</th></tr><tr><td>i64</td><td>i64</td></tr></thead><tbody><tr><td>1</td><td>4</td></tr><tr><td>2</td><td>5</td></tr><tr><td>3</td><td>6</td></tr></tbody></table></div>"
      ],
      "text/plain": [
       "shape: (3, 2)\n",
       "┌─────┬─────┐\n",
       "│ foo ┆ bar │\n",
       "│ --- ┆ --- │\n",
       "│ i64 ┆ i64 │\n",
       "╞═════╪═════╡\n",
       "│ 1   ┆ 4   │\n",
       "│ 2   ┆ 5   │\n",
       "│ 3   ┆ 6   │\n",
       "└─────┴─────┘"
      ]
     },
     "execution_count": 19,
     "metadata": {},
     "output_type": "execute_result"
    }
   ],
   "source": [
    "pl.select(foo, bar)"
   ]
  },
  {
   "cell_type": "code",
   "execution_count": 20,
   "id": "d58fc51d-d241-4699-8c5a-ff243e4bdf19",
   "metadata": {},
   "outputs": [
    {
     "data": {
      "text/html": [
       "<div><style>\n",
       ".dataframe > thead > tr,\n",
       ".dataframe > tbody > tr {\n",
       "  text-align: right;\n",
       "  white-space: pre-wrap;\n",
       "}\n",
       "</style>\n",
       "<small>shape: (3, 2)</small><table border=\"1\" class=\"dataframe\"><thead><tr><th>FlightDate</th><th>Tail_Number</th></tr><tr><td>str</td><td>str</td></tr></thead><tbody><tr><td>&quot;2022-01-14&quot;</td><td>&quot;N119HQ&quot;</td></tr><tr><td>&quot;2022-01-15&quot;</td><td>&quot;N122HQ&quot;</td></tr><tr><td>&quot;2022-01-16&quot;</td><td>&quot;N412YX&quot;</td></tr></tbody></table></div>"
      ],
      "text/plain": [
       "shape: (3, 2)\n",
       "┌────────────┬─────────────┐\n",
       "│ FlightDate ┆ Tail_Number │\n",
       "│ ---        ┆ ---         │\n",
       "│ str        ┆ str         │\n",
       "╞════════════╪═════════════╡\n",
       "│ 2022-01-14 ┆ N119HQ      │\n",
       "│ 2022-01-15 ┆ N122HQ      │\n",
       "│ 2022-01-16 ┆ N412YX      │\n",
       "└────────────┴─────────────┘"
      ]
     },
     "execution_count": 20,
     "metadata": {},
     "output_type": "execute_result"
    }
   ],
   "source": [
    "full_flights.select(['FlightDate', 'Tail_Number']).head(3)"
   ]
  },
  {
   "cell_type": "code",
   "execution_count": 21,
   "id": "123274ce-26c3-46b8-abb3-497ce720f605",
   "metadata": {},
   "outputs": [
    {
     "data": {
      "text/html": [
       "<div><style>\n",
       ".dataframe > thead > tr,\n",
       ".dataframe > tbody > tr {\n",
       "  text-align: right;\n",
       "  white-space: pre-wrap;\n",
       "}\n",
       "</style>\n",
       "<small>shape: (3, 2)</small><table border=\"1\" class=\"dataframe\"><thead><tr><th>FlightDate</th><th>Tail_Number</th></tr><tr><td>str</td><td>str</td></tr></thead><tbody><tr><td>&quot;2022-01-14&quot;</td><td>&quot;N119HQ&quot;</td></tr><tr><td>&quot;2022-01-15&quot;</td><td>&quot;N122HQ&quot;</td></tr><tr><td>&quot;2022-01-16&quot;</td><td>&quot;N412YX&quot;</td></tr></tbody></table></div>"
      ],
      "text/plain": [
       "shape: (3, 2)\n",
       "┌────────────┬─────────────┐\n",
       "│ FlightDate ┆ Tail_Number │\n",
       "│ ---        ┆ ---         │\n",
       "│ str        ┆ str         │\n",
       "╞════════════╪═════════════╡\n",
       "│ 2022-01-14 ┆ N119HQ      │\n",
       "│ 2022-01-15 ┆ N122HQ      │\n",
       "│ 2022-01-16 ┆ N412YX      │\n",
       "└────────────┴─────────────┘"
      ]
     },
     "execution_count": 21,
     "metadata": {},
     "output_type": "execute_result"
    }
   ],
   "source": [
    "full_flights.select(pl.col(['FlightDate', 'Tail_Number'])).head(3)"
   ]
  },
  {
   "cell_type": "code",
   "execution_count": 22,
   "id": "e8d94b94-4679-41ff-b7bb-8a21c51359b8",
   "metadata": {},
   "outputs": [
    {
     "data": {
      "text/plain": [
       "['Year',\n",
       " 'Quarter',\n",
       " 'Month',\n",
       " 'DayofMonth',\n",
       " 'DayOfWeek',\n",
       " 'DOT_ID_Reporting_Airline',\n",
       " 'Flight_Number_Reporting_Airline',\n",
       " 'OriginAirportID',\n",
       " 'OriginAirportSeqID',\n",
       " 'OriginCityMarketID',\n",
       " 'OriginStateFips',\n",
       " 'OriginWac',\n",
       " 'DestAirportID',\n",
       " 'DestAirportSeqID',\n",
       " 'DestCityMarketID',\n",
       " 'DestStateFips',\n",
       " 'DestWac',\n",
       " 'CRSDepTime',\n",
       " 'DepartureDelayGroups',\n",
       " 'CRSArrTime',\n",
       " 'ArrivalDelayGroups',\n",
       " 'DistanceGroup',\n",
       " 'DivAirportLandings']"
      ]
     },
     "execution_count": 22,
     "metadata": {},
     "output_type": "execute_result"
    }
   ],
   "source": [
    "full_flights.select(pl.col(pl.Int64)).columns"
   ]
  },
  {
   "cell_type": "code",
   "execution_count": 23,
   "id": "ba384223-d0a0-4443-a9d8-4419bf31b7e2",
   "metadata": {},
   "outputs": [
    {
     "data": {
      "text/plain": [
       "['Year',\n",
       " 'Quarter',\n",
       " 'Month',\n",
       " 'DayofMonth',\n",
       " 'DayOfWeek',\n",
       " 'DOT_ID_Reporting_Airline',\n",
       " 'Flight_Number_Reporting_Airline',\n",
       " 'OriginAirportID',\n",
       " 'OriginAirportSeqID',\n",
       " 'OriginCityMarketID',\n",
       " 'OriginStateFips',\n",
       " 'OriginWac',\n",
       " 'DestAirportID',\n",
       " 'DestAirportSeqID',\n",
       " 'DestCityMarketID',\n",
       " 'DestStateFips',\n",
       " 'DestWac',\n",
       " 'CRSDepTime',\n",
       " 'DepartureDelayGroups',\n",
       " 'CRSArrTime',\n",
       " 'ArrivalDelayGroups',\n",
       " 'DistanceGroup',\n",
       " 'DivAirportLandings',\n",
       " 'DepDelay',\n",
       " 'DepDelayMinutes',\n",
       " 'DepDel15',\n",
       " 'TaxiOut',\n",
       " 'TaxiIn',\n",
       " 'ArrDelay',\n",
       " 'ArrDelayMinutes',\n",
       " 'ArrDel15',\n",
       " 'Cancelled',\n",
       " 'Diverted',\n",
       " 'CRSElapsedTime',\n",
       " 'ActualElapsedTime',\n",
       " 'AirTime',\n",
       " 'Flights',\n",
       " 'Distance',\n",
       " 'CarrierDelay',\n",
       " 'WeatherDelay',\n",
       " 'NASDelay',\n",
       " 'SecurityDelay',\n",
       " 'LateAircraftDelay',\n",
       " 'TotalAddGTime',\n",
       " 'LongestAddGTime']"
      ]
     },
     "execution_count": 23,
     "metadata": {},
     "output_type": "execute_result"
    }
   ],
   "source": [
    "full_flights.select(\n",
    "    pl.col(pl.Int64),\n",
    "    pl.col(pl.Float64)\n",
    ").columns"
   ]
  },
  {
   "cell_type": "code",
   "execution_count": 24,
   "id": "f0f407bb-0844-4eef-89e4-5f094524d924",
   "metadata": {},
   "outputs": [],
   "source": [
    "import polars.selectors as cs"
   ]
  },
  {
   "cell_type": "code",
   "execution_count": 25,
   "id": "38478489-4d67-4ffb-9066-a507ddd7cf8d",
   "metadata": {},
   "outputs": [
    {
     "data": {
      "text/html": [
       "<div><style>\n",
       ".dataframe > thead > tr,\n",
       ".dataframe > tbody > tr {\n",
       "  text-align: right;\n",
       "  white-space: pre-wrap;\n",
       "}\n",
       "</style>\n",
       "<small>shape: (3, 110)</small><table border=\"1\" class=\"dataframe\"><thead><tr><th>Year</th><th>Quarter</th><th>Month</th><th>DayofMonth</th><th>DayOfWeek</th><th>FlightDate</th><th>Reporting_Airline</th><th>DOT_ID_Reporting_Airline</th><th>IATA_CODE_Reporting_Airline</th><th>Tail_Number</th><th>Flight_Number_Reporting_Airline</th><th>OriginAirportID</th><th>OriginAirportSeqID</th><th>OriginCityMarketID</th><th>Origin</th><th>OriginCityName</th><th>OriginState</th><th>OriginStateFips</th><th>OriginStateName</th><th>OriginWac</th><th>DestAirportID</th><th>DestAirportSeqID</th><th>DestCityMarketID</th><th>Dest</th><th>DestCityName</th><th>DestState</th><th>DestStateFips</th><th>DestStateName</th><th>DestWac</th><th>CRSDepTime</th><th>DepTime</th><th>DepDelay</th><th>DepDelayMinutes</th><th>DepDel15</th><th>DepartureDelayGroups</th><th>DepTimeBlk</th><th>TaxiOut</th><th>&hellip;</th><th>Div1TotalGTime</th><th>Div1LongestGTime</th><th>Div1WheelsOff</th><th>Div1TailNum</th><th>Div2Airport</th><th>Div2AirportID</th><th>Div2AirportSeqID</th><th>Div2WheelsOn</th><th>Div2TotalGTime</th><th>Div2LongestGTime</th><th>Div2WheelsOff</th><th>Div2TailNum</th><th>Div3Airport</th><th>Div3AirportID</th><th>Div3AirportSeqID</th><th>Div3WheelsOn</th><th>Div3TotalGTime</th><th>Div3LongestGTime</th><th>Div3WheelsOff</th><th>Div3TailNum</th><th>Div4Airport</th><th>Div4AirportID</th><th>Div4AirportSeqID</th><th>Div4WheelsOn</th><th>Div4TotalGTime</th><th>Div4LongestGTime</th><th>Div4WheelsOff</th><th>Div4TailNum</th><th>Div5Airport</th><th>Div5AirportID</th><th>Div5AirportSeqID</th><th>Div5WheelsOn</th><th>Div5TotalGTime</th><th>Div5LongestGTime</th><th>Div5WheelsOff</th><th>Div5TailNum</th><th></th></tr><tr><td>i64</td><td>i64</td><td>i64</td><td>i64</td><td>i64</td><td>str</td><td>str</td><td>i64</td><td>str</td><td>str</td><td>i64</td><td>i64</td><td>i64</td><td>i64</td><td>str</td><td>str</td><td>str</td><td>i64</td><td>str</td><td>i64</td><td>i64</td><td>i64</td><td>i64</td><td>str</td><td>str</td><td>str</td><td>i64</td><td>str</td><td>i64</td><td>i64</td><td>str</td><td>f64</td><td>f64</td><td>f64</td><td>i64</td><td>str</td><td>f64</td><td>&hellip;</td><td>str</td><td>str</td><td>str</td><td>str</td><td>str</td><td>str</td><td>str</td><td>str</td><td>str</td><td>str</td><td>str</td><td>str</td><td>str</td><td>str</td><td>str</td><td>str</td><td>str</td><td>str</td><td>str</td><td>str</td><td>str</td><td>str</td><td>str</td><td>str</td><td>str</td><td>str</td><td>str</td><td>str</td><td>str</td><td>str</td><td>str</td><td>str</td><td>str</td><td>str</td><td>str</td><td>str</td><td>str</td></tr></thead><tbody><tr><td>2022</td><td>1</td><td>1</td><td>14</td><td>5</td><td>&quot;2022-01-14&quot;</td><td>&quot;YX&quot;</td><td>20452</td><td>&quot;YX&quot;</td><td>&quot;N119HQ&quot;</td><td>4879</td><td>11066</td><td>1106606</td><td>31066</td><td>&quot;CMH&quot;</td><td>&quot;Columbus, OH&quot;</td><td>&quot;OH&quot;</td><td>39</td><td>&quot;Ohio&quot;</td><td>44</td><td>11278</td><td>1127805</td><td>30852</td><td>&quot;DCA&quot;</td><td>&quot;Washington, DC…</td><td>&quot;VA&quot;</td><td>51</td><td>&quot;Virginia&quot;</td><td>38</td><td>1224</td><td>&quot;1221&quot;</td><td>-3.0</td><td>0.0</td><td>0.0</td><td>-1</td><td>&quot;1200-1259&quot;</td><td>28.0</td><td>&hellip;</td><td>null</td><td>null</td><td>&quot;&quot;</td><td>&quot;&quot;</td><td>&quot;&quot;</td><td>null</td><td>null</td><td>&quot;&quot;</td><td>null</td><td>null</td><td>&quot;&quot;</td><td>&quot;&quot;</td><td>&quot;&quot;</td><td>null</td><td>null</td><td>&quot;&quot;</td><td>null</td><td>null</td><td>&quot;&quot;</td><td>&quot;&quot;</td><td>&quot;&quot;</td><td>null</td><td>null</td><td>&quot;&quot;</td><td>null</td><td>null</td><td>&quot;&quot;</td><td>&quot;&quot;</td><td>&quot;&quot;</td><td>null</td><td>null</td><td>&quot;&quot;</td><td>null</td><td>null</td><td>&quot;&quot;</td><td>&quot;&quot;</td><td>null</td></tr><tr><td>2022</td><td>1</td><td>1</td><td>15</td><td>6</td><td>&quot;2022-01-15&quot;</td><td>&quot;YX&quot;</td><td>20452</td><td>&quot;YX&quot;</td><td>&quot;N122HQ&quot;</td><td>4879</td><td>11066</td><td>1106606</td><td>31066</td><td>&quot;CMH&quot;</td><td>&quot;Columbus, OH&quot;</td><td>&quot;OH&quot;</td><td>39</td><td>&quot;Ohio&quot;</td><td>44</td><td>11278</td><td>1127805</td><td>30852</td><td>&quot;DCA&quot;</td><td>&quot;Washington, DC…</td><td>&quot;VA&quot;</td><td>51</td><td>&quot;Virginia&quot;</td><td>38</td><td>1224</td><td>&quot;1214&quot;</td><td>-10.0</td><td>0.0</td><td>0.0</td><td>-1</td><td>&quot;1200-1259&quot;</td><td>19.0</td><td>&hellip;</td><td>null</td><td>null</td><td>&quot;&quot;</td><td>&quot;&quot;</td><td>&quot;&quot;</td><td>null</td><td>null</td><td>&quot;&quot;</td><td>null</td><td>null</td><td>&quot;&quot;</td><td>&quot;&quot;</td><td>&quot;&quot;</td><td>null</td><td>null</td><td>&quot;&quot;</td><td>null</td><td>null</td><td>&quot;&quot;</td><td>&quot;&quot;</td><td>&quot;&quot;</td><td>null</td><td>null</td><td>&quot;&quot;</td><td>null</td><td>null</td><td>&quot;&quot;</td><td>&quot;&quot;</td><td>&quot;&quot;</td><td>null</td><td>null</td><td>&quot;&quot;</td><td>null</td><td>null</td><td>&quot;&quot;</td><td>&quot;&quot;</td><td>null</td></tr><tr><td>2022</td><td>1</td><td>1</td><td>16</td><td>7</td><td>&quot;2022-01-16&quot;</td><td>&quot;YX&quot;</td><td>20452</td><td>&quot;YX&quot;</td><td>&quot;N412YX&quot;</td><td>4879</td><td>11066</td><td>1106606</td><td>31066</td><td>&quot;CMH&quot;</td><td>&quot;Columbus, OH&quot;</td><td>&quot;OH&quot;</td><td>39</td><td>&quot;Ohio&quot;</td><td>44</td><td>11278</td><td>1127805</td><td>30852</td><td>&quot;DCA&quot;</td><td>&quot;Washington, DC…</td><td>&quot;VA&quot;</td><td>51</td><td>&quot;Virginia&quot;</td><td>38</td><td>1224</td><td>&quot;1218&quot;</td><td>-6.0</td><td>0.0</td><td>0.0</td><td>-1</td><td>&quot;1200-1259&quot;</td><td>16.0</td><td>&hellip;</td><td>null</td><td>null</td><td>&quot;&quot;</td><td>&quot;&quot;</td><td>&quot;&quot;</td><td>null</td><td>null</td><td>&quot;&quot;</td><td>null</td><td>null</td><td>&quot;&quot;</td><td>&quot;&quot;</td><td>&quot;&quot;</td><td>null</td><td>null</td><td>&quot;&quot;</td><td>null</td><td>null</td><td>&quot;&quot;</td><td>&quot;&quot;</td><td>&quot;&quot;</td><td>null</td><td>null</td><td>&quot;&quot;</td><td>null</td><td>null</td><td>&quot;&quot;</td><td>&quot;&quot;</td><td>&quot;&quot;</td><td>null</td><td>null</td><td>&quot;&quot;</td><td>null</td><td>null</td><td>&quot;&quot;</td><td>&quot;&quot;</td><td>null</td></tr></tbody></table></div>"
      ],
      "text/plain": [
       "shape: (3, 110)\n",
       "┌──────┬─────────┬───────┬────────────┬───┬──────────────────┬───────────────┬─────────────┬──────┐\n",
       "│ Year ┆ Quarter ┆ Month ┆ DayofMonth ┆ … ┆ Div5LongestGTime ┆ Div5WheelsOff ┆ Div5TailNum ┆      │\n",
       "│ ---  ┆ ---     ┆ ---   ┆ ---        ┆   ┆ ---              ┆ ---           ┆ ---         ┆ ---  │\n",
       "│ i64  ┆ i64     ┆ i64   ┆ i64        ┆   ┆ str              ┆ str           ┆ str         ┆ str  │\n",
       "╞══════╪═════════╪═══════╪════════════╪═══╪══════════════════╪═══════════════╪═════════════╪══════╡\n",
       "│ 2022 ┆ 1       ┆ 1     ┆ 14         ┆ … ┆ null             ┆               ┆             ┆ null │\n",
       "│ 2022 ┆ 1       ┆ 1     ┆ 15         ┆ … ┆ null             ┆               ┆             ┆ null │\n",
       "│ 2022 ┆ 1       ┆ 1     ┆ 16         ┆ … ┆ null             ┆               ┆             ┆ null │\n",
       "└──────┴─────────┴───────┴────────────┴───┴──────────────────┴───────────────┴─────────────┴──────┘"
      ]
     },
     "execution_count": 25,
     "metadata": {},
     "output_type": "execute_result"
    }
   ],
   "source": [
    "full_flights.select(cs.all()).head(3)"
   ]
  },
  {
   "cell_type": "code",
   "execution_count": 26,
   "id": "25977bab-502b-4ba9-b12b-fa6504335e43",
   "metadata": {},
   "outputs": [
    {
     "data": {
      "text/html": [
       "<div><style>\n",
       ".dataframe > thead > tr,\n",
       ".dataframe > tbody > tr {\n",
       "  text-align: right;\n",
       "  white-space: pre-wrap;\n",
       "}\n",
       "</style>\n",
       "<small>shape: (3, 11)</small><table border=\"1\" class=\"dataframe\"><thead><tr><th>FlightDate</th><th>Flight_Number_Reporting_Airline</th><th>Flights</th><th>DepDelay</th><th>ArrDelay</th><th>CarrierDelay</th><th>WeatherDelay</th><th>NASDelay</th><th>SecurityDelay</th><th>LateAircraftDelay</th><th>DivArrDelay</th></tr><tr><td>str</td><td>i64</td><td>f64</td><td>f64</td><td>f64</td><td>f64</td><td>f64</td><td>f64</td><td>f64</td><td>f64</td><td>str</td></tr></thead><tbody><tr><td>&quot;2022-01-14&quot;</td><td>4879</td><td>1.0</td><td>-3.0</td><td>4.0</td><td>null</td><td>null</td><td>null</td><td>null</td><td>null</td><td>null</td></tr><tr><td>&quot;2022-01-15&quot;</td><td>4879</td><td>1.0</td><td>-10.0</td><td>-24.0</td><td>null</td><td>null</td><td>null</td><td>null</td><td>null</td><td>null</td></tr><tr><td>&quot;2022-01-16&quot;</td><td>4879</td><td>1.0</td><td>-6.0</td><td>-13.0</td><td>null</td><td>null</td><td>null</td><td>null</td><td>null</td><td>null</td></tr></tbody></table></div>"
      ],
      "text/plain": [
       "shape: (3, 11)\n",
       "┌────────────┬────────────┬─────────┬──────────┬───┬──────────┬────────────┬───────────┬───────────┐\n",
       "│ FlightDate ┆ Flight_Num ┆ Flights ┆ DepDelay ┆ … ┆ NASDelay ┆ SecurityDe ┆ LateAircr ┆ DivArrDel │\n",
       "│ ---        ┆ ber_Report ┆ ---     ┆ ---      ┆   ┆ ---      ┆ lay        ┆ aftDelay  ┆ ay        │\n",
       "│ str        ┆ ing_Airlin ┆ f64     ┆ f64      ┆   ┆ f64      ┆ ---        ┆ ---       ┆ ---       │\n",
       "│            ┆ e          ┆         ┆          ┆   ┆          ┆ f64        ┆ f64       ┆ str       │\n",
       "│            ┆ ---        ┆         ┆          ┆   ┆          ┆            ┆           ┆           │\n",
       "│            ┆ i64        ┆         ┆          ┆   ┆          ┆            ┆           ┆           │\n",
       "╞════════════╪════════════╪═════════╪══════════╪═══╪══════════╪════════════╪═══════════╪═══════════╡\n",
       "│ 2022-01-14 ┆ 4879       ┆ 1.0     ┆ -3.0     ┆ … ┆ null     ┆ null       ┆ null      ┆ null      │\n",
       "│ 2022-01-15 ┆ 4879       ┆ 1.0     ┆ -10.0    ┆ … ┆ null     ┆ null       ┆ null      ┆ null      │\n",
       "│ 2022-01-16 ┆ 4879       ┆ 1.0     ┆ -6.0     ┆ … ┆ null     ┆ null       ┆ null      ┆ null      │\n",
       "└────────────┴────────────┴─────────┴──────────┴───┴──────────┴────────────┴───────────┴───────────┘"
      ]
     },
     "execution_count": 26,
     "metadata": {},
     "output_type": "execute_result"
    }
   ],
   "source": [
    "full_flights.select(\n",
    "    cs.starts_with('Flight') | cs.ends_with('Delay')\n",
    ").head(3)"
   ]
  },
  {
   "cell_type": "code",
   "execution_count": 27,
   "id": "394efe77-1b72-4a63-989f-3fa859a4556a",
   "metadata": {},
   "outputs": [
    {
     "data": {
      "text/plain": [
       "['Year',\n",
       " 'Quarter',\n",
       " 'Month',\n",
       " 'DayofMonth',\n",
       " 'DayOfWeek',\n",
       " 'DOT_ID_Reporting_Airline',\n",
       " 'Flight_Number_Reporting_Airline',\n",
       " 'OriginAirportID',\n",
       " 'OriginAirportSeqID',\n",
       " 'OriginCityMarketID',\n",
       " 'OriginStateFips',\n",
       " 'OriginWac',\n",
       " 'DestAirportID',\n",
       " 'DestAirportSeqID',\n",
       " 'DestCityMarketID',\n",
       " 'DestStateFips',\n",
       " 'DestWac',\n",
       " 'CRSDepTime',\n",
       " 'DepartureDelayGroups',\n",
       " 'CRSArrTime',\n",
       " 'ArrivalDelayGroups',\n",
       " 'DistanceGroup',\n",
       " 'DivAirportLandings']"
      ]
     },
     "execution_count": 27,
     "metadata": {},
     "output_type": "execute_result"
    }
   ],
   "source": [
    "full_flights.select(\n",
    "    cs.by_dtype(pl.INTEGER_DTYPES)\n",
    ").columns"
   ]
  },
  {
   "cell_type": "code",
   "execution_count": 28,
   "id": "a9542d09-7502-4a70-b8ed-8a4863fd8270",
   "metadata": {},
   "outputs": [
    {
     "data": {
      "text/plain": [
       "[]"
      ]
     },
     "execution_count": 28,
     "metadata": {},
     "output_type": "execute_result"
    }
   ],
   "source": [
    "flights.columns[flights.columns == 'Year':flights.columns == 'Tail_Number']"
   ]
  },
  {
   "cell_type": "code",
   "execution_count": 29,
   "id": "1ea689b1-0614-45fd-8106-871031fbf20c",
   "metadata": {},
   "outputs": [
    {
     "data": {
      "text/plain": [
       "9"
      ]
     },
     "execution_count": 29,
     "metadata": {},
     "output_type": "execute_result"
    }
   ],
   "source": [
    "flights.get_column_index('Year'); flights.get_column_index('Tail_Number')"
   ]
  },
  {
   "cell_type": "code",
   "execution_count": 30,
   "id": "fabcf077-ea66-499a-b7a4-0e2aa60234de",
   "metadata": {},
   "outputs": [
    {
     "data": {
      "text/html": [
       "<div><style>\n",
       ".dataframe > thead > tr,\n",
       ".dataframe > tbody > tr {\n",
       "  text-align: right;\n",
       "  white-space: pre-wrap;\n",
       "}\n",
       "</style>\n",
       "<small>shape: (3, 9)</small><table border=\"1\" class=\"dataframe\"><thead><tr><th>Year</th><th>Quarter</th><th>Month</th><th>DayofMonth</th><th>DayOfWeek</th><th>FlightDate</th><th>Reporting_Airline</th><th>DOT_ID_Reporting_Airline</th><th>IATA_CODE_Reporting_Airline</th></tr><tr><td>i64</td><td>i64</td><td>i64</td><td>i64</td><td>i64</td><td>str</td><td>str</td><td>i64</td><td>str</td></tr></thead><tbody><tr><td>2022</td><td>1</td><td>1</td><td>14</td><td>5</td><td>&quot;2022-01-14&quot;</td><td>&quot;YX&quot;</td><td>20452</td><td>&quot;YX&quot;</td></tr><tr><td>2022</td><td>1</td><td>1</td><td>15</td><td>6</td><td>&quot;2022-01-15&quot;</td><td>&quot;YX&quot;</td><td>20452</td><td>&quot;YX&quot;</td></tr><tr><td>2022</td><td>1</td><td>1</td><td>16</td><td>7</td><td>&quot;2022-01-16&quot;</td><td>&quot;YX&quot;</td><td>20452</td><td>&quot;YX&quot;</td></tr></tbody></table></div>"
      ],
      "text/plain": [
       "shape: (3, 9)\n",
       "┌──────┬─────────┬───────┬────────────┬───┬────────────┬──────────────┬──────────────┬─────────────┐\n",
       "│ Year ┆ Quarter ┆ Month ┆ DayofMonth ┆ … ┆ FlightDate ┆ Reporting_Ai ┆ DOT_ID_Repor ┆ IATA_CODE_R │\n",
       "│ ---  ┆ ---     ┆ ---   ┆ ---        ┆   ┆ ---        ┆ rline        ┆ ting_Airline ┆ eporting_Ai │\n",
       "│ i64  ┆ i64     ┆ i64   ┆ i64        ┆   ┆ str        ┆ ---          ┆ ---          ┆ rline       │\n",
       "│      ┆         ┆       ┆            ┆   ┆            ┆ str          ┆ i64          ┆ ---         │\n",
       "│      ┆         ┆       ┆            ┆   ┆            ┆              ┆              ┆ str         │\n",
       "╞══════╪═════════╪═══════╪════════════╪═══╪════════════╪══════════════╪══════════════╪═════════════╡\n",
       "│ 2022 ┆ 1       ┆ 1     ┆ 14         ┆ … ┆ 2022-01-14 ┆ YX           ┆ 20452        ┆ YX          │\n",
       "│ 2022 ┆ 1       ┆ 1     ┆ 15         ┆ … ┆ 2022-01-15 ┆ YX           ┆ 20452        ┆ YX          │\n",
       "│ 2022 ┆ 1       ┆ 1     ┆ 16         ┆ … ┆ 2022-01-16 ┆ YX           ┆ 20452        ┆ YX          │\n",
       "└──────┴─────────┴───────┴────────────┴───┴────────────┴──────────────┴──────────────┴─────────────┘"
      ]
     },
     "execution_count": 30,
     "metadata": {},
     "output_type": "execute_result"
    }
   ],
   "source": [
    "flights[:,0:9].head(3)"
   ]
  },
  {
   "cell_type": "code",
   "execution_count": 31,
   "id": "d6f27739-659b-471b-ac02-0ca995d578be",
   "metadata": {},
   "outputs": [
    {
     "data": {
      "text/html": [
       "<div><style>\n",
       ".dataframe > thead > tr,\n",
       ".dataframe > tbody > tr {\n",
       "  text-align: right;\n",
       "  white-space: pre-wrap;\n",
       "}\n",
       "</style>\n",
       "<small>shape: (3, 9)</small><table border=\"1\" class=\"dataframe\"><thead><tr><th>Year</th><th>Quarter</th><th>Month</th><th>DayofMonth</th><th>DayOfWeek</th><th>FlightDate</th><th>Reporting_Airline</th><th>DOT_ID_Reporting_Airline</th><th>IATA_CODE_Reporting_Airline</th></tr><tr><td>i64</td><td>i64</td><td>i64</td><td>i64</td><td>i64</td><td>str</td><td>str</td><td>i64</td><td>str</td></tr></thead><tbody><tr><td>2022</td><td>1</td><td>1</td><td>14</td><td>5</td><td>&quot;2022-01-14&quot;</td><td>&quot;YX&quot;</td><td>20452</td><td>&quot;YX&quot;</td></tr><tr><td>2022</td><td>1</td><td>1</td><td>15</td><td>6</td><td>&quot;2022-01-15&quot;</td><td>&quot;YX&quot;</td><td>20452</td><td>&quot;YX&quot;</td></tr><tr><td>2022</td><td>1</td><td>1</td><td>16</td><td>7</td><td>&quot;2022-01-16&quot;</td><td>&quot;YX&quot;</td><td>20452</td><td>&quot;YX&quot;</td></tr></tbody></table></div>"
      ],
      "text/plain": [
       "shape: (3, 9)\n",
       "┌──────┬─────────┬───────┬────────────┬───┬────────────┬──────────────┬──────────────┬─────────────┐\n",
       "│ Year ┆ Quarter ┆ Month ┆ DayofMonth ┆ … ┆ FlightDate ┆ Reporting_Ai ┆ DOT_ID_Repor ┆ IATA_CODE_R │\n",
       "│ ---  ┆ ---     ┆ ---   ┆ ---        ┆   ┆ ---        ┆ rline        ┆ ting_Airline ┆ eporting_Ai │\n",
       "│ i64  ┆ i64     ┆ i64   ┆ i64        ┆   ┆ str        ┆ ---          ┆ ---          ┆ rline       │\n",
       "│      ┆         ┆       ┆            ┆   ┆            ┆ str          ┆ i64          ┆ ---         │\n",
       "│      ┆         ┆       ┆            ┆   ┆            ┆              ┆              ┆ str         │\n",
       "╞══════╪═════════╪═══════╪════════════╪═══╪════════════╪══════════════╪══════════════╪═════════════╡\n",
       "│ 2022 ┆ 1       ┆ 1     ┆ 14         ┆ … ┆ 2022-01-14 ┆ YX           ┆ 20452        ┆ YX          │\n",
       "│ 2022 ┆ 1       ┆ 1     ┆ 15         ┆ … ┆ 2022-01-15 ┆ YX           ┆ 20452        ┆ YX          │\n",
       "│ 2022 ┆ 1       ┆ 1     ┆ 16         ┆ … ┆ 2022-01-16 ┆ YX           ┆ 20452        ┆ YX          │\n",
       "└──────┴─────────┴───────┴────────────┴───┴────────────┴──────────────┴──────────────┴─────────────┘"
      ]
     },
     "execution_count": 31,
     "metadata": {},
     "output_type": "execute_result"
    }
   ],
   "source": [
    "flights[:,flights.get_column_index('Year'):flights.get_column_index('Tail_Number')].head(3)"
   ]
  },
  {
   "cell_type": "code",
   "execution_count": 32,
   "id": "9f2a7b4b-2bd5-4768-96e2-71a4a30c4ee0",
   "metadata": {},
   "outputs": [
    {
     "data": {
      "text/plain": [
       "['Div2Airport',\n",
       " 'Div2AirportID',\n",
       " 'Div2AirportSeqID',\n",
       " 'Div2WheelsOn',\n",
       " 'Div2TotalGTime',\n",
       " 'Div2LongestGTime',\n",
       " 'Div2WheelsOff',\n",
       " 'Div2TailNum']"
      ]
     },
     "execution_count": 32,
     "metadata": {},
     "output_type": "execute_result"
    }
   ],
   "source": [
    "flights.select(\n",
    "    cs.matches('Div2')\n",
    ").columns"
   ]
  },
  {
   "cell_type": "code",
   "execution_count": 33,
   "id": "83ee86e5-4423-4464-bef8-6695343ff4fa",
   "metadata": {},
   "outputs": [
    {
     "name": "stdout",
     "output_type": "stream",
     "text": [
      "range(3, 13)\n"
     ]
    }
   ],
   "source": [
    "print(range(3, 13))"
   ]
  },
  {
   "cell_type": "code",
   "execution_count": 34,
   "id": "61e3acc4-4010-43f1-984b-ba3938535c13",
   "metadata": {},
   "outputs": [
    {
     "name": "stdout",
     "output_type": "stream",
     "text": [
      "3\n"
     ]
    }
   ],
   "source": [
    "for i in range(3, 4):\n",
    "    print(i)"
   ]
  },
  {
   "cell_type": "code",
   "execution_count": 35,
   "id": "e24b351b-fb31-45f1-8124-d70cfa2ecdf5",
   "metadata": {},
   "outputs": [
    {
     "name": "stdout",
     "output_type": "stream",
     "text": [
      "CPU times: user 838 µs, sys: 0 ns, total: 838 µs\n",
      "Wall time: 1.07 ms\n"
     ]
    },
    {
     "data": {
      "text/plain": [
       "['Div2Airport',\n",
       " 'Div2AirportID',\n",
       " 'Div2AirportSeqID',\n",
       " 'Div2WheelsOn',\n",
       " 'Div2TotalGTime',\n",
       " 'Div2LongestGTime',\n",
       " 'Div2WheelsOff',\n",
       " 'Div2TailNum']"
      ]
     },
     "execution_count": 35,
     "metadata": {},
     "output_type": "execute_result"
    }
   ],
   "source": [
    "%%time\n",
    "full_flights.select(\n",
    "    cs.matches('Div2')\n",
    ").columns"
   ]
  },
  {
   "cell_type": "code",
   "execution_count": 36,
   "id": "01da9ed3-0424-4ba0-93f4-8637c4dcb86e",
   "metadata": {},
   "outputs": [
    {
     "name": "stdout",
     "output_type": "stream",
     "text": [
      "CPU times: user 5.67 s, sys: 268 ms, total: 5.94 s\n",
      "Wall time: 883 ms\n"
     ]
    },
    {
     "name": "stderr",
     "output_type": "stream",
     "text": [
      "PARTITIONED DS\n"
     ]
    }
   ],
   "source": [
    "%%time\n",
    "count_flights = (\n",
    "    pl.scan_csv('./data/On_Time_Reporting_Carrier_On_Time_Performance_(1987_present)_2022_*.csv')\n",
    "    .filter(\n",
    "        pl.col('OriginStateName') == 'Ohio'\n",
    "    )\n",
    "    .group_by(['Year', 'Month'])\n",
    "    .agg(\n",
    "        pl.len().alias('number of flights from Ohio')\n",
    "    )\n",
    "    .collect()\n",
    ")"
   ]
  },
  {
   "cell_type": "code",
   "execution_count": 37,
   "id": "42bd936f-2145-4071-85ed-1c40b95f1eb2",
   "metadata": {},
   "outputs": [
    {
     "data": {
      "text/html": [
       "<div><style>\n",
       ".dataframe > thead > tr,\n",
       ".dataframe > tbody > tr {\n",
       "  text-align: right;\n",
       "  white-space: pre-wrap;\n",
       "}\n",
       "</style>\n",
       "<small>shape: (12, 3)</small><table border=\"1\" class=\"dataframe\"><thead><tr><th>Year</th><th>Month</th><th>number of flights from Ohio</th></tr><tr><td>i64</td><td>i64</td><td>u32</td></tr></thead><tbody><tr><td>2022</td><td>1</td><td>7434</td></tr><tr><td>2022</td><td>2</td><td>6916</td></tr><tr><td>2022</td><td>3</td><td>7887</td></tr><tr><td>2022</td><td>4</td><td>7610</td></tr><tr><td>2022</td><td>5</td><td>7663</td></tr><tr><td>2022</td><td>6</td><td>7552</td></tr><tr><td>2022</td><td>7</td><td>7509</td></tr><tr><td>2022</td><td>8</td><td>7379</td></tr><tr><td>2022</td><td>9</td><td>7230</td></tr><tr><td>2022</td><td>10</td><td>7529</td></tr><tr><td>2022</td><td>11</td><td>7164</td></tr><tr><td>2022</td><td>12</td><td>7188</td></tr></tbody></table></div>"
      ],
      "text/plain": [
       "shape: (12, 3)\n",
       "┌──────┬───────┬─────────────────────────────┐\n",
       "│ Year ┆ Month ┆ number of flights from Ohio │\n",
       "│ ---  ┆ ---   ┆ ---                         │\n",
       "│ i64  ┆ i64   ┆ u32                         │\n",
       "╞══════╪═══════╪═════════════════════════════╡\n",
       "│ 2022 ┆ 1     ┆ 7434                        │\n",
       "│ 2022 ┆ 2     ┆ 6916                        │\n",
       "│ 2022 ┆ 3     ┆ 7887                        │\n",
       "│ 2022 ┆ 4     ┆ 7610                        │\n",
       "│ 2022 ┆ 5     ┆ 7663                        │\n",
       "│ …    ┆ …     ┆ …                           │\n",
       "│ 2022 ┆ 8     ┆ 7379                        │\n",
       "│ 2022 ┆ 9     ┆ 7230                        │\n",
       "│ 2022 ┆ 10    ┆ 7529                        │\n",
       "│ 2022 ┆ 11    ┆ 7164                        │\n",
       "│ 2022 ┆ 12    ┆ 7188                        │\n",
       "└──────┴───────┴─────────────────────────────┘"
      ]
     },
     "execution_count": 37,
     "metadata": {},
     "output_type": "execute_result"
    }
   ],
   "source": [
    "count_flights.sort(['Year', 'Month'])"
   ]
  },
  {
   "cell_type": "code",
   "execution_count": 45,
   "id": "f7d2573c-6111-40a2-b4bc-dd764cd5812f",
   "metadata": {},
   "outputs": [
    {
     "name": "stdout",
     "output_type": "stream",
     "text": [
      "CPU times: user 5.61 s, sys: 577 ms, total: 6.18 s\n",
      "Wall time: 1 s\n"
     ]
    },
    {
     "name": "stderr",
     "output_type": "stream",
     "text": [
      "PARTITIONED DS\n"
     ]
    },
    {
     "data": {
      "text/html": [
       "<div><style>\n",
       ".dataframe > thead > tr,\n",
       ".dataframe > tbody > tr {\n",
       "  text-align: right;\n",
       "  white-space: pre-wrap;\n",
       "}\n",
       "</style>\n",
       "<small>shape: (17, 3)</small><table border=\"1\" class=\"dataframe\"><thead><tr><th>Year</th><th>Reporting_Airline</th><th>number of rows</th></tr><tr><td>i64</td><td>str</td><td>u32</td></tr></thead><tbody><tr><td>2022</td><td>&quot;AS&quot;</td><td>228384</td></tr><tr><td>2022</td><td>&quot;G4&quot;</td><td>116877</td></tr><tr><td>2022</td><td>&quot;B6&quot;</td><td>273058</td></tr><tr><td>2022</td><td>&quot;NK&quot;</td><td>232400</td></tr><tr><td>2022</td><td>&quot;YX&quot;</td><td>316524</td></tr><tr><td>2022</td><td>&quot;AA&quot;</td><td>874145</td></tr><tr><td>2022</td><td>&quot;F9&quot;</td><td>155482</td></tr><tr><td>2022</td><td>&quot;UA&quot;</td><td>626473</td></tr><tr><td>2022</td><td>&quot;OH&quot;</td><td>214450</td></tr><tr><td>2022</td><td>&quot;OO&quot;</td><td>733576</td></tr><tr><td>2022</td><td>&quot;HA&quot;</td><td>73865</td></tr><tr><td>2022</td><td>&quot;MQ&quot;</td><td>248059</td></tr><tr><td>2022</td><td>&quot;YV&quot;</td><td>114779</td></tr><tr><td>2022</td><td>&quot;QX&quot;</td><td>88791</td></tr><tr><td>2022</td><td>&quot;DL&quot;</td><td>893172</td></tr><tr><td>2022</td><td>&quot;WN&quot;</td><td>1307149</td></tr><tr><td>2022</td><td>&quot;9E&quot;</td><td>231941</td></tr></tbody></table></div>"
      ],
      "text/plain": [
       "shape: (17, 3)\n",
       "┌──────┬───────────────────┬────────────────┐\n",
       "│ Year ┆ Reporting_Airline ┆ number of rows │\n",
       "│ ---  ┆ ---               ┆ ---            │\n",
       "│ i64  ┆ str               ┆ u32            │\n",
       "╞══════╪═══════════════════╪════════════════╡\n",
       "│ 2022 ┆ AS                ┆ 228384         │\n",
       "│ 2022 ┆ G4                ┆ 116877         │\n",
       "│ 2022 ┆ B6                ┆ 273058         │\n",
       "│ 2022 ┆ NK                ┆ 232400         │\n",
       "│ 2022 ┆ YX                ┆ 316524         │\n",
       "│ …    ┆ …                 ┆ …              │\n",
       "│ 2022 ┆ YV                ┆ 114779         │\n",
       "│ 2022 ┆ QX                ┆ 88791          │\n",
       "│ 2022 ┆ DL                ┆ 893172         │\n",
       "│ 2022 ┆ WN                ┆ 1307149        │\n",
       "│ 2022 ┆ 9E                ┆ 231941         │\n",
       "└──────┴───────────────────┴────────────────┘"
      ]
     },
     "execution_count": 45,
     "metadata": {},
     "output_type": "execute_result"
    }
   ],
   "source": [
    "%%time\n",
    "(\n",
    "    pl.scan_csv('./data/On_Time_Reporting_Carrier_On_Time_Performance_(1987_present)_2022_*.csv')\n",
    "    .group_by(['Year', 'Reporting_Airline'])\n",
    "    .agg(\n",
    "        pl.len().alias('number of rows')\n",
    "    )\n",
    "    .collect()\n",
    ")"
   ]
  },
  {
   "cell_type": "code",
   "execution_count": 43,
   "id": "ca949fab-2f5d-44c1-9f43-5ca7eac74cdd",
   "metadata": {},
   "outputs": [],
   "source": [
    "flights = pl.read_csv(\n",
    "    source='./data/On_Time_Reporting_Carrier_On_Time_Performance_(1987_present)_2022_12.csv',\n",
    "    separator=',',                  # single character used to separate fields, default=True\n",
    "    has_header=True,                # flag the first row has header or not, default=True\n",
    "    infer_schema_length=1000,       # maximum number of lines to read to infer schema, default=100\n",
    "    n_rows=10                       # maximum number of lines to read\n",
    ")"
   ]
  },
  {
   "cell_type": "code",
   "execution_count": 41,
   "id": "462e67f4-6f5d-4bda-a803-1282ec873e6a",
   "metadata": {},
   "outputs": [
    {
     "data": {
      "text/html": [
       "<div><style>\n",
       ".dataframe > thead > tr,\n",
       ".dataframe > tbody > tr {\n",
       "  text-align: right;\n",
       "  white-space: pre-wrap;\n",
       "}\n",
       "</style>\n",
       "<small>shape: (3, 110)</small><table border=\"1\" class=\"dataframe\"><thead><tr><th>Year</th><th>Quarter</th><th>Month</th><th>DayofMonth</th><th>DayOfWeek</th><th>FlightDate</th><th>Reporting_Airline</th><th>DOT_ID_Reporting_Airline</th><th>IATA_CODE_Reporting_Airline</th><th>Tail_Number</th><th>Flight_Number_Reporting_Airline</th><th>OriginAirportID</th><th>OriginAirportSeqID</th><th>OriginCityMarketID</th><th>Origin</th><th>OriginCityName</th><th>OriginState</th><th>OriginStateFips</th><th>OriginStateName</th><th>OriginWac</th><th>DestAirportID</th><th>DestAirportSeqID</th><th>DestCityMarketID</th><th>Dest</th><th>DestCityName</th><th>DestState</th><th>DestStateFips</th><th>DestStateName</th><th>DestWac</th><th>CRSDepTime</th><th>DepTime</th><th>DepDelay</th><th>DepDelayMinutes</th><th>DepDel15</th><th>DepartureDelayGroups</th><th>DepTimeBlk</th><th>TaxiOut</th><th>&hellip;</th><th>Div1TotalGTime</th><th>Div1LongestGTime</th><th>Div1WheelsOff</th><th>Div1TailNum</th><th>Div2Airport</th><th>Div2AirportID</th><th>Div2AirportSeqID</th><th>Div2WheelsOn</th><th>Div2TotalGTime</th><th>Div2LongestGTime</th><th>Div2WheelsOff</th><th>Div2TailNum</th><th>Div3Airport</th><th>Div3AirportID</th><th>Div3AirportSeqID</th><th>Div3WheelsOn</th><th>Div3TotalGTime</th><th>Div3LongestGTime</th><th>Div3WheelsOff</th><th>Div3TailNum</th><th>Div4Airport</th><th>Div4AirportID</th><th>Div4AirportSeqID</th><th>Div4WheelsOn</th><th>Div4TotalGTime</th><th>Div4LongestGTime</th><th>Div4WheelsOff</th><th>Div4TailNum</th><th>Div5Airport</th><th>Div5AirportID</th><th>Div5AirportSeqID</th><th>Div5WheelsOn</th><th>Div5TotalGTime</th><th>Div5LongestGTime</th><th>Div5WheelsOff</th><th>Div5TailNum</th><th></th></tr><tr><td>i64</td><td>i64</td><td>i64</td><td>i64</td><td>i64</td><td>str</td><td>str</td><td>i64</td><td>str</td><td>str</td><td>i64</td><td>i64</td><td>i64</td><td>i64</td><td>str</td><td>str</td><td>str</td><td>i64</td><td>str</td><td>i64</td><td>i64</td><td>i64</td><td>i64</td><td>str</td><td>str</td><td>str</td><td>i64</td><td>str</td><td>i64</td><td>i64</td><td>str</td><td>f64</td><td>f64</td><td>f64</td><td>i64</td><td>str</td><td>f64</td><td>&hellip;</td><td>f64</td><td>f64</td><td>str</td><td>str</td><td>str</td><td>str</td><td>str</td><td>str</td><td>str</td><td>str</td><td>str</td><td>str</td><td>str</td><td>str</td><td>str</td><td>str</td><td>str</td><td>str</td><td>str</td><td>str</td><td>str</td><td>str</td><td>str</td><td>str</td><td>str</td><td>str</td><td>str</td><td>str</td><td>str</td><td>str</td><td>str</td><td>str</td><td>str</td><td>str</td><td>str</td><td>str</td><td>str</td></tr></thead><tbody><tr><td>2022</td><td>4</td><td>12</td><td>19</td><td>1</td><td>&quot;2022-12-19&quot;</td><td>&quot;9E&quot;</td><td>20363</td><td>&quot;9E&quot;</td><td>&quot;N197PQ&quot;</td><td>4628</td><td>10529</td><td>1052907</td><td>30529</td><td>&quot;BDL&quot;</td><td>&quot;Hartford, CT&quot;</td><td>&quot;CT&quot;</td><td>9</td><td>&quot;Connecticut&quot;</td><td>11</td><td>12953</td><td>1295304</td><td>31703</td><td>&quot;LGA&quot;</td><td>&quot;New York, NY&quot;</td><td>&quot;NY&quot;</td><td>36</td><td>&quot;New York&quot;</td><td>22</td><td>523</td><td>&quot;0518&quot;</td><td>-5.0</td><td>0.0</td><td>0.0</td><td>-1</td><td>&quot;0001-0559&quot;</td><td>16.0</td><td>&hellip;</td><td>null</td><td>null</td><td>&quot;&quot;</td><td>&quot;&quot;</td><td>&quot;&quot;</td><td>null</td><td>null</td><td>&quot;&quot;</td><td>null</td><td>null</td><td>&quot;&quot;</td><td>&quot;&quot;</td><td>&quot;&quot;</td><td>null</td><td>null</td><td>&quot;&quot;</td><td>null</td><td>null</td><td>&quot;&quot;</td><td>&quot;&quot;</td><td>&quot;&quot;</td><td>null</td><td>null</td><td>&quot;&quot;</td><td>null</td><td>null</td><td>&quot;&quot;</td><td>&quot;&quot;</td><td>&quot;&quot;</td><td>null</td><td>null</td><td>&quot;&quot;</td><td>null</td><td>null</td><td>&quot;&quot;</td><td>&quot;&quot;</td><td>null</td></tr><tr><td>2022</td><td>4</td><td>12</td><td>20</td><td>2</td><td>&quot;2022-12-20&quot;</td><td>&quot;9E&quot;</td><td>20363</td><td>&quot;9E&quot;</td><td>&quot;N901XJ&quot;</td><td>4628</td><td>10529</td><td>1052907</td><td>30529</td><td>&quot;BDL&quot;</td><td>&quot;Hartford, CT&quot;</td><td>&quot;CT&quot;</td><td>9</td><td>&quot;Connecticut&quot;</td><td>11</td><td>12953</td><td>1295304</td><td>31703</td><td>&quot;LGA&quot;</td><td>&quot;New York, NY&quot;</td><td>&quot;NY&quot;</td><td>36</td><td>&quot;New York&quot;</td><td>22</td><td>523</td><td>&quot;0518&quot;</td><td>-5.0</td><td>0.0</td><td>0.0</td><td>-1</td><td>&quot;0001-0559&quot;</td><td>11.0</td><td>&hellip;</td><td>null</td><td>null</td><td>&quot;&quot;</td><td>&quot;&quot;</td><td>&quot;&quot;</td><td>null</td><td>null</td><td>&quot;&quot;</td><td>null</td><td>null</td><td>&quot;&quot;</td><td>&quot;&quot;</td><td>&quot;&quot;</td><td>null</td><td>null</td><td>&quot;&quot;</td><td>null</td><td>null</td><td>&quot;&quot;</td><td>&quot;&quot;</td><td>&quot;&quot;</td><td>null</td><td>null</td><td>&quot;&quot;</td><td>null</td><td>null</td><td>&quot;&quot;</td><td>&quot;&quot;</td><td>&quot;&quot;</td><td>null</td><td>null</td><td>&quot;&quot;</td><td>null</td><td>null</td><td>&quot;&quot;</td><td>&quot;&quot;</td><td>null</td></tr><tr><td>2022</td><td>4</td><td>12</td><td>21</td><td>3</td><td>&quot;2022-12-21&quot;</td><td>&quot;9E&quot;</td><td>20363</td><td>&quot;9E&quot;</td><td>&quot;N306PQ&quot;</td><td>4628</td><td>10529</td><td>1052907</td><td>30529</td><td>&quot;BDL&quot;</td><td>&quot;Hartford, CT&quot;</td><td>&quot;CT&quot;</td><td>9</td><td>&quot;Connecticut&quot;</td><td>11</td><td>12953</td><td>1295304</td><td>31703</td><td>&quot;LGA&quot;</td><td>&quot;New York, NY&quot;</td><td>&quot;NY&quot;</td><td>36</td><td>&quot;New York&quot;</td><td>22</td><td>523</td><td>&quot;0521&quot;</td><td>-2.0</td><td>0.0</td><td>0.0</td><td>-1</td><td>&quot;0001-0559&quot;</td><td>15.0</td><td>&hellip;</td><td>null</td><td>null</td><td>&quot;&quot;</td><td>&quot;&quot;</td><td>&quot;&quot;</td><td>null</td><td>null</td><td>&quot;&quot;</td><td>null</td><td>null</td><td>&quot;&quot;</td><td>&quot;&quot;</td><td>&quot;&quot;</td><td>null</td><td>null</td><td>&quot;&quot;</td><td>null</td><td>null</td><td>&quot;&quot;</td><td>&quot;&quot;</td><td>&quot;&quot;</td><td>null</td><td>null</td><td>&quot;&quot;</td><td>null</td><td>null</td><td>&quot;&quot;</td><td>&quot;&quot;</td><td>&quot;&quot;</td><td>null</td><td>null</td><td>&quot;&quot;</td><td>null</td><td>null</td><td>&quot;&quot;</td><td>&quot;&quot;</td><td>null</td></tr></tbody></table></div>"
      ],
      "text/plain": [
       "shape: (3, 110)\n",
       "┌──────┬─────────┬───────┬────────────┬───┬──────────────────┬───────────────┬─────────────┬──────┐\n",
       "│ Year ┆ Quarter ┆ Month ┆ DayofMonth ┆ … ┆ Div5LongestGTime ┆ Div5WheelsOff ┆ Div5TailNum ┆      │\n",
       "│ ---  ┆ ---     ┆ ---   ┆ ---        ┆   ┆ ---              ┆ ---           ┆ ---         ┆ ---  │\n",
       "│ i64  ┆ i64     ┆ i64   ┆ i64        ┆   ┆ str              ┆ str           ┆ str         ┆ str  │\n",
       "╞══════╪═════════╪═══════╪════════════╪═══╪══════════════════╪═══════════════╪═════════════╪══════╡\n",
       "│ 2022 ┆ 4       ┆ 12    ┆ 19         ┆ … ┆ null             ┆               ┆             ┆ null │\n",
       "│ 2022 ┆ 4       ┆ 12    ┆ 20         ┆ … ┆ null             ┆               ┆             ┆ null │\n",
       "│ 2022 ┆ 4       ┆ 12    ┆ 21         ┆ … ┆ null             ┆               ┆             ┆ null │\n",
       "└──────┴─────────┴───────┴────────────┴───┴──────────────────┴───────────────┴─────────────┴──────┘"
      ]
     },
     "execution_count": 41,
     "metadata": {},
     "output_type": "execute_result"
    }
   ],
   "source": [
    "flights.head(3)"
   ]
  },
  {
   "cell_type": "code",
   "execution_count": null,
   "id": "4ec582cf-96b3-4c24-9435-3b05e074f267",
   "metadata": {},
   "outputs": [],
   "source": []
  }
 ],
 "metadata": {
  "kernelspec": {
   "display_name": "Python 3 (ipykernel)",
   "language": "python",
   "name": "python3"
  },
  "language_info": {
   "codemirror_mode": {
    "name": "ipython",
    "version": 3
   },
   "file_extension": ".py",
   "mimetype": "text/x-python",
   "name": "python",
   "nbconvert_exporter": "python",
   "pygments_lexer": "ipython3",
   "version": "3.10.12"
  }
 },
 "nbformat": 4,
 "nbformat_minor": 5
}
