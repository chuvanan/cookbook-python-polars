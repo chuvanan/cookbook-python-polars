{
 "cells": [
  {
   "cell_type": "markdown",
   "id": "6bee0e59-f9e3-4954-a721-5b46c21e65d0",
   "metadata": {},
   "source": [
    "### Read multiple CSV files at once"
   ]
  },
  {
   "cell_type": "code",
   "execution_count": 3,
   "id": "4cf5b72f-bfbf-4f4d-9f6e-43a04031cba8",
   "metadata": {},
   "outputs": [],
   "source": [
    "from pathlib import Path"
   ]
  },
  {
   "cell_type": "code",
   "execution_count": 2,
   "id": "6b7f7897-8b09-46a4-9f1a-e78d6ed4b7b4",
   "metadata": {},
   "outputs": [
    {
     "data": {
      "text/plain": [
       "PosixPath('/home/anchu/Documents/learning/learn-python/cookbook-polars-for-python')"
      ]
     },
     "execution_count": 2,
     "metadata": {},
     "output_type": "execute_result"
    }
   ],
   "source": [
    "Path.cwd()"
   ]
  },
  {
   "cell_type": "code",
   "execution_count": 3,
   "id": "3d6d240f-34a4-41d4-b735-6a41740f8018",
   "metadata": {},
   "outputs": [
    {
     "data": {
      "text/plain": [
       "<generator object Path.rglob at 0x7f1d4c12ceb0>"
      ]
     },
     "execution_count": 3,
     "metadata": {},
     "output_type": "execute_result"
    }
   ],
   "source": [
    "Path.cwd().rglob('data/On_Time*.csv')"
   ]
  },
  {
   "cell_type": "code",
   "execution_count": 1,
   "id": "abbd3513-bff1-4787-92ed-1d0968603e19",
   "metadata": {},
   "outputs": [],
   "source": [
    "def convert_bytes(size):\n",
    "    \"\"\" Convert bytes to KB, or MB or GB\"\"\"\n",
    "    for x in ['bytes', 'KB', 'MB', 'GB', 'TB']:\n",
    "        if size < 1024.0:\n",
    "            return \"%3.1f %s\" % (size, x)\n",
    "        size /= 1024.0"
   ]
  },
  {
   "cell_type": "code",
   "execution_count": 6,
   "id": "0a1ae8d7-c11e-4463-a981-81a9096ca331",
   "metadata": {},
   "outputs": [
    {
     "name": "stdout",
     "output_type": "stream",
     "text": [
      "On_Time_Reporting_Carrier_On_Time_Performance_(1987_present)_2022_5.csv : 249.1 MB\n",
      "On_Time_Reporting_Carrier_On_Time_Performance_(1987_present)_2022_1.csv : 229.9 MB\n",
      "On_Time_Reporting_Carrier_On_Time_Performance_(1987_present)_2022_8.csv : 253.9 MB\n",
      "On_Time_Reporting_Carrier_On_Time_Performance_(1987_present)_2022_6.csv : 248.4 MB\n",
      "On_Time_Reporting_Carrier_On_Time_Performance_(1987_present)_2022_7.csv : 256.5 MB\n",
      "On_Time_Reporting_Carrier_On_Time_Performance_(1987_present)_2022_3.csv : 243.3 MB\n",
      "On_Time_Reporting_Carrier_On_Time_Performance_(1987_present)_2022_2.csv : 212.4 MB\n",
      "On_Time_Reporting_Carrier_On_Time_Performance_(1987_present)_2022_12.csv : 239.6 MB\n",
      "On_Time_Reporting_Carrier_On_Time_Performance_(1987_present)_2022_4.csv : 239.5 MB\n",
      "On_Time_Reporting_Carrier_On_Time_Performance_(1987_present)_2022_9.csv : 239.5 MB\n",
      "On_Time_Reporting_Carrier_On_Time_Performance_(1987_present)_2022_10.csv : 246.6 MB\n",
      "On_Time_Reporting_Carrier_On_Time_Performance_(1987_present)_2022_11.csv : 235.7 MB\n"
     ]
    }
   ],
   "source": [
    "for p in Path.cwd().rglob('data/On_Time*.csv'):\n",
    "    print(p.name, \":\", convert_bytes(p.stat().st_size))"
   ]
  },
  {
   "cell_type": "code",
   "execution_count": 5,
   "id": "494ff18c-1fa7-4c62-bcb2-b7ce73f8ee71",
   "metadata": {},
   "outputs": [],
   "source": [
    "import polars as pl"
   ]
  },
  {
   "cell_type": "code",
   "execution_count": 6,
   "id": "91f21ac2-1c7c-4f2b-91f9-c29198799e50",
   "metadata": {},
   "outputs": [
    {
     "name": "stderr",
     "output_type": "stream",
     "text": [
      "PARTITIONED DS\n"
     ]
    }
   ],
   "source": [
    "lazy_df = (\n",
    "    pl.scan_csv('./data/On_Time*.csv')\n",
    "    .group_by(['Year', 'Month'])\n",
    "    .agg(\n",
    "        pl.len().alias('Rows count')\n",
    "    )\n",
    "    .sort('Month')\n",
    "    .collect()\n",
    ")"
   ]
  },
  {
   "cell_type": "code",
   "execution_count": 7,
   "id": "a7364ff5-13a2-4f46-b1e9-f17c1633db8b",
   "metadata": {},
   "outputs": [
    {
     "data": {
      "text/html": [
       "<div><style>\n",
       ".dataframe > thead > tr,\n",
       ".dataframe > tbody > tr {\n",
       "  text-align: right;\n",
       "  white-space: pre-wrap;\n",
       "}\n",
       "</style>\n",
       "<small>shape: (12, 3)</small><table border=\"1\" class=\"dataframe\"><thead><tr><th>Year</th><th>Month</th><th>Rows count</th></tr><tr><td>i64</td><td>i64</td><td>u32</td></tr></thead><tbody><tr><td>2022</td><td>1</td><td>537902</td></tr><tr><td>2022</td><td>2</td><td>495713</td></tr><tr><td>2022</td><td>3</td><td>564853</td></tr><tr><td>2022</td><td>4</td><td>556502</td></tr><tr><td>2022</td><td>5</td><td>578819</td></tr><tr><td>2022</td><td>6</td><td>577283</td></tr><tr><td>2022</td><td>7</td><td>594957</td></tr><tr><td>2022</td><td>8</td><td>589810</td></tr><tr><td>2022</td><td>9</td><td>557494</td></tr><tr><td>2022</td><td>10</td><td>572287</td></tr><tr><td>2022</td><td>11</td><td>546410</td></tr><tr><td>2022</td><td>12</td><td>557095</td></tr></tbody></table></div>"
      ],
      "text/plain": [
       "shape: (12, 3)\n",
       "┌──────┬───────┬────────────┐\n",
       "│ Year ┆ Month ┆ Rows count │\n",
       "│ ---  ┆ ---   ┆ ---        │\n",
       "│ i64  ┆ i64   ┆ u32        │\n",
       "╞══════╪═══════╪════════════╡\n",
       "│ 2022 ┆ 1     ┆ 537902     │\n",
       "│ 2022 ┆ 2     ┆ 495713     │\n",
       "│ 2022 ┆ 3     ┆ 564853     │\n",
       "│ 2022 ┆ 4     ┆ 556502     │\n",
       "│ 2022 ┆ 5     ┆ 578819     │\n",
       "│ …    ┆ …     ┆ …          │\n",
       "│ 2022 ┆ 8     ┆ 589810     │\n",
       "│ 2022 ┆ 9     ┆ 557494     │\n",
       "│ 2022 ┆ 10    ┆ 572287     │\n",
       "│ 2022 ┆ 11    ┆ 546410     │\n",
       "│ 2022 ┆ 12    ┆ 557095     │\n",
       "└──────┴───────┴────────────┘"
      ]
     },
     "execution_count": 7,
     "metadata": {},
     "output_type": "execute_result"
    }
   ],
   "source": [
    "lazy_df"
   ]
  },
  {
   "cell_type": "code",
   "execution_count": 9,
   "id": "c0c806cf-2a10-4b34-b0a6-2d1b6f922e1d",
   "metadata": {},
   "outputs": [],
   "source": [
    "import polars as pl"
   ]
  },
  {
   "cell_type": "code",
   "execution_count": 11,
   "id": "87c587ba-9970-4a83-9723-e84984e4fa79",
   "metadata": {},
   "outputs": [
    {
     "data": {
      "text/plain": [
       "[shape: (1, 3)\n",
       " ┌──────┬───────┬────────────┐\n",
       " │ Year ┆ Month ┆ Rows Count │\n",
       " │ ---  ┆ ---   ┆ ---        │\n",
       " │ i64  ┆ i64   ┆ u32        │\n",
       " ╞══════╪═══════╪════════════╡\n",
       " │ 2022 ┆ 5     ┆ 578819     │\n",
       " └──────┴───────┴────────────┘,\n",
       " shape: (1, 3)\n",
       " ┌──────┬───────┬────────────┐\n",
       " │ Year ┆ Month ┆ Rows Count │\n",
       " │ ---  ┆ ---   ┆ ---        │\n",
       " │ i64  ┆ i64   ┆ u32        │\n",
       " ╞══════╪═══════╪════════════╡\n",
       " │ 2022 ┆ 1     ┆ 537902     │\n",
       " └──────┴───────┴────────────┘,\n",
       " shape: (1, 3)\n",
       " ┌──────┬───────┬────────────┐\n",
       " │ Year ┆ Month ┆ Rows Count │\n",
       " │ ---  ┆ ---   ┆ ---        │\n",
       " │ i64  ┆ i64   ┆ u32        │\n",
       " ╞══════╪═══════╪════════════╡\n",
       " │ 2022 ┆ 8     ┆ 589810     │\n",
       " └──────┴───────┴────────────┘]"
      ]
     },
     "execution_count": 11,
     "metadata": {},
     "output_type": "execute_result"
    }
   ],
   "source": [
    "queries = []\n",
    "for p in Path.cwd().rglob('data/On_Time*.csv'):\n",
    "    q = (\n",
    "        pl.scan_csv(p)\n",
    "        .group_by(['Year', 'Month'])\n",
    "        .agg(\n",
    "            pl.len().alias('Rows Count')\n",
    "        )\n",
    "    )\n",
    "    queries.append(q)\n",
    "\n",
    "dfs = pl.collect_all(queries)\n",
    "dfs[:3]"
   ]
  },
  {
   "cell_type": "code",
   "execution_count": null,
   "id": "aa96c7fe-7951-4315-bb92-8824d0a0cc43",
   "metadata": {},
   "outputs": [],
   "source": []
  },
  {
   "cell_type": "code",
   "execution_count": null,
   "id": "ed1e8cf1-d9cd-4fa2-8f76-87e66494ec31",
   "metadata": {},
   "outputs": [],
   "source": []
  },
  {
   "cell_type": "code",
   "execution_count": null,
   "id": "2908a233-d675-471a-b232-546970281b3c",
   "metadata": {},
   "outputs": [],
   "source": []
  }
 ],
 "metadata": {
  "kernelspec": {
   "display_name": "Python 3 (ipykernel)",
   "language": "python",
   "name": "python3"
  },
  "language_info": {
   "codemirror_mode": {
    "name": "ipython",
    "version": 3
   },
   "file_extension": ".py",
   "mimetype": "text/x-python",
   "name": "python",
   "nbconvert_exporter": "python",
   "pygments_lexer": "ipython3",
   "version": "3.10.12"
  }
 },
 "nbformat": 4,
 "nbformat_minor": 5
}
