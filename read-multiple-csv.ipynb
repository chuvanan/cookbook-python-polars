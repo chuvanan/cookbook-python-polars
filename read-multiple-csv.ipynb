{
 "cells": [
  {
   "cell_type": "markdown",
   "id": "6bee0e59-f9e3-4954-a721-5b46c21e65d0",
   "metadata": {},
   "source": [
    "### Read multiple CSV files at once"
   ]
  },
  {
   "cell_type": "code",
   "execution_count": 1,
   "id": "4cf5b72f-bfbf-4f4d-9f6e-43a04031cba8",
   "metadata": {},
   "outputs": [],
   "source": [
    "from pathlib import Path"
   ]
  },
  {
   "cell_type": "code",
   "execution_count": 2,
   "id": "6b7f7897-8b09-46a4-9f1a-e78d6ed4b7b4",
   "metadata": {},
   "outputs": [
    {
     "data": {
      "text/plain": [
       "PosixPath('/home/anchu/Documents/learning/learn-python/cookbook-polars-for-python')"
      ]
     },
     "execution_count": 2,
     "metadata": {},
     "output_type": "execute_result"
    }
   ],
   "source": [
    "Path.cwd()"
   ]
  },
  {
   "cell_type": "code",
   "execution_count": 3,
   "id": "3d6d240f-34a4-41d4-b735-6a41740f8018",
   "metadata": {},
   "outputs": [
    {
     "data": {
      "text/plain": [
       "<generator object Path.rglob at 0x7fbed6b53760>"
      ]
     },
     "execution_count": 3,
     "metadata": {},
     "output_type": "execute_result"
    }
   ],
   "source": [
    "Path.cwd().rglob('data/On_Time*.csv')"
   ]
  },
  {
   "cell_type": "code",
   "execution_count": 6,
   "id": "0a1ae8d7-c11e-4463-a981-81a9096ca331",
   "metadata": {},
   "outputs": [
    {
     "name": "stdout",
     "output_type": "stream",
     "text": [
      "/home/anchu/Documents/learning/learn-python/cookbook-polars-for-python/data/On_Time_Reporting_Carrier_On_Time_Performance_(1987_present)_2022_1.csv\n",
      "/home/anchu/Documents/learning/learn-python/cookbook-polars-for-python/data/On_Time_Reporting_Carrier_On_Time_Performance_(1987_present)_2022_2.csv\n"
     ]
    }
   ],
   "source": [
    "for p in Path.cwd().rglob('data/On_Time*.csv'):\n",
    "    print(p)"
   ]
  },
  {
   "cell_type": "code",
   "execution_count": 7,
   "id": "494ff18c-1fa7-4c62-bcb2-b7ce73f8ee71",
   "metadata": {},
   "outputs": [],
   "source": [
    "import polars as pl"
   ]
  },
  {
   "cell_type": "code",
   "execution_count": 16,
   "id": "91f21ac2-1c7c-4f2b-91f9-c29198799e50",
   "metadata": {},
   "outputs": [
    {
     "name": "stderr",
     "output_type": "stream",
     "text": [
      "PARTITIONED DS\n"
     ]
    }
   ],
   "source": [
    "lazy_df = (\n",
    "    pl.scan_csv('./data/On_Time*.csv')\n",
    "    .group_by(['Year', 'Month'])\n",
    "    .agg(\n",
    "        pl.len().alias('num_row')\n",
    "    )\n",
    "    .collect()\n",
    ")"
   ]
  },
  {
   "cell_type": "code",
   "execution_count": 17,
   "id": "a7364ff5-13a2-4f46-b1e9-f17c1633db8b",
   "metadata": {},
   "outputs": [
    {
     "data": {
      "text/html": [
       "<div><style>\n",
       ".dataframe > thead > tr,\n",
       ".dataframe > tbody > tr {\n",
       "  text-align: right;\n",
       "  white-space: pre-wrap;\n",
       "}\n",
       "</style>\n",
       "<small>shape: (2, 3)</small><table border=\"1\" class=\"dataframe\"><thead><tr><th>Year</th><th>Month</th><th>num_row</th></tr><tr><td>i64</td><td>i64</td><td>u32</td></tr></thead><tbody><tr><td>2022</td><td>1</td><td>537902</td></tr><tr><td>2022</td><td>2</td><td>495713</td></tr></tbody></table></div>"
      ],
      "text/plain": [
       "shape: (2, 3)\n",
       "┌──────┬───────┬─────────┐\n",
       "│ Year ┆ Month ┆ num_row │\n",
       "│ ---  ┆ ---   ┆ ---     │\n",
       "│ i64  ┆ i64   ┆ u32     │\n",
       "╞══════╪═══════╪═════════╡\n",
       "│ 2022 ┆ 1     ┆ 537902  │\n",
       "│ 2022 ┆ 2     ┆ 495713  │\n",
       "└──────┴───────┴─────────┘"
      ]
     },
     "execution_count": 17,
     "metadata": {},
     "output_type": "execute_result"
    }
   ],
   "source": [
    "lazy_df"
   ]
  }
 ],
 "metadata": {
  "kernelspec": {
   "display_name": "Python 3 (ipykernel)",
   "language": "python",
   "name": "python3"
  },
  "language_info": {
   "codemirror_mode": {
    "name": "ipython",
    "version": 3
   },
   "file_extension": ".py",
   "mimetype": "text/x-python",
   "name": "python",
   "nbconvert_exporter": "python",
   "pygments_lexer": "ipython3",
   "version": "3.10.12"
  }
 },
 "nbformat": 4,
 "nbformat_minor": 5
}
